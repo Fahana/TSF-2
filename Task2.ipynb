{
 "cells": [
  {
   "cell_type": "markdown",
   "metadata": {},
   "source": [
    "#  The Sparks Foundation \n",
    "## Data Science and Business Analytics Internship\n",
    "## Task-3 Exploratory Data Analysis on SampleSuperstore\n",
    "\n",
    "### As a business manager, try to find out the weak areas where you can work to make more profit.\n",
    "### What all business problems you can derive by exploring the data?\n"
   ]
  },
  {
   "cell_type": "markdown",
   "metadata": {},
   "source": [
    "### Importing Packages\n"
   ]
  },
  {
   "cell_type": "code",
   "execution_count": 2,
   "metadata": {},
   "outputs": [],
   "source": [
    "import numpy as np \n",
    "import pandas as pd\n",
    "import matplotlib.pyplot as plt\n",
    "import seaborn as sns"
   ]
  },
  {
   "cell_type": "markdown",
   "metadata": {},
   "source": [
    "### Reading the file"
   ]
  },
  {
   "cell_type": "code",
   "execution_count": 3,
   "metadata": {},
   "outputs": [],
   "source": [
    "dataset=pd.read_csv('SampleSuperstore.csv')\n"
   ]
  },
  {
   "cell_type": "markdown",
   "metadata": {},
   "source": [
    "### Displaying First 10 values in the dataset"
   ]
  },
  {
   "cell_type": "code",
   "execution_count": 5,
   "metadata": {},
   "outputs": [
    {
     "data": {
      "text/html": [
       "<div>\n",
       "<style scoped>\n",
       "    .dataframe tbody tr th:only-of-type {\n",
       "        vertical-align: middle;\n",
       "    }\n",
       "\n",
       "    .dataframe tbody tr th {\n",
       "        vertical-align: top;\n",
       "    }\n",
       "\n",
       "    .dataframe thead th {\n",
       "        text-align: right;\n",
       "    }\n",
       "</style>\n",
       "<table border=\"1\" class=\"dataframe\">\n",
       "  <thead>\n",
       "    <tr style=\"text-align: right;\">\n",
       "      <th></th>\n",
       "      <th>Ship Mode</th>\n",
       "      <th>Segment</th>\n",
       "      <th>Country</th>\n",
       "      <th>City</th>\n",
       "      <th>State</th>\n",
       "      <th>Postal Code</th>\n",
       "      <th>Region</th>\n",
       "      <th>Category</th>\n",
       "      <th>Sub-Category</th>\n",
       "      <th>Sales</th>\n",
       "      <th>Quantity</th>\n",
       "      <th>Discount</th>\n",
       "      <th>Profit</th>\n",
       "    </tr>\n",
       "  </thead>\n",
       "  <tbody>\n",
       "    <tr>\n",
       "      <th>0</th>\n",
       "      <td>Second Class</td>\n",
       "      <td>Consumer</td>\n",
       "      <td>United States</td>\n",
       "      <td>Henderson</td>\n",
       "      <td>Kentucky</td>\n",
       "      <td>42420</td>\n",
       "      <td>South</td>\n",
       "      <td>Furniture</td>\n",
       "      <td>Bookcases</td>\n",
       "      <td>261.9600</td>\n",
       "      <td>2</td>\n",
       "      <td>0.00</td>\n",
       "      <td>41.9136</td>\n",
       "    </tr>\n",
       "    <tr>\n",
       "      <th>1</th>\n",
       "      <td>Second Class</td>\n",
       "      <td>Consumer</td>\n",
       "      <td>United States</td>\n",
       "      <td>Henderson</td>\n",
       "      <td>Kentucky</td>\n",
       "      <td>42420</td>\n",
       "      <td>South</td>\n",
       "      <td>Furniture</td>\n",
       "      <td>Chairs</td>\n",
       "      <td>731.9400</td>\n",
       "      <td>3</td>\n",
       "      <td>0.00</td>\n",
       "      <td>219.5820</td>\n",
       "    </tr>\n",
       "    <tr>\n",
       "      <th>2</th>\n",
       "      <td>Second Class</td>\n",
       "      <td>Corporate</td>\n",
       "      <td>United States</td>\n",
       "      <td>Los Angeles</td>\n",
       "      <td>California</td>\n",
       "      <td>90036</td>\n",
       "      <td>West</td>\n",
       "      <td>Office Supplies</td>\n",
       "      <td>Labels</td>\n",
       "      <td>14.6200</td>\n",
       "      <td>2</td>\n",
       "      <td>0.00</td>\n",
       "      <td>6.8714</td>\n",
       "    </tr>\n",
       "    <tr>\n",
       "      <th>3</th>\n",
       "      <td>Standard Class</td>\n",
       "      <td>Consumer</td>\n",
       "      <td>United States</td>\n",
       "      <td>Fort Lauderdale</td>\n",
       "      <td>Florida</td>\n",
       "      <td>33311</td>\n",
       "      <td>South</td>\n",
       "      <td>Furniture</td>\n",
       "      <td>Tables</td>\n",
       "      <td>957.5775</td>\n",
       "      <td>5</td>\n",
       "      <td>0.45</td>\n",
       "      <td>-383.0310</td>\n",
       "    </tr>\n",
       "    <tr>\n",
       "      <th>4</th>\n",
       "      <td>Standard Class</td>\n",
       "      <td>Consumer</td>\n",
       "      <td>United States</td>\n",
       "      <td>Fort Lauderdale</td>\n",
       "      <td>Florida</td>\n",
       "      <td>33311</td>\n",
       "      <td>South</td>\n",
       "      <td>Office Supplies</td>\n",
       "      <td>Storage</td>\n",
       "      <td>22.3680</td>\n",
       "      <td>2</td>\n",
       "      <td>0.20</td>\n",
       "      <td>2.5164</td>\n",
       "    </tr>\n",
       "    <tr>\n",
       "      <th>5</th>\n",
       "      <td>Standard Class</td>\n",
       "      <td>Consumer</td>\n",
       "      <td>United States</td>\n",
       "      <td>Los Angeles</td>\n",
       "      <td>California</td>\n",
       "      <td>90032</td>\n",
       "      <td>West</td>\n",
       "      <td>Furniture</td>\n",
       "      <td>Furnishings</td>\n",
       "      <td>48.8600</td>\n",
       "      <td>7</td>\n",
       "      <td>0.00</td>\n",
       "      <td>14.1694</td>\n",
       "    </tr>\n",
       "    <tr>\n",
       "      <th>6</th>\n",
       "      <td>Standard Class</td>\n",
       "      <td>Consumer</td>\n",
       "      <td>United States</td>\n",
       "      <td>Los Angeles</td>\n",
       "      <td>California</td>\n",
       "      <td>90032</td>\n",
       "      <td>West</td>\n",
       "      <td>Office Supplies</td>\n",
       "      <td>Art</td>\n",
       "      <td>7.2800</td>\n",
       "      <td>4</td>\n",
       "      <td>0.00</td>\n",
       "      <td>1.9656</td>\n",
       "    </tr>\n",
       "    <tr>\n",
       "      <th>7</th>\n",
       "      <td>Standard Class</td>\n",
       "      <td>Consumer</td>\n",
       "      <td>United States</td>\n",
       "      <td>Los Angeles</td>\n",
       "      <td>California</td>\n",
       "      <td>90032</td>\n",
       "      <td>West</td>\n",
       "      <td>Technology</td>\n",
       "      <td>Phones</td>\n",
       "      <td>907.1520</td>\n",
       "      <td>6</td>\n",
       "      <td>0.20</td>\n",
       "      <td>90.7152</td>\n",
       "    </tr>\n",
       "    <tr>\n",
       "      <th>8</th>\n",
       "      <td>Standard Class</td>\n",
       "      <td>Consumer</td>\n",
       "      <td>United States</td>\n",
       "      <td>Los Angeles</td>\n",
       "      <td>California</td>\n",
       "      <td>90032</td>\n",
       "      <td>West</td>\n",
       "      <td>Office Supplies</td>\n",
       "      <td>Binders</td>\n",
       "      <td>18.5040</td>\n",
       "      <td>3</td>\n",
       "      <td>0.20</td>\n",
       "      <td>5.7825</td>\n",
       "    </tr>\n",
       "    <tr>\n",
       "      <th>9</th>\n",
       "      <td>Standard Class</td>\n",
       "      <td>Consumer</td>\n",
       "      <td>United States</td>\n",
       "      <td>Los Angeles</td>\n",
       "      <td>California</td>\n",
       "      <td>90032</td>\n",
       "      <td>West</td>\n",
       "      <td>Office Supplies</td>\n",
       "      <td>Appliances</td>\n",
       "      <td>114.9000</td>\n",
       "      <td>5</td>\n",
       "      <td>0.00</td>\n",
       "      <td>34.4700</td>\n",
       "    </tr>\n",
       "  </tbody>\n",
       "</table>\n",
       "</div>"
      ],
      "text/plain": [
       "        Ship Mode    Segment        Country             City       State  \\\n",
       "0    Second Class   Consumer  United States        Henderson    Kentucky   \n",
       "1    Second Class   Consumer  United States        Henderson    Kentucky   \n",
       "2    Second Class  Corporate  United States      Los Angeles  California   \n",
       "3  Standard Class   Consumer  United States  Fort Lauderdale     Florida   \n",
       "4  Standard Class   Consumer  United States  Fort Lauderdale     Florida   \n",
       "5  Standard Class   Consumer  United States      Los Angeles  California   \n",
       "6  Standard Class   Consumer  United States      Los Angeles  California   \n",
       "7  Standard Class   Consumer  United States      Los Angeles  California   \n",
       "8  Standard Class   Consumer  United States      Los Angeles  California   \n",
       "9  Standard Class   Consumer  United States      Los Angeles  California   \n",
       "\n",
       "   Postal Code Region         Category Sub-Category     Sales  Quantity  \\\n",
       "0        42420  South        Furniture    Bookcases  261.9600         2   \n",
       "1        42420  South        Furniture       Chairs  731.9400         3   \n",
       "2        90036   West  Office Supplies       Labels   14.6200         2   \n",
       "3        33311  South        Furniture       Tables  957.5775         5   \n",
       "4        33311  South  Office Supplies      Storage   22.3680         2   \n",
       "5        90032   West        Furniture  Furnishings   48.8600         7   \n",
       "6        90032   West  Office Supplies          Art    7.2800         4   \n",
       "7        90032   West       Technology       Phones  907.1520         6   \n",
       "8        90032   West  Office Supplies      Binders   18.5040         3   \n",
       "9        90032   West  Office Supplies   Appliances  114.9000         5   \n",
       "\n",
       "   Discount    Profit  \n",
       "0      0.00   41.9136  \n",
       "1      0.00  219.5820  \n",
       "2      0.00    6.8714  \n",
       "3      0.45 -383.0310  \n",
       "4      0.20    2.5164  \n",
       "5      0.00   14.1694  \n",
       "6      0.00    1.9656  \n",
       "7      0.20   90.7152  \n",
       "8      0.20    5.7825  \n",
       "9      0.00   34.4700  "
      ]
     },
     "execution_count": 5,
     "metadata": {},
     "output_type": "execute_result"
    }
   ],
   "source": [
    "dataset.head(10)"
   ]
  },
  {
   "cell_type": "markdown",
   "metadata": {},
   "source": [
    "### Displaying any random 5 rows in the dataset\n"
   ]
  },
  {
   "cell_type": "code",
   "execution_count": 125,
   "metadata": {},
   "outputs": [
    {
     "data": {
      "text/html": [
       "<div>\n",
       "<style scoped>\n",
       "    .dataframe tbody tr th:only-of-type {\n",
       "        vertical-align: middle;\n",
       "    }\n",
       "\n",
       "    .dataframe tbody tr th {\n",
       "        vertical-align: top;\n",
       "    }\n",
       "\n",
       "    .dataframe thead th {\n",
       "        text-align: right;\n",
       "    }\n",
       "</style>\n",
       "<table border=\"1\" class=\"dataframe\">\n",
       "  <thead>\n",
       "    <tr style=\"text-align: right;\">\n",
       "      <th></th>\n",
       "      <th>Ship Mode</th>\n",
       "      <th>Segment</th>\n",
       "      <th>Country</th>\n",
       "      <th>City</th>\n",
       "      <th>State</th>\n",
       "      <th>Postal Code</th>\n",
       "      <th>Region</th>\n",
       "      <th>Category</th>\n",
       "      <th>Sub-Category</th>\n",
       "      <th>Sales</th>\n",
       "      <th>Quantity</th>\n",
       "      <th>Discount</th>\n",
       "      <th>Profit</th>\n",
       "    </tr>\n",
       "  </thead>\n",
       "  <tbody>\n",
       "    <tr>\n",
       "      <th>5286</th>\n",
       "      <td>First Class</td>\n",
       "      <td>Consumer</td>\n",
       "      <td>United States</td>\n",
       "      <td>Louisville</td>\n",
       "      <td>Colorado</td>\n",
       "      <td>80027</td>\n",
       "      <td>West</td>\n",
       "      <td>Office Supplies</td>\n",
       "      <td>Binders</td>\n",
       "      <td>9.552</td>\n",
       "      <td>8</td>\n",
       "      <td>0.7</td>\n",
       "      <td>-7.3232</td>\n",
       "    </tr>\n",
       "    <tr>\n",
       "      <th>3420</th>\n",
       "      <td>Standard Class</td>\n",
       "      <td>Consumer</td>\n",
       "      <td>United States</td>\n",
       "      <td>Los Angeles</td>\n",
       "      <td>California</td>\n",
       "      <td>90004</td>\n",
       "      <td>West</td>\n",
       "      <td>Office Supplies</td>\n",
       "      <td>Appliances</td>\n",
       "      <td>262.240</td>\n",
       "      <td>2</td>\n",
       "      <td>0.0</td>\n",
       "      <td>78.6720</td>\n",
       "    </tr>\n",
       "    <tr>\n",
       "      <th>7443</th>\n",
       "      <td>First Class</td>\n",
       "      <td>Corporate</td>\n",
       "      <td>United States</td>\n",
       "      <td>Brownsville</td>\n",
       "      <td>Texas</td>\n",
       "      <td>78521</td>\n",
       "      <td>Central</td>\n",
       "      <td>Office Supplies</td>\n",
       "      <td>Storage</td>\n",
       "      <td>237.096</td>\n",
       "      <td>3</td>\n",
       "      <td>0.2</td>\n",
       "      <td>20.7459</td>\n",
       "    </tr>\n",
       "    <tr>\n",
       "      <th>5413</th>\n",
       "      <td>First Class</td>\n",
       "      <td>Consumer</td>\n",
       "      <td>United States</td>\n",
       "      <td>Wichita</td>\n",
       "      <td>Kansas</td>\n",
       "      <td>67212</td>\n",
       "      <td>Central</td>\n",
       "      <td>Technology</td>\n",
       "      <td>Phones</td>\n",
       "      <td>224.750</td>\n",
       "      <td>5</td>\n",
       "      <td>0.0</td>\n",
       "      <td>62.9300</td>\n",
       "    </tr>\n",
       "    <tr>\n",
       "      <th>94</th>\n",
       "      <td>Second Class</td>\n",
       "      <td>Consumer</td>\n",
       "      <td>United States</td>\n",
       "      <td>Minneapolis</td>\n",
       "      <td>Minnesota</td>\n",
       "      <td>55407</td>\n",
       "      <td>Central</td>\n",
       "      <td>Office Supplies</td>\n",
       "      <td>Binders</td>\n",
       "      <td>32.960</td>\n",
       "      <td>2</td>\n",
       "      <td>0.0</td>\n",
       "      <td>16.1504</td>\n",
       "    </tr>\n",
       "  </tbody>\n",
       "</table>\n",
       "</div>"
      ],
      "text/plain": [
       "           Ship Mode    Segment        Country         City       State  \\\n",
       "5286     First Class   Consumer  United States   Louisville    Colorado   \n",
       "3420  Standard Class   Consumer  United States  Los Angeles  California   \n",
       "7443     First Class  Corporate  United States  Brownsville       Texas   \n",
       "5413     First Class   Consumer  United States      Wichita      Kansas   \n",
       "94      Second Class   Consumer  United States  Minneapolis   Minnesota   \n",
       "\n",
       "      Postal Code   Region         Category Sub-Category    Sales  Quantity  \\\n",
       "5286        80027     West  Office Supplies      Binders    9.552         8   \n",
       "3420        90004     West  Office Supplies   Appliances  262.240         2   \n",
       "7443        78521  Central  Office Supplies      Storage  237.096         3   \n",
       "5413        67212  Central       Technology       Phones  224.750         5   \n",
       "94          55407  Central  Office Supplies      Binders   32.960         2   \n",
       "\n",
       "      Discount   Profit  \n",
       "5286       0.7  -7.3232  \n",
       "3420       0.0  78.6720  \n",
       "7443       0.2  20.7459  \n",
       "5413       0.0  62.9300  \n",
       "94         0.0  16.1504  "
      ]
     },
     "execution_count": 125,
     "metadata": {},
     "output_type": "execute_result"
    }
   ],
   "source": [
    "dataset.sample(5)"
   ]
  },
  {
   "cell_type": "markdown",
   "metadata": {},
   "source": [
    "### Determining Missing values if any\n"
   ]
  },
  {
   "cell_type": "code",
   "execution_count": 7,
   "metadata": {},
   "outputs": [
    {
     "data": {
      "text/plain": [
       "Ship Mode       0\n",
       "Segment         0\n",
       "Country         0\n",
       "City            0\n",
       "State           0\n",
       "Postal Code     0\n",
       "Region          0\n",
       "Category        0\n",
       "Sub-Category    0\n",
       "Sales           0\n",
       "Quantity        0\n",
       "Discount        0\n",
       "Profit          0\n",
       "dtype: int64"
      ]
     },
     "execution_count": 7,
     "metadata": {},
     "output_type": "execute_result"
    }
   ],
   "source": [
    "dataset.isnull().sum()\n"
   ]
  },
  {
   "cell_type": "markdown",
   "metadata": {},
   "source": [
    "### Datatypes of the columns"
   ]
  },
  {
   "cell_type": "code",
   "execution_count": 8,
   "metadata": {},
   "outputs": [
    {
     "data": {
      "text/plain": [
       "Ship Mode        object\n",
       "Segment          object\n",
       "Country          object\n",
       "City             object\n",
       "State            object\n",
       "Postal Code       int64\n",
       "Region           object\n",
       "Category         object\n",
       "Sub-Category     object\n",
       "Sales           float64\n",
       "Quantity          int64\n",
       "Discount        float64\n",
       "Profit          float64\n",
       "dtype: object"
      ]
     },
     "execution_count": 8,
     "metadata": {},
     "output_type": "execute_result"
    }
   ],
   "source": [
    "dataset.dtypes"
   ]
  },
  {
   "cell_type": "markdown",
   "metadata": {},
   "source": [
    "### Shape of the dataset"
   ]
  },
  {
   "cell_type": "code",
   "execution_count": 9,
   "metadata": {},
   "outputs": [
    {
     "data": {
      "text/plain": [
       "(9994, 13)"
      ]
     },
     "execution_count": 9,
     "metadata": {},
     "output_type": "execute_result"
    }
   ],
   "source": [
    "dataset.shape\n"
   ]
  },
  {
   "cell_type": "markdown",
   "metadata": {},
   "source": [
    "### Information about the dataset"
   ]
  },
  {
   "cell_type": "code",
   "execution_count": 10,
   "metadata": {},
   "outputs": [
    {
     "name": "stdout",
     "output_type": "stream",
     "text": [
      "<class 'pandas.core.frame.DataFrame'>\n",
      "RangeIndex: 9994 entries, 0 to 9993\n",
      "Data columns (total 13 columns):\n",
      " #   Column        Non-Null Count  Dtype  \n",
      "---  ------        --------------  -----  \n",
      " 0   Ship Mode     9994 non-null   object \n",
      " 1   Segment       9994 non-null   object \n",
      " 2   Country       9994 non-null   object \n",
      " 3   City          9994 non-null   object \n",
      " 4   State         9994 non-null   object \n",
      " 5   Postal Code   9994 non-null   int64  \n",
      " 6   Region        9994 non-null   object \n",
      " 7   Category      9994 non-null   object \n",
      " 8   Sub-Category  9994 non-null   object \n",
      " 9   Sales         9994 non-null   float64\n",
      " 10  Quantity      9994 non-null   int64  \n",
      " 11  Discount      9994 non-null   float64\n",
      " 12  Profit        9994 non-null   float64\n",
      "dtypes: float64(3), int64(2), object(8)\n",
      "memory usage: 1015.1+ KB\n"
     ]
    }
   ],
   "source": [
    "dataset.info() "
   ]
  },
  {
   "cell_type": "markdown",
   "metadata": {},
   "source": [
    "### Statistical Description about the dataset\n"
   ]
  },
  {
   "cell_type": "code",
   "execution_count": 11,
   "metadata": {},
   "outputs": [
    {
     "data": {
      "text/html": [
       "<div>\n",
       "<style scoped>\n",
       "    .dataframe tbody tr th:only-of-type {\n",
       "        vertical-align: middle;\n",
       "    }\n",
       "\n",
       "    .dataframe tbody tr th {\n",
       "        vertical-align: top;\n",
       "    }\n",
       "\n",
       "    .dataframe thead th {\n",
       "        text-align: right;\n",
       "    }\n",
       "</style>\n",
       "<table border=\"1\" class=\"dataframe\">\n",
       "  <thead>\n",
       "    <tr style=\"text-align: right;\">\n",
       "      <th></th>\n",
       "      <th>Postal Code</th>\n",
       "      <th>Sales</th>\n",
       "      <th>Quantity</th>\n",
       "      <th>Discount</th>\n",
       "      <th>Profit</th>\n",
       "    </tr>\n",
       "  </thead>\n",
       "  <tbody>\n",
       "    <tr>\n",
       "      <th>count</th>\n",
       "      <td>9994.000000</td>\n",
       "      <td>9994.000000</td>\n",
       "      <td>9994.000000</td>\n",
       "      <td>9994.000000</td>\n",
       "      <td>9994.000000</td>\n",
       "    </tr>\n",
       "    <tr>\n",
       "      <th>mean</th>\n",
       "      <td>55190.379428</td>\n",
       "      <td>229.858001</td>\n",
       "      <td>3.789574</td>\n",
       "      <td>0.156203</td>\n",
       "      <td>28.656896</td>\n",
       "    </tr>\n",
       "    <tr>\n",
       "      <th>std</th>\n",
       "      <td>32063.693350</td>\n",
       "      <td>623.245101</td>\n",
       "      <td>2.225110</td>\n",
       "      <td>0.206452</td>\n",
       "      <td>234.260108</td>\n",
       "    </tr>\n",
       "    <tr>\n",
       "      <th>min</th>\n",
       "      <td>1040.000000</td>\n",
       "      <td>0.444000</td>\n",
       "      <td>1.000000</td>\n",
       "      <td>0.000000</td>\n",
       "      <td>-6599.978000</td>\n",
       "    </tr>\n",
       "    <tr>\n",
       "      <th>25%</th>\n",
       "      <td>23223.000000</td>\n",
       "      <td>17.280000</td>\n",
       "      <td>2.000000</td>\n",
       "      <td>0.000000</td>\n",
       "      <td>1.728750</td>\n",
       "    </tr>\n",
       "    <tr>\n",
       "      <th>50%</th>\n",
       "      <td>56430.500000</td>\n",
       "      <td>54.490000</td>\n",
       "      <td>3.000000</td>\n",
       "      <td>0.200000</td>\n",
       "      <td>8.666500</td>\n",
       "    </tr>\n",
       "    <tr>\n",
       "      <th>75%</th>\n",
       "      <td>90008.000000</td>\n",
       "      <td>209.940000</td>\n",
       "      <td>5.000000</td>\n",
       "      <td>0.200000</td>\n",
       "      <td>29.364000</td>\n",
       "    </tr>\n",
       "    <tr>\n",
       "      <th>max</th>\n",
       "      <td>99301.000000</td>\n",
       "      <td>22638.480000</td>\n",
       "      <td>14.000000</td>\n",
       "      <td>0.800000</td>\n",
       "      <td>8399.976000</td>\n",
       "    </tr>\n",
       "  </tbody>\n",
       "</table>\n",
       "</div>"
      ],
      "text/plain": [
       "        Postal Code         Sales     Quantity     Discount       Profit\n",
       "count   9994.000000   9994.000000  9994.000000  9994.000000  9994.000000\n",
       "mean   55190.379428    229.858001     3.789574     0.156203    28.656896\n",
       "std    32063.693350    623.245101     2.225110     0.206452   234.260108\n",
       "min     1040.000000      0.444000     1.000000     0.000000 -6599.978000\n",
       "25%    23223.000000     17.280000     2.000000     0.000000     1.728750\n",
       "50%    56430.500000     54.490000     3.000000     0.200000     8.666500\n",
       "75%    90008.000000    209.940000     5.000000     0.200000    29.364000\n",
       "max    99301.000000  22638.480000    14.000000     0.800000  8399.976000"
      ]
     },
     "execution_count": 11,
     "metadata": {},
     "output_type": "execute_result"
    }
   ],
   "source": [
    "dataset.describe()"
   ]
  },
  {
   "cell_type": "markdown",
   "metadata": {},
   "source": [
    "*Since the count is equivalent to the number of rows it further assures that there are no missing values in the numeric columns.\n",
    "\n",
    "\n",
    "*5 number summary along with mean and standard deviation is mentioned.\n",
    "\n",
    "\n",
    "*Large difference between the third quartile and Maximum value is an indication of outliers."
   ]
  },
  {
   "cell_type": "markdown",
   "metadata": {},
   "source": [
    "### Determine Duplicates if any"
   ]
  },
  {
   "cell_type": "code",
   "execution_count": 12,
   "metadata": {},
   "outputs": [
    {
     "data": {
      "text/plain": [
       "17"
      ]
     },
     "execution_count": 12,
     "metadata": {},
     "output_type": "execute_result"
    }
   ],
   "source": [
    "dataset.duplicated().sum()"
   ]
  },
  {
   "cell_type": "markdown",
   "metadata": {},
   "source": [
    "### Removing Duplicates"
   ]
  },
  {
   "cell_type": "code",
   "execution_count": 13,
   "metadata": {},
   "outputs": [
    {
     "data": {
      "text/html": [
       "<div>\n",
       "<style scoped>\n",
       "    .dataframe tbody tr th:only-of-type {\n",
       "        vertical-align: middle;\n",
       "    }\n",
       "\n",
       "    .dataframe tbody tr th {\n",
       "        vertical-align: top;\n",
       "    }\n",
       "\n",
       "    .dataframe thead th {\n",
       "        text-align: right;\n",
       "    }\n",
       "</style>\n",
       "<table border=\"1\" class=\"dataframe\">\n",
       "  <thead>\n",
       "    <tr style=\"text-align: right;\">\n",
       "      <th></th>\n",
       "      <th>Ship Mode</th>\n",
       "      <th>Segment</th>\n",
       "      <th>Country</th>\n",
       "      <th>City</th>\n",
       "      <th>State</th>\n",
       "      <th>Postal Code</th>\n",
       "      <th>Region</th>\n",
       "      <th>Category</th>\n",
       "      <th>Sub-Category</th>\n",
       "      <th>Sales</th>\n",
       "      <th>Quantity</th>\n",
       "      <th>Discount</th>\n",
       "      <th>Profit</th>\n",
       "    </tr>\n",
       "  </thead>\n",
       "  <tbody>\n",
       "    <tr>\n",
       "      <th>0</th>\n",
       "      <td>Second Class</td>\n",
       "      <td>Consumer</td>\n",
       "      <td>United States</td>\n",
       "      <td>Henderson</td>\n",
       "      <td>Kentucky</td>\n",
       "      <td>42420</td>\n",
       "      <td>South</td>\n",
       "      <td>Furniture</td>\n",
       "      <td>Bookcases</td>\n",
       "      <td>261.9600</td>\n",
       "      <td>2</td>\n",
       "      <td>0.00</td>\n",
       "      <td>41.9136</td>\n",
       "    </tr>\n",
       "    <tr>\n",
       "      <th>1</th>\n",
       "      <td>Second Class</td>\n",
       "      <td>Consumer</td>\n",
       "      <td>United States</td>\n",
       "      <td>Henderson</td>\n",
       "      <td>Kentucky</td>\n",
       "      <td>42420</td>\n",
       "      <td>South</td>\n",
       "      <td>Furniture</td>\n",
       "      <td>Chairs</td>\n",
       "      <td>731.9400</td>\n",
       "      <td>3</td>\n",
       "      <td>0.00</td>\n",
       "      <td>219.5820</td>\n",
       "    </tr>\n",
       "    <tr>\n",
       "      <th>2</th>\n",
       "      <td>Second Class</td>\n",
       "      <td>Corporate</td>\n",
       "      <td>United States</td>\n",
       "      <td>Los Angeles</td>\n",
       "      <td>California</td>\n",
       "      <td>90036</td>\n",
       "      <td>West</td>\n",
       "      <td>Office Supplies</td>\n",
       "      <td>Labels</td>\n",
       "      <td>14.6200</td>\n",
       "      <td>2</td>\n",
       "      <td>0.00</td>\n",
       "      <td>6.8714</td>\n",
       "    </tr>\n",
       "    <tr>\n",
       "      <th>3</th>\n",
       "      <td>Standard Class</td>\n",
       "      <td>Consumer</td>\n",
       "      <td>United States</td>\n",
       "      <td>Fort Lauderdale</td>\n",
       "      <td>Florida</td>\n",
       "      <td>33311</td>\n",
       "      <td>South</td>\n",
       "      <td>Furniture</td>\n",
       "      <td>Tables</td>\n",
       "      <td>957.5775</td>\n",
       "      <td>5</td>\n",
       "      <td>0.45</td>\n",
       "      <td>-383.0310</td>\n",
       "    </tr>\n",
       "    <tr>\n",
       "      <th>4</th>\n",
       "      <td>Standard Class</td>\n",
       "      <td>Consumer</td>\n",
       "      <td>United States</td>\n",
       "      <td>Fort Lauderdale</td>\n",
       "      <td>Florida</td>\n",
       "      <td>33311</td>\n",
       "      <td>South</td>\n",
       "      <td>Office Supplies</td>\n",
       "      <td>Storage</td>\n",
       "      <td>22.3680</td>\n",
       "      <td>2</td>\n",
       "      <td>0.20</td>\n",
       "      <td>2.5164</td>\n",
       "    </tr>\n",
       "    <tr>\n",
       "      <th>...</th>\n",
       "      <td>...</td>\n",
       "      <td>...</td>\n",
       "      <td>...</td>\n",
       "      <td>...</td>\n",
       "      <td>...</td>\n",
       "      <td>...</td>\n",
       "      <td>...</td>\n",
       "      <td>...</td>\n",
       "      <td>...</td>\n",
       "      <td>...</td>\n",
       "      <td>...</td>\n",
       "      <td>...</td>\n",
       "      <td>...</td>\n",
       "    </tr>\n",
       "    <tr>\n",
       "      <th>9989</th>\n",
       "      <td>Second Class</td>\n",
       "      <td>Consumer</td>\n",
       "      <td>United States</td>\n",
       "      <td>Miami</td>\n",
       "      <td>Florida</td>\n",
       "      <td>33180</td>\n",
       "      <td>South</td>\n",
       "      <td>Furniture</td>\n",
       "      <td>Furnishings</td>\n",
       "      <td>25.2480</td>\n",
       "      <td>3</td>\n",
       "      <td>0.20</td>\n",
       "      <td>4.1028</td>\n",
       "    </tr>\n",
       "    <tr>\n",
       "      <th>9990</th>\n",
       "      <td>Standard Class</td>\n",
       "      <td>Consumer</td>\n",
       "      <td>United States</td>\n",
       "      <td>Costa Mesa</td>\n",
       "      <td>California</td>\n",
       "      <td>92627</td>\n",
       "      <td>West</td>\n",
       "      <td>Furniture</td>\n",
       "      <td>Furnishings</td>\n",
       "      <td>91.9600</td>\n",
       "      <td>2</td>\n",
       "      <td>0.00</td>\n",
       "      <td>15.6332</td>\n",
       "    </tr>\n",
       "    <tr>\n",
       "      <th>9991</th>\n",
       "      <td>Standard Class</td>\n",
       "      <td>Consumer</td>\n",
       "      <td>United States</td>\n",
       "      <td>Costa Mesa</td>\n",
       "      <td>California</td>\n",
       "      <td>92627</td>\n",
       "      <td>West</td>\n",
       "      <td>Technology</td>\n",
       "      <td>Phones</td>\n",
       "      <td>258.5760</td>\n",
       "      <td>2</td>\n",
       "      <td>0.20</td>\n",
       "      <td>19.3932</td>\n",
       "    </tr>\n",
       "    <tr>\n",
       "      <th>9992</th>\n",
       "      <td>Standard Class</td>\n",
       "      <td>Consumer</td>\n",
       "      <td>United States</td>\n",
       "      <td>Costa Mesa</td>\n",
       "      <td>California</td>\n",
       "      <td>92627</td>\n",
       "      <td>West</td>\n",
       "      <td>Office Supplies</td>\n",
       "      <td>Paper</td>\n",
       "      <td>29.6000</td>\n",
       "      <td>4</td>\n",
       "      <td>0.00</td>\n",
       "      <td>13.3200</td>\n",
       "    </tr>\n",
       "    <tr>\n",
       "      <th>9993</th>\n",
       "      <td>Second Class</td>\n",
       "      <td>Consumer</td>\n",
       "      <td>United States</td>\n",
       "      <td>Westminster</td>\n",
       "      <td>California</td>\n",
       "      <td>92683</td>\n",
       "      <td>West</td>\n",
       "      <td>Office Supplies</td>\n",
       "      <td>Appliances</td>\n",
       "      <td>243.1600</td>\n",
       "      <td>2</td>\n",
       "      <td>0.00</td>\n",
       "      <td>72.9480</td>\n",
       "    </tr>\n",
       "  </tbody>\n",
       "</table>\n",
       "<p>9977 rows × 13 columns</p>\n",
       "</div>"
      ],
      "text/plain": [
       "           Ship Mode    Segment        Country             City       State  \\\n",
       "0       Second Class   Consumer  United States        Henderson    Kentucky   \n",
       "1       Second Class   Consumer  United States        Henderson    Kentucky   \n",
       "2       Second Class  Corporate  United States      Los Angeles  California   \n",
       "3     Standard Class   Consumer  United States  Fort Lauderdale     Florida   \n",
       "4     Standard Class   Consumer  United States  Fort Lauderdale     Florida   \n",
       "...              ...        ...            ...              ...         ...   \n",
       "9989    Second Class   Consumer  United States            Miami     Florida   \n",
       "9990  Standard Class   Consumer  United States       Costa Mesa  California   \n",
       "9991  Standard Class   Consumer  United States       Costa Mesa  California   \n",
       "9992  Standard Class   Consumer  United States       Costa Mesa  California   \n",
       "9993    Second Class   Consumer  United States      Westminster  California   \n",
       "\n",
       "      Postal Code Region         Category Sub-Category     Sales  Quantity  \\\n",
       "0           42420  South        Furniture    Bookcases  261.9600         2   \n",
       "1           42420  South        Furniture       Chairs  731.9400         3   \n",
       "2           90036   West  Office Supplies       Labels   14.6200         2   \n",
       "3           33311  South        Furniture       Tables  957.5775         5   \n",
       "4           33311  South  Office Supplies      Storage   22.3680         2   \n",
       "...           ...    ...              ...          ...       ...       ...   \n",
       "9989        33180  South        Furniture  Furnishings   25.2480         3   \n",
       "9990        92627   West        Furniture  Furnishings   91.9600         2   \n",
       "9991        92627   West       Technology       Phones  258.5760         2   \n",
       "9992        92627   West  Office Supplies        Paper   29.6000         4   \n",
       "9993        92683   West  Office Supplies   Appliances  243.1600         2   \n",
       "\n",
       "      Discount    Profit  \n",
       "0         0.00   41.9136  \n",
       "1         0.00  219.5820  \n",
       "2         0.00    6.8714  \n",
       "3         0.45 -383.0310  \n",
       "4         0.20    2.5164  \n",
       "...        ...       ...  \n",
       "9989      0.20    4.1028  \n",
       "9990      0.00   15.6332  \n",
       "9991      0.20   19.3932  \n",
       "9992      0.00   13.3200  \n",
       "9993      0.00   72.9480  \n",
       "\n",
       "[9977 rows x 13 columns]"
      ]
     },
     "execution_count": 13,
     "metadata": {},
     "output_type": "execute_result"
    }
   ],
   "source": [
    "dataset.drop_duplicates()"
   ]
  },
  {
   "cell_type": "markdown",
   "metadata": {},
   "source": [
    "### To Display Distinct values within a column "
   ]
  },
  {
   "cell_type": "code",
   "execution_count": 14,
   "metadata": {},
   "outputs": [
    {
     "data": {
      "text/plain": [
       "Ship Mode          4\n",
       "Segment            3\n",
       "Country            1\n",
       "City             531\n",
       "State             49\n",
       "Postal Code      631\n",
       "Region             4\n",
       "Category           3\n",
       "Sub-Category      17\n",
       "Sales           5825\n",
       "Quantity          14\n",
       "Discount          12\n",
       "Profit          7287\n",
       "dtype: int64"
      ]
     },
     "execution_count": 14,
     "metadata": {},
     "output_type": "execute_result"
    }
   ],
   "source": [
    "dataset.nunique()"
   ]
  },
  {
   "cell_type": "markdown",
   "metadata": {},
   "source": [
    "## Univariate Analysis\n"
   ]
  },
  {
   "cell_type": "markdown",
   "metadata": {},
   "source": [
    "### Analyzing the segment of people in the store"
   ]
  },
  {
   "cell_type": "code",
   "execution_count": 15,
   "metadata": {},
   "outputs": [
    {
     "name": "stdout",
     "output_type": "stream",
     "text": [
      "Consumer       5191\n",
      "Corporate      3020\n",
      "Home Office    1783\n",
      "Name: Segment, dtype: int64\n"
     ]
    }
   ],
   "source": [
    "Number_segment=dataset['Segment'].value_counts()\n",
    "print(Number_segment)"
   ]
  },
  {
   "cell_type": "code",
   "execution_count": 16,
   "metadata": {},
   "outputs": [
    {
     "name": "stdout",
     "output_type": "stream",
     "text": [
      "Consumer       51.941165\n",
      "Corporate      30.218131\n",
      "Home Office    17.840704\n",
      "Name: Segment, dtype: float64\n"
     ]
    }
   ],
   "source": [
    "Percentage_segment=Number_segment/len(dataset['Segment'])*100\n",
    "print(Percentage_segment)"
   ]
  },
  {
   "cell_type": "code",
   "execution_count": 68,
   "metadata": {},
   "outputs": [
    {
     "name": "stdout",
     "output_type": "stream",
     "text": [
      "Percentage of each Segment\n"
     ]
    },
    {
     "data": {
      "image/png": "[encoded data removed]",
      "text/plain": [
       "<Figure size 432x288 with 1 Axes>"
      ]
     },
     "metadata": {
      "needs_background": "light"
     },
     "output_type": "display_data"
    }
   ],
   "source": [
    "Percentage_segment.plot(kind='bar')\n",
    "print(\"Percentage of each Segment\")"
   ]
  },
  {
   "cell_type": "markdown",
   "metadata": {},
   "source": [
    "#### Conclusion \n",
    "\n",
    "* More than 50% of the people in the Store are Consumers\n",
    "* Around 30% of the people in the Store are in the Corporate Segment\n",
    "* Around 20% of the people in the Store belong to Home Office"
   ]
  },
  {
   "cell_type": "markdown",
   "metadata": {},
   "source": [
    "### Analyzing the Ship Mode in the store"
   ]
  },
  {
   "cell_type": "code",
   "execution_count": 18,
   "metadata": {},
   "outputs": [
    {
     "name": "stdout",
     "output_type": "stream",
     "text": [
      "Standard Class    5968\n",
      "Second Class      1945\n",
      "First Class       1538\n",
      "Same Day           543\n",
      "Name: Ship Mode, dtype: int64\n"
     ]
    }
   ],
   "source": [
    "Number_Shipmode=dataset['Ship Mode'].value_counts()\n",
    "print(Number_Shipmode)"
   ]
  },
  {
   "cell_type": "code",
   "execution_count": 19,
   "metadata": {},
   "outputs": [
    {
     "name": "stdout",
     "output_type": "stream",
     "text": [
      "Standard Class    59.715829\n",
      "Second Class      19.461677\n",
      "First Class       15.389234\n",
      "Same Day           5.433260\n",
      "Name: Ship Mode, dtype: float64\n"
     ]
    }
   ],
   "source": [
    "Percentage_Shipmode=Number_Shipmode/len(dataset['Ship Mode'])*100\n",
    "print(Percentage_Shipmode)"
   ]
  },
  {
   "cell_type": "code",
   "execution_count": 20,
   "metadata": {},
   "outputs": [
    {
     "data": {
      "text/plain": [
       "<AxesSubplot:>"
      ]
     },
     "execution_count": 20,
     "metadata": {},
     "output_type": "execute_result"
    },
    {
     "data": {
      "image/png": "[encoded data removed]",
      "text/plain": [
       "<Figure size 432x288 with 1 Axes>"
      ]
     },
     "metadata": {
      "needs_background": "light"
     },
     "output_type": "display_data"
    }
   ],
   "source": [
    "Percentage_Shipmode.plot(kind='bar')"
   ]
  },
  {
   "cell_type": "markdown",
   "metadata": {},
   "source": [
    "#### Conclusion \n",
    "\n",
    "* Most common mode of Delivery is Standard Class(~60%)\n",
    "* Very less number of Deliveries reach the same day(~5%)"
   ]
  },
  {
   "cell_type": "markdown",
   "metadata": {},
   "source": [
    "### Analyzing the region of orders\n"
   ]
  },
  {
   "cell_type": "code",
   "execution_count": 21,
   "metadata": {},
   "outputs": [
    {
     "name": "stdout",
     "output_type": "stream",
     "text": [
      "West       3203\n",
      "East       2848\n",
      "Central    2323\n",
      "South      1620\n",
      "Name: Region, dtype: int64\n"
     ]
    }
   ],
   "source": [
    "Number_Region=dataset['Region'].value_counts()\n",
    "print(Number_Region)"
   ]
  },
  {
   "cell_type": "code",
   "execution_count": 22,
   "metadata": {},
   "outputs": [
    {
     "name": "stdout",
     "output_type": "stream",
     "text": [
      "West       32.049230\n",
      "East       28.497098\n",
      "Central    23.243946\n",
      "South      16.209726\n",
      "Name: Region, dtype: float64\n"
     ]
    }
   ],
   "source": [
    "Percentage_Region=Number_Region/len(dataset['Region'])*100\n",
    "print(Percentage_Region)"
   ]
  },
  {
   "cell_type": "code",
   "execution_count": 23,
   "metadata": {},
   "outputs": [
    {
     "data": {
      "text/plain": [
       "<AxesSubplot:>"
      ]
     },
     "execution_count": 23,
     "metadata": {},
     "output_type": "execute_result"
    },
    {
     "data": {
      "image/png": "[encoded data removed]",
      "text/plain": [
       "<Figure size 432x288 with 1 Axes>"
      ]
     },
     "metadata": {
      "needs_background": "light"
     },
     "output_type": "display_data"
    }
   ],
   "source": [
    "Percentage_Region.plot(kind ='bar')"
   ]
  },
  {
   "cell_type": "markdown",
   "metadata": {},
   "source": [
    "#### Conclusion\n",
    "\n",
    "*Most orders are from west And least orders are from South"
   ]
  },
  {
   "cell_type": "markdown",
   "metadata": {},
   "source": [
    "### Analyzing Categories of orders"
   ]
  },
  {
   "cell_type": "code",
   "execution_count": 24,
   "metadata": {},
   "outputs": [
    {
     "name": "stdout",
     "output_type": "stream",
     "text": [
      "Office Supplies    6026\n",
      "Furniture          2121\n",
      "Technology         1847\n",
      "Name: Category, dtype: int64\n"
     ]
    }
   ],
   "source": [
    "Number_Categories=dataset['Category'].value_counts()\n",
    "print(Number_Categories)"
   ]
  },
  {
   "cell_type": "code",
   "execution_count": 25,
   "metadata": {},
   "outputs": [
    {
     "name": "stdout",
     "output_type": "stream",
     "text": [
      "Office Supplies    60.296178\n",
      "Furniture          21.222734\n",
      "Technology         18.481089\n",
      "Name: Category, dtype: float64\n"
     ]
    }
   ],
   "source": [
    "Percentage_Category=Number_Categories/len(dataset['Category'])*100\n",
    "print(Percentage_Category)"
   ]
  },
  {
   "cell_type": "code",
   "execution_count": 26,
   "metadata": {
    "scrolled": true
   },
   "outputs": [
    {
     "data": {
      "text/plain": [
       "<AxesSubplot:ylabel='Category'>"
      ]
     },
     "execution_count": 26,
     "metadata": {},
     "output_type": "execute_result"
    },
    {
     "data": {
      "image/png": "[encoded data removed]",
      "text/plain": [
       "<Figure size 432x288 with 1 Axes>"
      ]
     },
     "metadata": {},
     "output_type": "display_data"
    }
   ],
   "source": [
    "Percentage_Category.plot(kind = 'pie')"
   ]
  },
  {
   "cell_type": "markdown",
   "metadata": {},
   "source": [
    "#### Conclusion:\n",
    "\n",
    "* 60% orders are of categories - office supplies \n",
    "* The remaining 40 % are of Furniture and Technology(~20% each catogory)"
   ]
  },
  {
   "cell_type": "markdown",
   "metadata": {},
   "source": [
    "### Plotting Subcategories"
   ]
  },
  {
   "cell_type": "code",
   "execution_count": 69,
   "metadata": {},
   "outputs": [
    {
     "data": {
      "text/plain": [
       "<AxesSubplot:>"
      ]
     },
     "execution_count": 69,
     "metadata": {},
     "output_type": "execute_result"
    },
    {
     "data": {
      "image/png": "[encoded data removed]",
      "text/plain": [
       "<Figure size 432x288 with 1 Axes>"
      ]
     },
     "metadata": {
      "needs_background": "light"
     },
     "output_type": "display_data"
    }
   ],
   "source": [
    "dataset['Sub-Category'].value_counts().plot(kind='bar')"
   ]
  },
  {
   "cell_type": "markdown",
   "metadata": {},
   "source": [
    "#### Conclusion\n",
    "\n",
    "*Binders and Papers are bought most frequently\n",
    "\n",
    "*Machines and Copiers are bought least frequently"
   ]
  },
  {
   "cell_type": "markdown",
   "metadata": {},
   "source": [
    "### Counting number of orders from each state"
   ]
  },
  {
   "cell_type": "code",
   "execution_count": 70,
   "metadata": {},
   "outputs": [
    {
     "name": "stdout",
     "output_type": "stream",
     "text": [
      "California              2001\n",
      "New York                1128\n",
      "Texas                    985\n",
      "Pennsylvania             587\n",
      "Washington               506\n",
      "Illinois                 492\n",
      "Ohio                     469\n",
      "Florida                  383\n",
      "Michigan                 255\n",
      "North Carolina           249\n",
      "Arizona                  224\n",
      "Virginia                 224\n",
      "Georgia                  184\n",
      "Tennessee                183\n",
      "Colorado                 182\n",
      "Indiana                  149\n",
      "Kentucky                 139\n",
      "Massachusetts            135\n",
      "New Jersey               130\n",
      "Oregon                   124\n",
      "Wisconsin                110\n",
      "Maryland                 105\n",
      "Delaware                  96\n",
      "Minnesota                 89\n",
      "Connecticut               82\n",
      "Missouri                  66\n",
      "Oklahoma                  66\n",
      "Alabama                   61\n",
      "Arkansas                  60\n",
      "Rhode Island              56\n",
      "Mississippi               53\n",
      "Utah                      53\n",
      "South Carolina            42\n",
      "Louisiana                 42\n",
      "Nevada                    39\n",
      "Nebraska                  38\n",
      "New Mexico                37\n",
      "Iowa                      30\n",
      "New Hampshire             27\n",
      "Kansas                    24\n",
      "Idaho                     21\n",
      "Montana                   15\n",
      "South Dakota              12\n",
      "Vermont                   11\n",
      "District of Columbia      10\n",
      "Maine                      8\n",
      "North Dakota               7\n",
      "West Virginia              4\n",
      "Wyoming                    1\n",
      "Name: State, dtype: int64\n"
     ]
    },
    {
     "data": {
      "image/png": "[encoded data removed]",
      "text/plain": [
       "<Figure size 1080x576 with 1 Axes>"
      ]
     },
     "metadata": {
      "needs_background": "light"
     },
     "output_type": "display_data"
    }
   ],
   "source": [
    "\n",
    "print(dataset['State'].value_counts())\n",
    "plt.figure(figsize=(15,8))\n",
    "sns.countplot(x=dataset['State'])\n",
    "plt.xticks(rotation=90)\n",
    "plt.show()\n"
   ]
  },
  {
   "cell_type": "markdown",
   "metadata": {},
   "source": [
    "#### Conclusion \n",
    "* Most of the orders are in California, followed by New York."
   ]
  },
  {
   "cell_type": "markdown",
   "metadata": {},
   "source": [
    "## Bivariate Analysis\n",
    "### Finding the correlation of dataset"
   ]
  },
  {
   "cell_type": "code",
   "execution_count": 29,
   "metadata": {},
   "outputs": [
    {
     "data": {
      "text/html": [
       "<div>\n",
       "<style scoped>\n",
       "    .dataframe tbody tr th:only-of-type {\n",
       "        vertical-align: middle;\n",
       "    }\n",
       "\n",
       "    .dataframe tbody tr th {\n",
       "        vertical-align: top;\n",
       "    }\n",
       "\n",
       "    .dataframe thead th {\n",
       "        text-align: right;\n",
       "    }\n",
       "</style>\n",
       "<table border=\"1\" class=\"dataframe\">\n",
       "  <thead>\n",
       "    <tr style=\"text-align: right;\">\n",
       "      <th></th>\n",
       "      <th>Sales</th>\n",
       "      <th>Quantity</th>\n",
       "      <th>Discount</th>\n",
       "      <th>Profit</th>\n",
       "    </tr>\n",
       "  </thead>\n",
       "  <tbody>\n",
       "    <tr>\n",
       "      <th>Sales</th>\n",
       "      <td>1.000000</td>\n",
       "      <td>0.200795</td>\n",
       "      <td>-0.028190</td>\n",
       "      <td>0.479064</td>\n",
       "    </tr>\n",
       "    <tr>\n",
       "      <th>Quantity</th>\n",
       "      <td>0.200795</td>\n",
       "      <td>1.000000</td>\n",
       "      <td>0.008623</td>\n",
       "      <td>0.066253</td>\n",
       "    </tr>\n",
       "    <tr>\n",
       "      <th>Discount</th>\n",
       "      <td>-0.028190</td>\n",
       "      <td>0.008623</td>\n",
       "      <td>1.000000</td>\n",
       "      <td>-0.219487</td>\n",
       "    </tr>\n",
       "    <tr>\n",
       "      <th>Profit</th>\n",
       "      <td>0.479064</td>\n",
       "      <td>0.066253</td>\n",
       "      <td>-0.219487</td>\n",
       "      <td>1.000000</td>\n",
       "    </tr>\n",
       "  </tbody>\n",
       "</table>\n",
       "</div>"
      ],
      "text/plain": [
       "             Sales  Quantity  Discount    Profit\n",
       "Sales     1.000000  0.200795 -0.028190  0.479064\n",
       "Quantity  0.200795  1.000000  0.008623  0.066253\n",
       "Discount -0.028190  0.008623  1.000000 -0.219487\n",
       "Profit    0.479064  0.066253 -0.219487  1.000000"
      ]
     },
     "execution_count": 29,
     "metadata": {},
     "output_type": "execute_result"
    }
   ],
   "source": [
    "col=['Postal Code']\n",
    "data_1=dataset.drop(columns=col,axis=1)\n",
    "data_1.corr()"
   ]
  },
  {
   "cell_type": "markdown",
   "metadata": {},
   "source": [
    "#### Conclusion\n",
    "* As Sales increases the Profit obtained increaes, and the discount offered deceases. \n"
   ]
  },
  {
   "cell_type": "markdown",
   "metadata": {},
   "source": [
    "### Heat map of Correlation Matrix\n"
   ]
  },
  {
   "cell_type": "code",
   "execution_count": 71,
   "metadata": {},
   "outputs": [
    {
     "data": {
      "image/png": "[encoded data removed]",
      "text/plain": [
       "<Figure size 648x432 with 2 Axes>"
      ]
     },
     "metadata": {
      "needs_background": "light"
     },
     "output_type": "display_data"
    }
   ],
   "source": [
    "col=['Postal Code']\n",
    "data_1=dataset.drop(columns=col,axis=1)\n",
    "fig,axes = plt.subplots(1,1,figsize=(9,6))\n",
    "sns.heatmap(data_1.corr(), annot= True)\n",
    "plt.show()"
   ]
  },
  {
   "cell_type": "markdown",
   "metadata": {},
   "source": [
    "#### Conclusion \n",
    "* Sales and Profit are positively correlated.\n",
    "        As a general trend we can say as the Sales increases Profit Increases.\n",
    "* Discount and Profit are negatively correlated.\n",
    "        As a general trend we can say as the Discount decreases Profit Increases\n"
   ]
  },
  {
   "cell_type": "markdown",
   "metadata": {},
   "source": [
    "### Analyzing Sales and Profit per Segment"
   ]
  },
  {
   "cell_type": "code",
   "execution_count": 61,
   "metadata": {},
   "outputs": [
    {
     "data": {
      "image/png": "[encoded data removed]",
      "text/plain": [
       "<Figure size 432x288 with 1 Axes>"
      ]
     },
     "metadata": {
      "needs_background": "light"
     },
     "output_type": "display_data"
    }
   ],
   "source": [
    "fig, ax = plt.subplots()\n",
    "colors={'Consumer':'red','Corporate':'green','Home Office':'yellow'}\n",
    "ax.scatter(dataset['Sales'],dataset['Profit'],c=dataset['Segment'].apply(lambda x: colors[x]))\n",
    "plt.show()"
   ]
  },
  {
   "cell_type": "code",
   "execution_count": 32,
   "metadata": {},
   "outputs": [
    {
     "name": "stdout",
     "output_type": "stream",
     "text": [
      "                    Sales  Quantity  Discount       Profit\n",
      "Segment                                                   \n",
      "Consumer     1.161401e+06     19521    820.91  134119.2092\n",
      "Corporate    7.061464e+05     11608    477.85   91979.1340\n",
      "Home Office  4.296531e+05      6744    262.33   60298.6785\n"
     ]
    },
    {
     "data": {
      "text/plain": [
       "<AxesSubplot:xlabel='Segment'>"
      ]
     },
     "execution_count": 32,
     "metadata": {},
     "output_type": "execute_result"
    },
    {
     "data": {
      "image/png": "[encoded data removed]",
      "text/plain": [
       "<Figure size 432x288 with 1 Axes>"
      ]
     },
     "metadata": {
      "needs_background": "light"
     },
     "output_type": "display_data"
    }
   ],
   "source": [
    "\n",
    "x=data_1.groupby(dataset['Segment']).agg('sum')\n",
    "print(x)\n",
    "\n",
    "x['Sales'].plot(kind='bar')"
   ]
  },
  {
   "cell_type": "code",
   "execution_count": 152,
   "metadata": {},
   "outputs": [
    {
     "data": {
      "text/plain": [
       "<AxesSubplot:xlabel='Segment'>"
      ]
     },
     "execution_count": 152,
     "metadata": {},
     "output_type": "execute_result"
    },
    {
     "data": {
      "image/png": "[encoded data removed]",
      "text/plain": [
       "<Figure size 432x288 with 1 Axes>"
      ]
     },
     "metadata": {
      "needs_background": "light"
     },
     "output_type": "display_data"
    }
   ],
   "source": [
    "x['Profit'].plot(kind='bar')"
   ]
  },
  {
   "cell_type": "code",
   "execution_count": 33,
   "metadata": {},
   "outputs": [
    {
     "name": "stdout",
     "output_type": "stream",
     "text": [
      "               min       max  median           sum\n",
      "Segment                                           \n",
      "Consumer     0.444  13999.96   53.72  1.161401e+06\n",
      "Corporate    0.556  17499.95   56.54  7.061464e+05\n",
      "Home Office  0.990  22638.48   52.44  4.296531e+05\n"
     ]
    }
   ],
   "source": [
    "x=dataset.groupby(dataset['Segment']).agg(['min','max','median','sum'])\n",
    "print(x['Sales'])"
   ]
  },
  {
   "cell_type": "code",
   "execution_count": 34,
   "metadata": {},
   "outputs": [
    {
     "name": "stdout",
     "output_type": "stream",
     "text": [
      "                   min        max  median          sum\n",
      "Segment                                               \n",
      "Consumer    -6599.9780  6719.9808  8.3754  134119.2092\n",
      "Corporate   -3839.9904  8399.9760  8.6940   91979.1340\n",
      "Home Office -3399.9800  3919.9888  9.1020   60298.6785\n"
     ]
    }
   ],
   "source": [
    "x=dataset.groupby(dataset['Segment']).agg(['min','max','median','sum'])\n",
    "print(x['Profit'])"
   ]
  },
  {
   "cell_type": "code",
   "execution_count": 35,
   "metadata": {},
   "outputs": [
    {
     "data": {
      "text/html": [
       "<div>\n",
       "<style scoped>\n",
       "    .dataframe tbody tr th:only-of-type {\n",
       "        vertical-align: middle;\n",
       "    }\n",
       "\n",
       "    .dataframe tbody tr th {\n",
       "        vertical-align: top;\n",
       "    }\n",
       "\n",
       "    .dataframe thead th {\n",
       "        text-align: right;\n",
       "    }\n",
       "</style>\n",
       "<table border=\"1\" class=\"dataframe\">\n",
       "  <thead>\n",
       "    <tr style=\"text-align: right;\">\n",
       "      <th>Discount</th>\n",
       "      <th>0.00</th>\n",
       "      <th>0.10</th>\n",
       "      <th>0.15</th>\n",
       "      <th>0.20</th>\n",
       "      <th>0.30</th>\n",
       "      <th>0.32</th>\n",
       "      <th>0.40</th>\n",
       "      <th>0.45</th>\n",
       "      <th>0.50</th>\n",
       "      <th>0.60</th>\n",
       "      <th>0.70</th>\n",
       "      <th>0.80</th>\n",
       "    </tr>\n",
       "    <tr>\n",
       "      <th>Segment</th>\n",
       "      <th></th>\n",
       "      <th></th>\n",
       "      <th></th>\n",
       "      <th></th>\n",
       "      <th></th>\n",
       "      <th></th>\n",
       "      <th></th>\n",
       "      <th></th>\n",
       "      <th></th>\n",
       "      <th></th>\n",
       "      <th></th>\n",
       "      <th></th>\n",
       "    </tr>\n",
       "  </thead>\n",
       "  <tbody>\n",
       "    <tr>\n",
       "      <th>Consumer</th>\n",
       "      <td>51.900</td>\n",
       "      <td>365.598</td>\n",
       "      <td>307.666</td>\n",
       "      <td>51.540</td>\n",
       "      <td>361.011</td>\n",
       "      <td>328.3992</td>\n",
       "      <td>289.404</td>\n",
       "      <td>353.24025</td>\n",
       "      <td>292.100</td>\n",
       "      <td>23.526</td>\n",
       "      <td>12.051</td>\n",
       "      <td>8.568</td>\n",
       "    </tr>\n",
       "    <tr>\n",
       "      <th>Corporate</th>\n",
       "      <td>58.580</td>\n",
       "      <td>245.646</td>\n",
       "      <td>480.165</td>\n",
       "      <td>52.184</td>\n",
       "      <td>347.361</td>\n",
       "      <td>307.6660</td>\n",
       "      <td>338.679</td>\n",
       "      <td>562.29250</td>\n",
       "      <td>302.450</td>\n",
       "      <td>21.936</td>\n",
       "      <td>12.060</td>\n",
       "      <td>9.264</td>\n",
       "    </tr>\n",
       "    <tr>\n",
       "      <th>Home Office</th>\n",
       "      <td>49.645</td>\n",
       "      <td>191.646</td>\n",
       "      <td>411.332</td>\n",
       "      <td>52.680</td>\n",
       "      <td>362.901</td>\n",
       "      <td>341.9992</td>\n",
       "      <td>212.856</td>\n",
       "      <td>427.23725</td>\n",
       "      <td>433.935</td>\n",
       "      <td>22.608</td>\n",
       "      <td>12.957</td>\n",
       "      <td>8.769</td>\n",
       "    </tr>\n",
       "  </tbody>\n",
       "</table>\n",
       "</div>"
      ],
      "text/plain": [
       "Discount       0.00     0.10     0.15    0.20     0.30      0.32     0.40  \\\n",
       "Segment                                                                     \n",
       "Consumer     51.900  365.598  307.666  51.540  361.011  328.3992  289.404   \n",
       "Corporate    58.580  245.646  480.165  52.184  347.361  307.6660  338.679   \n",
       "Home Office  49.645  191.646  411.332  52.680  362.901  341.9992  212.856   \n",
       "\n",
       "Discount          0.45     0.50    0.60    0.70   0.80  \n",
       "Segment                                                 \n",
       "Consumer     353.24025  292.100  23.526  12.051  8.568  \n",
       "Corporate    562.29250  302.450  21.936  12.060  9.264  \n",
       "Home Office  427.23725  433.935  22.608  12.957  8.769  "
      ]
     },
     "execution_count": 35,
     "metadata": {},
     "output_type": "execute_result"
    }
   ],
   "source": [
    "dataset.pivot_table(values='Sales',index='Segment',columns='Discount',aggfunc='median')"
   ]
  },
  {
   "cell_type": "code",
   "execution_count": 36,
   "metadata": {},
   "outputs": [
    {
     "data": {
      "text/html": [
       "<div>\n",
       "<style scoped>\n",
       "    .dataframe tbody tr th:only-of-type {\n",
       "        vertical-align: middle;\n",
       "    }\n",
       "\n",
       "    .dataframe tbody tr th {\n",
       "        vertical-align: top;\n",
       "    }\n",
       "\n",
       "    .dataframe thead th {\n",
       "        text-align: right;\n",
       "    }\n",
       "</style>\n",
       "<table border=\"1\" class=\"dataframe\">\n",
       "  <thead>\n",
       "    <tr style=\"text-align: right;\">\n",
       "      <th>Discount</th>\n",
       "      <th>0.00</th>\n",
       "      <th>0.10</th>\n",
       "      <th>0.15</th>\n",
       "      <th>0.20</th>\n",
       "      <th>0.30</th>\n",
       "      <th>0.32</th>\n",
       "      <th>0.40</th>\n",
       "      <th>0.45</th>\n",
       "      <th>0.50</th>\n",
       "      <th>0.60</th>\n",
       "      <th>0.70</th>\n",
       "      <th>0.80</th>\n",
       "    </tr>\n",
       "    <tr>\n",
       "      <th>Segment</th>\n",
       "      <th></th>\n",
       "      <th></th>\n",
       "      <th></th>\n",
       "      <th></th>\n",
       "      <th></th>\n",
       "      <th></th>\n",
       "      <th></th>\n",
       "      <th></th>\n",
       "      <th></th>\n",
       "      <th></th>\n",
       "      <th></th>\n",
       "      <th></th>\n",
       "    </tr>\n",
       "  </thead>\n",
       "  <tbody>\n",
       "    <tr>\n",
       "      <th>Consumer</th>\n",
       "      <td>16.1240</td>\n",
       "      <td>62.0390</td>\n",
       "      <td>5.12940</td>\n",
       "      <td>6.0433</td>\n",
       "      <td>-26.0562</td>\n",
       "      <td>-30.0980</td>\n",
       "      <td>-47.21360</td>\n",
       "      <td>-135.68145</td>\n",
       "      <td>-175.2600</td>\n",
       "      <td>-14.1323</td>\n",
       "      <td>-8.7276</td>\n",
       "      <td>-13.7175</td>\n",
       "    </tr>\n",
       "    <tr>\n",
       "      <th>Corporate</th>\n",
       "      <td>16.2688</td>\n",
       "      <td>46.7908</td>\n",
       "      <td>26.27735</td>\n",
       "      <td>6.7054</td>\n",
       "      <td>-28.2240</td>\n",
       "      <td>-59.0606</td>\n",
       "      <td>-87.27495</td>\n",
       "      <td>-255.58750</td>\n",
       "      <td>-120.5130</td>\n",
       "      <td>-10.4196</td>\n",
       "      <td>-8.9796</td>\n",
       "      <td>-16.3800</td>\n",
       "    </tr>\n",
       "    <tr>\n",
       "      <th>Home Office</th>\n",
       "      <td>15.4546</td>\n",
       "      <td>37.2300</td>\n",
       "      <td>16.79860</td>\n",
       "      <td>7.2576</td>\n",
       "      <td>-18.2040</td>\n",
       "      <td>-57.3234</td>\n",
       "      <td>-49.71900</td>\n",
       "      <td>-175.14690</td>\n",
       "      <td>-237.8425</td>\n",
       "      <td>-14.2290</td>\n",
       "      <td>-9.7608</td>\n",
       "      <td>-14.0328</td>\n",
       "    </tr>\n",
       "  </tbody>\n",
       "</table>\n",
       "</div>"
      ],
      "text/plain": [
       "Discount        0.00     0.10      0.15    0.20     0.30     0.32      0.40  \\\n",
       "Segment                                                                       \n",
       "Consumer     16.1240  62.0390   5.12940  6.0433 -26.0562 -30.0980 -47.21360   \n",
       "Corporate    16.2688  46.7908  26.27735  6.7054 -28.2240 -59.0606 -87.27495   \n",
       "Home Office  15.4546  37.2300  16.79860  7.2576 -18.2040 -57.3234 -49.71900   \n",
       "\n",
       "Discount          0.45      0.50     0.60    0.70     0.80  \n",
       "Segment                                                     \n",
       "Consumer    -135.68145 -175.2600 -14.1323 -8.7276 -13.7175  \n",
       "Corporate   -255.58750 -120.5130 -10.4196 -8.9796 -16.3800  \n",
       "Home Office -175.14690 -237.8425 -14.2290 -9.7608 -14.0328  "
      ]
     },
     "execution_count": 36,
     "metadata": {},
     "output_type": "execute_result"
    }
   ],
   "source": [
    "dataset.pivot_table(values='Profit',index='Segment',columns='Discount',aggfunc='median')"
   ]
  },
  {
   "cell_type": "markdown",
   "metadata": {},
   "source": [
    "#### Conclusion\n",
    "* The consumer segment has the maximum Sales and Profit\n",
    "* For a discount of 30% and more the orders where at loss."
   ]
  },
  {
   "cell_type": "markdown",
   "metadata": {},
   "source": [
    "### Analyzing Sales and Profit Regionwise"
   ]
  },
  {
   "cell_type": "code",
   "execution_count": 38,
   "metadata": {},
   "outputs": [
    {
     "name": "stdout",
     "output_type": "stream",
     "text": [
      "               Sales  Quantity  Discount       Profit\n",
      "Region                                               \n",
      "Central  501239.8908      8780    558.34   39706.3625\n",
      "East     678781.2400     10618    414.00   91522.7800\n",
      "South    391721.9050      6209    238.55   46749.4303\n",
      "West     725457.8245     12266    350.20  108418.4489\n"
     ]
    },
    {
     "data": {
      "text/plain": [
       "<AxesSubplot:xlabel='Region'>"
      ]
     },
     "execution_count": 38,
     "metadata": {},
     "output_type": "execute_result"
    },
    {
     "data": {
      "image/png": "[encoded data removed]",
      "text/plain": [
       "<Figure size 432x288 with 1 Axes>"
      ]
     },
     "metadata": {
      "needs_background": "light"
     },
     "output_type": "display_data"
    }
   ],
   "source": [
    "x=data_1.groupby(dataset['Region']).agg('sum')\n",
    "print(x)\n",
    "\n",
    "x['Sales'].plot(kind='bar')"
   ]
  },
  {
   "cell_type": "code",
   "execution_count": 39,
   "metadata": {},
   "outputs": [
    {
     "data": {
      "text/plain": [
       "<AxesSubplot:xlabel='Region'>"
      ]
     },
     "execution_count": 39,
     "metadata": {},
     "output_type": "execute_result"
    },
    {
     "data": {
      "image/png": "[encoded data removed]",
      "text/plain": [
       "<Figure size 432x288 with 1 Axes>"
      ]
     },
     "metadata": {
      "needs_background": "light"
     },
     "output_type": "display_data"
    }
   ],
   "source": [
    "x['Profit'].plot(kind='bar')"
   ]
  },
  {
   "cell_type": "code",
   "execution_count": 42,
   "metadata": {},
   "outputs": [
    {
     "name": "stdout",
     "output_type": "stream",
     "text": [
      "           min        max  median          sum\n",
      "Region                                        \n",
      "Central  0.444  17499.950  45.980  501239.8908\n",
      "East     0.852  11199.968  54.900  678781.2400\n",
      "South    1.167  22638.480  54.594  391721.9050\n",
      "West     0.990  13999.960  60.840  725457.8245\n"
     ]
    }
   ],
   "source": [
    "x=dataset.groupby(dataset['Region']).agg(['min','max','median','sum'])\n",
    "print(x['Sales'])"
   ]
  },
  {
   "cell_type": "code",
   "execution_count": 43,
   "metadata": {},
   "outputs": [
    {
     "name": "stdout",
     "output_type": "stream",
     "text": [
      "               min        max   median          sum\n",
      "Region                                             \n",
      "Central -3701.8928  8399.9760   5.1840   39706.3625\n",
      "East    -6599.9780  5039.9856   8.1717   91522.7800\n",
      "South   -3839.9904  3177.4750   9.0720   46749.4303\n",
      "West    -3399.9800  6719.9808  11.1664  108418.4489\n"
     ]
    }
   ],
   "source": [
    "x=dataset.groupby(dataset['Region']).agg(['min','max','median','sum'])\n",
    "print(x['Profit'])"
   ]
  },
  {
   "cell_type": "code",
   "execution_count": 44,
   "metadata": {},
   "outputs": [
    {
     "data": {
      "text/html": [
       "<div>\n",
       "<style scoped>\n",
       "    .dataframe tbody tr th:only-of-type {\n",
       "        vertical-align: middle;\n",
       "    }\n",
       "\n",
       "    .dataframe tbody tr th {\n",
       "        vertical-align: top;\n",
       "    }\n",
       "\n",
       "    .dataframe thead th {\n",
       "        text-align: right;\n",
       "    }\n",
       "</style>\n",
       "<table border=\"1\" class=\"dataframe\">\n",
       "  <thead>\n",
       "    <tr style=\"text-align: right;\">\n",
       "      <th>Discount</th>\n",
       "      <th>0.00</th>\n",
       "      <th>0.10</th>\n",
       "      <th>0.15</th>\n",
       "      <th>0.20</th>\n",
       "      <th>0.30</th>\n",
       "      <th>0.32</th>\n",
       "      <th>0.40</th>\n",
       "      <th>0.45</th>\n",
       "      <th>0.50</th>\n",
       "      <th>0.60</th>\n",
       "      <th>0.70</th>\n",
       "      <th>0.80</th>\n",
       "    </tr>\n",
       "    <tr>\n",
       "      <th>Region</th>\n",
       "      <th></th>\n",
       "      <th></th>\n",
       "      <th></th>\n",
       "      <th></th>\n",
       "      <th></th>\n",
       "      <th></th>\n",
       "      <th></th>\n",
       "      <th></th>\n",
       "      <th></th>\n",
       "      <th></th>\n",
       "      <th></th>\n",
       "      <th></th>\n",
       "    </tr>\n",
       "  </thead>\n",
       "  <tbody>\n",
       "    <tr>\n",
       "      <th>Central</th>\n",
       "      <td>64.385</td>\n",
       "      <td>227.430</td>\n",
       "      <td>NaN</td>\n",
       "      <td>39.984</td>\n",
       "      <td>359.058</td>\n",
       "      <td>328.3992</td>\n",
       "      <td>559.710</td>\n",
       "      <td>NaN</td>\n",
       "      <td>280.5175</td>\n",
       "      <td>22.494</td>\n",
       "      <td>NaN</td>\n",
       "      <td>8.701</td>\n",
       "    </tr>\n",
       "    <tr>\n",
       "      <th>East</th>\n",
       "      <td>57.750</td>\n",
       "      <td>365.598</td>\n",
       "      <td>NaN</td>\n",
       "      <td>35.296</td>\n",
       "      <td>346.087</td>\n",
       "      <td>NaN</td>\n",
       "      <td>280.782</td>\n",
       "      <td>NaN</td>\n",
       "      <td>300.7225</td>\n",
       "      <td>NaN</td>\n",
       "      <td>11.0880</td>\n",
       "      <td>NaN</td>\n",
       "    </tr>\n",
       "    <tr>\n",
       "      <th>South</th>\n",
       "      <td>67.960</td>\n",
       "      <td>NaN</td>\n",
       "      <td>NaN</td>\n",
       "      <td>47.952</td>\n",
       "      <td>NaN</td>\n",
       "      <td>NaN</td>\n",
       "      <td>576.894</td>\n",
       "      <td>383.438</td>\n",
       "      <td>695.7000</td>\n",
       "      <td>NaN</td>\n",
       "      <td>12.4695</td>\n",
       "      <td>NaN</td>\n",
       "    </tr>\n",
       "    <tr>\n",
       "      <th>West</th>\n",
       "      <td>43.940</td>\n",
       "      <td>NaN</td>\n",
       "      <td>359.499</td>\n",
       "      <td>99.592</td>\n",
       "      <td>NaN</td>\n",
       "      <td>NaN</td>\n",
       "      <td>NaN</td>\n",
       "      <td>NaN</td>\n",
       "      <td>371.2000</td>\n",
       "      <td>NaN</td>\n",
       "      <td>19.0380</td>\n",
       "      <td>NaN</td>\n",
       "    </tr>\n",
       "  </tbody>\n",
       "</table>\n",
       "</div>"
      ],
      "text/plain": [
       "Discount    0.00     0.10     0.15    0.20     0.30      0.32     0.40  \\\n",
       "Region                                                                   \n",
       "Central   64.385  227.430      NaN  39.984  359.058  328.3992  559.710   \n",
       "East      57.750  365.598      NaN  35.296  346.087       NaN  280.782   \n",
       "South     67.960      NaN      NaN  47.952      NaN       NaN  576.894   \n",
       "West      43.940      NaN  359.499  99.592      NaN       NaN      NaN   \n",
       "\n",
       "Discount     0.45      0.50    0.60     0.70   0.80  \n",
       "Region                                               \n",
       "Central       NaN  280.5175  22.494      NaN  8.701  \n",
       "East          NaN  300.7225     NaN  11.0880    NaN  \n",
       "South     383.438  695.7000     NaN  12.4695    NaN  \n",
       "West          NaN  371.2000     NaN  19.0380    NaN  "
      ]
     },
     "execution_count": 44,
     "metadata": {},
     "output_type": "execute_result"
    }
   ],
   "source": [
    "dataset.pivot_table(values='Sales',index='Region',columns='Discount',aggfunc='median')"
   ]
  },
  {
   "cell_type": "code",
   "execution_count": 165,
   "metadata": {},
   "outputs": [
    {
     "data": {
      "text/html": [
       "<div>\n",
       "<style scoped>\n",
       "    .dataframe tbody tr th:only-of-type {\n",
       "        vertical-align: middle;\n",
       "    }\n",
       "\n",
       "    .dataframe tbody tr th {\n",
       "        vertical-align: top;\n",
       "    }\n",
       "\n",
       "    .dataframe thead th {\n",
       "        text-align: right;\n",
       "    }\n",
       "</style>\n",
       "<table border=\"1\" class=\"dataframe\">\n",
       "  <thead>\n",
       "    <tr style=\"text-align: right;\">\n",
       "      <th>Discount</th>\n",
       "      <th>0.00</th>\n",
       "      <th>0.10</th>\n",
       "      <th>0.15</th>\n",
       "      <th>0.20</th>\n",
       "      <th>0.30</th>\n",
       "      <th>0.32</th>\n",
       "      <th>0.40</th>\n",
       "      <th>0.45</th>\n",
       "      <th>0.50</th>\n",
       "      <th>0.60</th>\n",
       "      <th>0.70</th>\n",
       "      <th>0.80</th>\n",
       "    </tr>\n",
       "    <tr>\n",
       "      <th>Region</th>\n",
       "      <th></th>\n",
       "      <th></th>\n",
       "      <th></th>\n",
       "      <th></th>\n",
       "      <th></th>\n",
       "      <th></th>\n",
       "      <th></th>\n",
       "      <th></th>\n",
       "      <th></th>\n",
       "      <th></th>\n",
       "      <th></th>\n",
       "      <th></th>\n",
       "    </tr>\n",
       "  </thead>\n",
       "  <tbody>\n",
       "    <tr>\n",
       "      <th>Central</th>\n",
       "      <td>19.67860</td>\n",
       "      <td>51.1578</td>\n",
       "      <td>NaN</td>\n",
       "      <td>5.4432</td>\n",
       "      <td>-26.6352</td>\n",
       "      <td>-46.9764</td>\n",
       "      <td>-97.7200</td>\n",
       "      <td>NaN</td>\n",
       "      <td>-180.04830</td>\n",
       "      <td>-12.0617</td>\n",
       "      <td>NaN</td>\n",
       "      <td>-14.0498</td>\n",
       "    </tr>\n",
       "    <tr>\n",
       "      <th>East</th>\n",
       "      <td>16.78860</td>\n",
       "      <td>56.8506</td>\n",
       "      <td>NaN</td>\n",
       "      <td>5.3690</td>\n",
       "      <td>-24.0862</td>\n",
       "      <td>NaN</td>\n",
       "      <td>-52.3365</td>\n",
       "      <td>NaN</td>\n",
       "      <td>-183.80150</td>\n",
       "      <td>NaN</td>\n",
       "      <td>-7.8450</td>\n",
       "      <td>NaN</td>\n",
       "    </tr>\n",
       "    <tr>\n",
       "      <th>South</th>\n",
       "      <td>19.80720</td>\n",
       "      <td>NaN</td>\n",
       "      <td>NaN</td>\n",
       "      <td>5.4432</td>\n",
       "      <td>NaN</td>\n",
       "      <td>NaN</td>\n",
       "      <td>-195.7772</td>\n",
       "      <td>-167.3184</td>\n",
       "      <td>-69.66375</td>\n",
       "      <td>NaN</td>\n",
       "      <td>-9.4002</td>\n",
       "      <td>NaN</td>\n",
       "    </tr>\n",
       "    <tr>\n",
       "      <th>West</th>\n",
       "      <td>13.48425</td>\n",
       "      <td>NaN</td>\n",
       "      <td>14.098</td>\n",
       "      <td>9.8328</td>\n",
       "      <td>NaN</td>\n",
       "      <td>NaN</td>\n",
       "      <td>NaN</td>\n",
       "      <td>NaN</td>\n",
       "      <td>-196.57290</td>\n",
       "      <td>NaN</td>\n",
       "      <td>-13.8924</td>\n",
       "      <td>NaN</td>\n",
       "    </tr>\n",
       "  </tbody>\n",
       "</table>\n",
       "</div>"
      ],
      "text/plain": [
       "Discount      0.00     0.10    0.15    0.20     0.30     0.32      0.40  \\\n",
       "Region                                                                    \n",
       "Central   19.67860  51.1578     NaN  5.4432 -26.6352 -46.9764  -97.7200   \n",
       "East      16.78860  56.8506     NaN  5.3690 -24.0862      NaN  -52.3365   \n",
       "South     19.80720      NaN     NaN  5.4432      NaN      NaN -195.7772   \n",
       "West      13.48425      NaN  14.098  9.8328      NaN      NaN       NaN   \n",
       "\n",
       "Discount      0.45       0.50     0.60     0.70     0.80  \n",
       "Region                                                    \n",
       "Central        NaN -180.04830 -12.0617      NaN -14.0498  \n",
       "East           NaN -183.80150      NaN  -7.8450      NaN  \n",
       "South    -167.3184  -69.66375      NaN  -9.4002      NaN  \n",
       "West           NaN -196.57290      NaN -13.8924      NaN  "
      ]
     },
     "execution_count": 165,
     "metadata": {},
     "output_type": "execute_result"
    }
   ],
   "source": [
    "dataset.pivot_table(values='Profit',index='Region',columns='Discount',aggfunc='median')"
   ]
  },
  {
   "cell_type": "markdown",
   "metadata": {},
   "source": [
    "#### Conclusion\n",
    "* For upto 20% discount, the items are Sold at Profit. \n",
    "* West Region has the maximum Sales followed by East, Central and South.\n",
    "* However, in terms of profit obtained the order is Slightly different. West Region has the maximum Profit followed by East, South and Central.\n",
    "* Maximum demands of goods are in West and East "
   ]
  },
  {
   "cell_type": "markdown",
   "metadata": {},
   "source": [
    "### Analyzing Sales and Profit on Category"
   ]
  },
  {
   "cell_type": "code",
   "execution_count": 67,
   "metadata": {},
   "outputs": [
    {
     "data": {
      "text/html": [
       "<style  type=\"text/css\" >\n",
       "#T_e85e97d6_01d3_11ec_a3ab_eeb1a4cad014row0_col0,#T_e85e97d6_01d3_11ec_a3ab_eeb1a4cad014row21_col2,#T_e85e97d6_01d3_11ec_a3ab_eeb1a4cad014row34_col0{\n",
       "            background-color:  #471063;\n",
       "            color:  #f1f1f1;\n",
       "            font-size:  15px;\n",
       "        }#T_e85e97d6_01d3_11ec_a3ab_eeb1a4cad014row0_col1{\n",
       "            background-color:  #33628d;\n",
       "            color:  #f1f1f1;\n",
       "            font-size:  15px;\n",
       "        }#T_e85e97d6_01d3_11ec_a3ab_eeb1a4cad014row0_col2,#T_e85e97d6_01d3_11ec_a3ab_eeb1a4cad014row23_col2,#T_e85e97d6_01d3_11ec_a3ab_eeb1a4cad014row26_col0,#T_e85e97d6_01d3_11ec_a3ab_eeb1a4cad014row34_col2{\n",
       "            background-color:  #470d60;\n",
       "            color:  #f1f1f1;\n",
       "            font-size:  15px;\n",
       "        }#T_e85e97d6_01d3_11ec_a3ab_eeb1a4cad014row1_col0,#T_e85e97d6_01d3_11ec_a3ab_eeb1a4cad014row12_col2,#T_e85e97d6_01d3_11ec_a3ab_eeb1a4cad014row15_col0,#T_e85e97d6_01d3_11ec_a3ab_eeb1a4cad014row28_col0{\n",
       "            background-color:  #481c6e;\n",
       "            color:  #f1f1f1;\n",
       "            font-size:  15px;\n",
       "        }#T_e85e97d6_01d3_11ec_a3ab_eeb1a4cad014row1_col1,#T_e85e97d6_01d3_11ec_a3ab_eeb1a4cad014row8_col1{\n",
       "            background-color:  #3f4889;\n",
       "            color:  #f1f1f1;\n",
       "            font-size:  15px;\n",
       "        }#T_e85e97d6_01d3_11ec_a3ab_eeb1a4cad014row1_col2{\n",
       "            background-color:  #482878;\n",
       "            color:  #f1f1f1;\n",
       "            font-size:  15px;\n",
       "        }#T_e85e97d6_01d3_11ec_a3ab_eeb1a4cad014row2_col0,#T_e85e97d6_01d3_11ec_a3ab_eeb1a4cad014row5_col0,#T_e85e97d6_01d3_11ec_a3ab_eeb1a4cad014row37_col2{\n",
       "            background-color:  #460a5d;\n",
       "            color:  #f1f1f1;\n",
       "            font-size:  15px;\n",
       "        }#T_e85e97d6_01d3_11ec_a3ab_eeb1a4cad014row2_col1{\n",
       "            background-color:  #365d8d;\n",
       "            color:  #f1f1f1;\n",
       "            font-size:  15px;\n",
       "        }#T_e85e97d6_01d3_11ec_a3ab_eeb1a4cad014row2_col2,#T_e85e97d6_01d3_11ec_a3ab_eeb1a4cad014row22_col2,#T_e85e97d6_01d3_11ec_a3ab_eeb1a4cad014row42_col2{\n",
       "            background-color:  #460b5e;\n",
       "            color:  #f1f1f1;\n",
       "            font-size:  15px;\n",
       "        }#T_e85e97d6_01d3_11ec_a3ab_eeb1a4cad014row3_col0,#T_e85e97d6_01d3_11ec_a3ab_eeb1a4cad014row3_col1,#T_e85e97d6_01d3_11ec_a3ab_eeb1a4cad014row3_col2{\n",
       "            background-color:  #fde725;\n",
       "            color:  #000000;\n",
       "            font-size:  15px;\n",
       "        }#T_e85e97d6_01d3_11ec_a3ab_eeb1a4cad014row4_col0,#T_e85e97d6_01d3_11ec_a3ab_eeb1a4cad014row15_col2,#T_e85e97d6_01d3_11ec_a3ab_eeb1a4cad014row47_col0{\n",
       "            background-color:  #481a6c;\n",
       "            color:  #f1f1f1;\n",
       "            font-size:  15px;\n",
       "        }#T_e85e97d6_01d3_11ec_a3ab_eeb1a4cad014row4_col1{\n",
       "            background-color:  #424086;\n",
       "            color:  #f1f1f1;\n",
       "            font-size:  15px;\n",
       "        }#T_e85e97d6_01d3_11ec_a3ab_eeb1a4cad014row4_col2,#T_e85e97d6_01d3_11ec_a3ab_eeb1a4cad014row9_col2{\n",
       "            background-color:  #482173;\n",
       "            color:  #f1f1f1;\n",
       "            font-size:  15px;\n",
       "        }#T_e85e97d6_01d3_11ec_a3ab_eeb1a4cad014row5_col1{\n",
       "            background-color:  #365c8d;\n",
       "            color:  #f1f1f1;\n",
       "            font-size:  15px;\n",
       "        }#T_e85e97d6_01d3_11ec_a3ab_eeb1a4cad014row5_col2,#T_e85e97d6_01d3_11ec_a3ab_eeb1a4cad014row35_col0{\n",
       "            background-color:  #470e61;\n",
       "            color:  #f1f1f1;\n",
       "            font-size:  15px;\n",
       "        }#T_e85e97d6_01d3_11ec_a3ab_eeb1a4cad014row6_col0{\n",
       "            background-color:  #481668;\n",
       "            color:  #f1f1f1;\n",
       "            font-size:  15px;\n",
       "        }#T_e85e97d6_01d3_11ec_a3ab_eeb1a4cad014row6_col1,#T_e85e97d6_01d3_11ec_a3ab_eeb1a4cad014row28_col1{\n",
       "            background-color:  #2f6c8e;\n",
       "            color:  #f1f1f1;\n",
       "            font-size:  15px;\n",
       "        }#T_e85e97d6_01d3_11ec_a3ab_eeb1a4cad014row6_col2,#T_e85e97d6_01d3_11ec_a3ab_eeb1a4cad014row18_col0,#T_e85e97d6_01d3_11ec_a3ab_eeb1a4cad014row37_col0{\n",
       "            background-color:  #471365;\n",
       "            color:  #f1f1f1;\n",
       "            font-size:  15px;\n",
       "        }#T_e85e97d6_01d3_11ec_a3ab_eeb1a4cad014row7_col0,#T_e85e97d6_01d3_11ec_a3ab_eeb1a4cad014row7_col2,#T_e85e97d6_01d3_11ec_a3ab_eeb1a4cad014row10_col0,#T_e85e97d6_01d3_11ec_a3ab_eeb1a4cad014row14_col0,#T_e85e97d6_01d3_11ec_a3ab_eeb1a4cad014row17_col2,#T_e85e97d6_01d3_11ec_a3ab_eeb1a4cad014row24_col2,#T_e85e97d6_01d3_11ec_a3ab_eeb1a4cad014row39_col2,#T_e85e97d6_01d3_11ec_a3ab_eeb1a4cad014row43_col2{\n",
       "            background-color:  #440256;\n",
       "            color:  #f1f1f1;\n",
       "            font-size:  15px;\n",
       "        }#T_e85e97d6_01d3_11ec_a3ab_eeb1a4cad014row7_col1,#T_e85e97d6_01d3_11ec_a3ab_eeb1a4cad014row13_col1,#T_e85e97d6_01d3_11ec_a3ab_eeb1a4cad014row29_col1{\n",
       "            background-color:  #39558c;\n",
       "            color:  #f1f1f1;\n",
       "            font-size:  15px;\n",
       "        }#T_e85e97d6_01d3_11ec_a3ab_eeb1a4cad014row8_col0{\n",
       "            background-color:  #424186;\n",
       "            color:  #f1f1f1;\n",
       "            font-size:  15px;\n",
       "        }#T_e85e97d6_01d3_11ec_a3ab_eeb1a4cad014row8_col2,#T_e85e97d6_01d3_11ec_a3ab_eeb1a4cad014row31_col1{\n",
       "            background-color:  #433d84;\n",
       "            color:  #f1f1f1;\n",
       "            font-size:  15px;\n",
       "        }#T_e85e97d6_01d3_11ec_a3ab_eeb1a4cad014row9_col0{\n",
       "            background-color:  #482677;\n",
       "            color:  #f1f1f1;\n",
       "            font-size:  15px;\n",
       "        }#T_e85e97d6_01d3_11ec_a3ab_eeb1a4cad014row9_col1{\n",
       "            background-color:  #297b8e;\n",
       "            color:  #000000;\n",
       "            font-size:  15px;\n",
       "        }#T_e85e97d6_01d3_11ec_a3ab_eeb1a4cad014row10_col1,#T_e85e97d6_01d3_11ec_a3ab_eeb1a4cad014row14_col1{\n",
       "            background-color:  #3a548c;\n",
       "            color:  #f1f1f1;\n",
       "            font-size:  15px;\n",
       "        }#T_e85e97d6_01d3_11ec_a3ab_eeb1a4cad014row10_col2,#T_e85e97d6_01d3_11ec_a3ab_eeb1a4cad014row13_col0,#T_e85e97d6_01d3_11ec_a3ab_eeb1a4cad014row14_col2,#T_e85e97d6_01d3_11ec_a3ab_eeb1a4cad014row24_col0,#T_e85e97d6_01d3_11ec_a3ab_eeb1a4cad014row29_col0{\n",
       "            background-color:  #450457;\n",
       "            color:  #f1f1f1;\n",
       "            font-size:  15px;\n",
       "        }#T_e85e97d6_01d3_11ec_a3ab_eeb1a4cad014row11_col0{\n",
       "            background-color:  #443b84;\n",
       "            color:  #f1f1f1;\n",
       "            font-size:  15px;\n",
       "        }#T_e85e97d6_01d3_11ec_a3ab_eeb1a4cad014row11_col1,#T_e85e97d6_01d3_11ec_a3ab_eeb1a4cad014row31_col2{\n",
       "            background-color:  #472d7b;\n",
       "            color:  #f1f1f1;\n",
       "            font-size:  15px;\n",
       "        }#T_e85e97d6_01d3_11ec_a3ab_eeb1a4cad014row11_col2,#T_e85e97d6_01d3_11ec_a3ab_eeb1a4cad014row35_col1{\n",
       "            background-color:  #3c4f8a;\n",
       "            color:  #f1f1f1;\n",
       "            font-size:  15px;\n",
       "        }#T_e85e97d6_01d3_11ec_a3ab_eeb1a4cad014row12_col0,#T_e85e97d6_01d3_11ec_a3ab_eeb1a4cad014row44_col2{\n",
       "            background-color:  #482979;\n",
       "            color:  #f1f1f1;\n",
       "            font-size:  15px;\n",
       "        }#T_e85e97d6_01d3_11ec_a3ab_eeb1a4cad014row12_col1{\n",
       "            background-color:  #27808e;\n",
       "            color:  #000000;\n",
       "            font-size:  15px;\n",
       "        }#T_e85e97d6_01d3_11ec_a3ab_eeb1a4cad014row13_col2,#T_e85e97d6_01d3_11ec_a3ab_eeb1a4cad014row25_col0,#T_e85e97d6_01d3_11ec_a3ab_eeb1a4cad014row27_col0{\n",
       "            background-color:  #450559;\n",
       "            color:  #f1f1f1;\n",
       "            font-size:  15px;\n",
       "        }#T_e85e97d6_01d3_11ec_a3ab_eeb1a4cad014row15_col1{\n",
       "            background-color:  #2e6f8e;\n",
       "            color:  #f1f1f1;\n",
       "            font-size:  15px;\n",
       "        }#T_e85e97d6_01d3_11ec_a3ab_eeb1a4cad014row16_col0,#T_e85e97d6_01d3_11ec_a3ab_eeb1a4cad014row25_col2,#T_e85e97d6_01d3_11ec_a3ab_eeb1a4cad014row27_col2,#T_e85e97d6_01d3_11ec_a3ab_eeb1a4cad014row29_col2,#T_e85e97d6_01d3_11ec_a3ab_eeb1a4cad014row38_col0,#T_e85e97d6_01d3_11ec_a3ab_eeb1a4cad014row43_col0{\n",
       "            background-color:  #46075a;\n",
       "            color:  #f1f1f1;\n",
       "            font-size:  15px;\n",
       "        }#T_e85e97d6_01d3_11ec_a3ab_eeb1a4cad014row16_col1,#T_e85e97d6_01d3_11ec_a3ab_eeb1a4cad014row42_col1,#T_e85e97d6_01d3_11ec_a3ab_eeb1a4cad014row43_col1{\n",
       "            background-color:  #38598c;\n",
       "            color:  #f1f1f1;\n",
       "            font-size:  15px;\n",
       "        }#T_e85e97d6_01d3_11ec_a3ab_eeb1a4cad014row16_col2,#T_e85e97d6_01d3_11ec_a3ab_eeb1a4cad014row22_col0,#T_e85e97d6_01d3_11ec_a3ab_eeb1a4cad014row26_col2,#T_e85e97d6_01d3_11ec_a3ab_eeb1a4cad014row38_col2,#T_e85e97d6_01d3_11ec_a3ab_eeb1a4cad014row42_col0{\n",
       "            background-color:  #46085c;\n",
       "            color:  #f1f1f1;\n",
       "            font-size:  15px;\n",
       "        }#T_e85e97d6_01d3_11ec_a3ab_eeb1a4cad014row17_col0,#T_e85e97d6_01d3_11ec_a3ab_eeb1a4cad014row32_col0,#T_e85e97d6_01d3_11ec_a3ab_eeb1a4cad014row32_col2,#T_e85e97d6_01d3_11ec_a3ab_eeb1a4cad014row39_col0,#T_e85e97d6_01d3_11ec_a3ab_eeb1a4cad014row41_col1,#T_e85e97d6_01d3_11ec_a3ab_eeb1a4cad014row46_col0,#T_e85e97d6_01d3_11ec_a3ab_eeb1a4cad014row46_col2,#T_e85e97d6_01d3_11ec_a3ab_eeb1a4cad014row48_col0,#T_e85e97d6_01d3_11ec_a3ab_eeb1a4cad014row48_col2{\n",
       "            background-color:  #440154;\n",
       "            color:  #f1f1f1;\n",
       "            font-size:  15px;\n",
       "        }#T_e85e97d6_01d3_11ec_a3ab_eeb1a4cad014row17_col1,#T_e85e97d6_01d3_11ec_a3ab_eeb1a4cad014row32_col1,#T_e85e97d6_01d3_11ec_a3ab_eeb1a4cad014row39_col1{\n",
       "            background-color:  #3a538b;\n",
       "            color:  #f1f1f1;\n",
       "            font-size:  15px;\n",
       "        }#T_e85e97d6_01d3_11ec_a3ab_eeb1a4cad014row18_col1,#T_e85e97d6_01d3_11ec_a3ab_eeb1a4cad014row37_col1{\n",
       "            background-color:  #32658e;\n",
       "            color:  #f1f1f1;\n",
       "            font-size:  15px;\n",
       "        }#T_e85e97d6_01d3_11ec_a3ab_eeb1a4cad014row18_col2{\n",
       "            background-color:  #481467;\n",
       "            color:  #f1f1f1;\n",
       "            font-size:  15px;\n",
       "        }#T_e85e97d6_01d3_11ec_a3ab_eeb1a4cad014row19_col0,#T_e85e97d6_01d3_11ec_a3ab_eeb1a4cad014row28_col2,#T_e85e97d6_01d3_11ec_a3ab_eeb1a4cad014row47_col2{\n",
       "            background-color:  #481769;\n",
       "            color:  #f1f1f1;\n",
       "            font-size:  15px;\n",
       "        }#T_e85e97d6_01d3_11ec_a3ab_eeb1a4cad014row19_col1{\n",
       "            background-color:  #32648e;\n",
       "            color:  #f1f1f1;\n",
       "            font-size:  15px;\n",
       "        }#T_e85e97d6_01d3_11ec_a3ab_eeb1a4cad014row19_col2,#T_e85e97d6_01d3_11ec_a3ab_eeb1a4cad014row21_col0,#T_e85e97d6_01d3_11ec_a3ab_eeb1a4cad014row35_col2,#T_e85e97d6_01d3_11ec_a3ab_eeb1a4cad014row40_col0{\n",
       "            background-color:  #48186a;\n",
       "            color:  #f1f1f1;\n",
       "            font-size:  15px;\n",
       "        }#T_e85e97d6_01d3_11ec_a3ab_eeb1a4cad014row20_col0{\n",
       "            background-color:  #443983;\n",
       "            color:  #f1f1f1;\n",
       "            font-size:  15px;\n",
       "        }#T_e85e97d6_01d3_11ec_a3ab_eeb1a4cad014row20_col1{\n",
       "            background-color:  #218e8d;\n",
       "            color:  #000000;\n",
       "            font-size:  15px;\n",
       "        }#T_e85e97d6_01d3_11ec_a3ab_eeb1a4cad014row20_col2{\n",
       "            background-color:  #472c7a;\n",
       "            color:  #f1f1f1;\n",
       "            font-size:  15px;\n",
       "        }#T_e85e97d6_01d3_11ec_a3ab_eeb1a4cad014row21_col1{\n",
       "            background-color:  #2e6e8e;\n",
       "            color:  #f1f1f1;\n",
       "            font-size:  15px;\n",
       "        }#T_e85e97d6_01d3_11ec_a3ab_eeb1a4cad014row22_col1,#T_e85e97d6_01d3_11ec_a3ab_eeb1a4cad014row26_col1{\n",
       "            background-color:  #375b8d;\n",
       "            color:  #f1f1f1;\n",
       "            font-size:  15px;\n",
       "        }#T_e85e97d6_01d3_11ec_a3ab_eeb1a4cad014row23_col0{\n",
       "            background-color:  #471164;\n",
       "            color:  #f1f1f1;\n",
       "            font-size:  15px;\n",
       "        }#T_e85e97d6_01d3_11ec_a3ab_eeb1a4cad014row23_col1{\n",
       "            background-color:  #33638d;\n",
       "            color:  #f1f1f1;\n",
       "            font-size:  15px;\n",
       "        }#T_e85e97d6_01d3_11ec_a3ab_eeb1a4cad014row24_col1,#T_e85e97d6_01d3_11ec_a3ab_eeb1a4cad014row25_col1{\n",
       "            background-color:  #38588c;\n",
       "            color:  #f1f1f1;\n",
       "            font-size:  15px;\n",
       "        }#T_e85e97d6_01d3_11ec_a3ab_eeb1a4cad014row27_col1,#T_e85e97d6_01d3_11ec_a3ab_eeb1a4cad014row38_col1{\n",
       "            background-color:  #39568c;\n",
       "            color:  #f1f1f1;\n",
       "            font-size:  15px;\n",
       "        }#T_e85e97d6_01d3_11ec_a3ab_eeb1a4cad014row30_col0{\n",
       "            background-color:  #3aba76;\n",
       "            color:  #000000;\n",
       "            font-size:  15px;\n",
       "        }#T_e85e97d6_01d3_11ec_a3ab_eeb1a4cad014row30_col1{\n",
       "            background-color:  #f1e51d;\n",
       "            color:  #000000;\n",
       "            font-size:  15px;\n",
       "        }#T_e85e97d6_01d3_11ec_a3ab_eeb1a4cad014row30_col2{\n",
       "            background-color:  #1e9c89;\n",
       "            color:  #000000;\n",
       "            font-size:  15px;\n",
       "        }#T_e85e97d6_01d3_11ec_a3ab_eeb1a4cad014row31_col0{\n",
       "            background-color:  #472a7a;\n",
       "            color:  #f1f1f1;\n",
       "            font-size:  15px;\n",
       "        }#T_e85e97d6_01d3_11ec_a3ab_eeb1a4cad014row33_col0{\n",
       "            background-color:  #443a83;\n",
       "            color:  #f1f1f1;\n",
       "            font-size:  15px;\n",
       "        }#T_e85e97d6_01d3_11ec_a3ab_eeb1a4cad014row33_col1{\n",
       "            background-color:  #481f70;\n",
       "            color:  #f1f1f1;\n",
       "            font-size:  15px;\n",
       "        }#T_e85e97d6_01d3_11ec_a3ab_eeb1a4cad014row33_col2{\n",
       "            background-color:  #3e4c8a;\n",
       "            color:  #f1f1f1;\n",
       "            font-size:  15px;\n",
       "        }#T_e85e97d6_01d3_11ec_a3ab_eeb1a4cad014row34_col1{\n",
       "            background-color:  #355f8d;\n",
       "            color:  #f1f1f1;\n",
       "            font-size:  15px;\n",
       "        }#T_e85e97d6_01d3_11ec_a3ab_eeb1a4cad014row36_col0,#T_e85e97d6_01d3_11ec_a3ab_eeb1a4cad014row46_col1,#T_e85e97d6_01d3_11ec_a3ab_eeb1a4cad014row48_col1{\n",
       "            background-color:  #3b528b;\n",
       "            color:  #f1f1f1;\n",
       "            font-size:  15px;\n",
       "        }#T_e85e97d6_01d3_11ec_a3ab_eeb1a4cad014row36_col1{\n",
       "            background-color:  #482475;\n",
       "            color:  #f1f1f1;\n",
       "            font-size:  15px;\n",
       "        }#T_e85e97d6_01d3_11ec_a3ab_eeb1a4cad014row36_col2{\n",
       "            background-color:  #375a8c;\n",
       "            color:  #f1f1f1;\n",
       "            font-size:  15px;\n",
       "        }#T_e85e97d6_01d3_11ec_a3ab_eeb1a4cad014row40_col1{\n",
       "            background-color:  #414487;\n",
       "            color:  #f1f1f1;\n",
       "            font-size:  15px;\n",
       "        }#T_e85e97d6_01d3_11ec_a3ab_eeb1a4cad014row40_col2{\n",
       "            background-color:  #482071;\n",
       "            color:  #f1f1f1;\n",
       "            font-size:  15px;\n",
       "        }#T_e85e97d6_01d3_11ec_a3ab_eeb1a4cad014row41_col0{\n",
       "            background-color:  #2d718e;\n",
       "            color:  #f1f1f1;\n",
       "            font-size:  15px;\n",
       "        }#T_e85e97d6_01d3_11ec_a3ab_eeb1a4cad014row41_col2{\n",
       "            background-color:  #228d8d;\n",
       "            color:  #000000;\n",
       "            font-size:  15px;\n",
       "        }#T_e85e97d6_01d3_11ec_a3ab_eeb1a4cad014row44_col0{\n",
       "            background-color:  #453581;\n",
       "            color:  #f1f1f1;\n",
       "            font-size:  15px;\n",
       "        }#T_e85e97d6_01d3_11ec_a3ab_eeb1a4cad014row44_col1{\n",
       "            background-color:  #26818e;\n",
       "            color:  #000000;\n",
       "            font-size:  15px;\n",
       "        }#T_e85e97d6_01d3_11ec_a3ab_eeb1a4cad014row45_col0{\n",
       "            background-color:  #34608d;\n",
       "            color:  #f1f1f1;\n",
       "            font-size:  15px;\n",
       "        }#T_e85e97d6_01d3_11ec_a3ab_eeb1a4cad014row45_col1{\n",
       "            background-color:  #20a386;\n",
       "            color:  #000000;\n",
       "            font-size:  15px;\n",
       "        }#T_e85e97d6_01d3_11ec_a3ab_eeb1a4cad014row45_col2{\n",
       "            background-color:  #3c508b;\n",
       "            color:  #f1f1f1;\n",
       "            font-size:  15px;\n",
       "        }#T_e85e97d6_01d3_11ec_a3ab_eeb1a4cad014row47_col1{\n",
       "            background-color:  #31688e;\n",
       "            color:  #f1f1f1;\n",
       "            font-size:  15px;\n",
       "        }</style><table id=\"T_e85e97d6_01d3_11ec_a3ab_eeb1a4cad014\" ><thead>    <tr>        <th class=\"blank level0\" ></th>        <th class=\"col_heading level0 col0\" >Sales</th>        <th class=\"col_heading level0 col1\" >Profit</th>        <th class=\"col_heading level0 col2\" >Quantity</th>    </tr>    <tr>        <th class=\"blank level1\" ></th>        <th class=\"col_heading level1 col0\" >sum</th>        <th class=\"col_heading level1 col1\" >sum</th>        <th class=\"col_heading level1 col2\" >sum</th>    </tr>    <tr>        <th class=\"index_name level0\" >State</th>        <th class=\"blank\" ></th>        <th class=\"blank\" ></th>        <th class=\"blank\" ></th>    </tr></thead><tbody>\n",
       "                <tr>\n",
       "                        <th id=\"T_e85e97d6_01d3_11ec_a3ab_eeb1a4cad014level0_row0\" class=\"row_heading level0 row0\" >Alabama</th>\n",
       "                        <td id=\"T_e85e97d6_01d3_11ec_a3ab_eeb1a4cad014row0_col0\" class=\"data row0 col0\" >19510.640000</td>\n",
       "                        <td id=\"T_e85e97d6_01d3_11ec_a3ab_eeb1a4cad014row0_col1\" class=\"data row0 col1\" >5786.825300</td>\n",
       "                        <td id=\"T_e85e97d6_01d3_11ec_a3ab_eeb1a4cad014row0_col2\" class=\"data row0 col2\" >256</td>\n",
       "            </tr>\n",
       "            <tr>\n",
       "                        <th id=\"T_e85e97d6_01d3_11ec_a3ab_eeb1a4cad014level0_row1\" class=\"row_heading level0 row1\" >Arizona</th>\n",
       "                        <td id=\"T_e85e97d6_01d3_11ec_a3ab_eeb1a4cad014row1_col0\" class=\"data row1 col0\" >35282.001000</td>\n",
       "                        <td id=\"T_e85e97d6_01d3_11ec_a3ab_eeb1a4cad014row1_col1\" class=\"data row1 col1\" >-3427.924600</td>\n",
       "                        <td id=\"T_e85e97d6_01d3_11ec_a3ab_eeb1a4cad014row1_col2\" class=\"data row1 col2\" >862</td>\n",
       "            </tr>\n",
       "            <tr>\n",
       "                        <th id=\"T_e85e97d6_01d3_11ec_a3ab_eeb1a4cad014level0_row2\" class=\"row_heading level0 row2\" >Arkansas</th>\n",
       "                        <td id=\"T_e85e97d6_01d3_11ec_a3ab_eeb1a4cad014row2_col0\" class=\"data row2 col0\" >11678.130000</td>\n",
       "                        <td id=\"T_e85e97d6_01d3_11ec_a3ab_eeb1a4cad014row2_col1\" class=\"data row2 col1\" >4008.687100</td>\n",
       "                        <td id=\"T_e85e97d6_01d3_11ec_a3ab_eeb1a4cad014row2_col2\" class=\"data row2 col2\" >240</td>\n",
       "            </tr>\n",
       "            <tr>\n",
       "                        <th id=\"T_e85e97d6_01d3_11ec_a3ab_eeb1a4cad014level0_row3\" class=\"row_heading level0 row3\" >California</th>\n",
       "                        <td id=\"T_e85e97d6_01d3_11ec_a3ab_eeb1a4cad014row3_col0\" class=\"data row3 col0\" >457687.631500</td>\n",
       "                        <td id=\"T_e85e97d6_01d3_11ec_a3ab_eeb1a4cad014row3_col1\" class=\"data row3 col1\" >76381.387100</td>\n",
       "                        <td id=\"T_e85e97d6_01d3_11ec_a3ab_eeb1a4cad014row3_col2\" class=\"data row3 col2\" >7667</td>\n",
       "            </tr>\n",
       "            <tr>\n",
       "                        <th id=\"T_e85e97d6_01d3_11ec_a3ab_eeb1a4cad014level0_row4\" class=\"row_heading level0 row4\" >Colorado</th>\n",
       "                        <td id=\"T_e85e97d6_01d3_11ec_a3ab_eeb1a4cad014row4_col0\" class=\"data row4 col0\" >32108.118000</td>\n",
       "                        <td id=\"T_e85e97d6_01d3_11ec_a3ab_eeb1a4cad014row4_col1\" class=\"data row4 col1\" >-6527.857900</td>\n",
       "                        <td id=\"T_e85e97d6_01d3_11ec_a3ab_eeb1a4cad014row4_col2\" class=\"data row4 col2\" >693</td>\n",
       "            </tr>\n",
       "            <tr>\n",
       "                        <th id=\"T_e85e97d6_01d3_11ec_a3ab_eeb1a4cad014level0_row5\" class=\"row_heading level0 row5\" >Connecticut</th>\n",
       "                        <td id=\"T_e85e97d6_01d3_11ec_a3ab_eeb1a4cad014row5_col0\" class=\"data row5 col0\" >13384.357000</td>\n",
       "                        <td id=\"T_e85e97d6_01d3_11ec_a3ab_eeb1a4cad014row5_col1\" class=\"data row5 col1\" >3511.491800</td>\n",
       "                        <td id=\"T_e85e97d6_01d3_11ec_a3ab_eeb1a4cad014row5_col2\" class=\"data row5 col2\" >281</td>\n",
       "            </tr>\n",
       "            <tr>\n",
       "                        <th id=\"T_e85e97d6_01d3_11ec_a3ab_eeb1a4cad014level0_row6\" class=\"row_heading level0 row6\" >Delaware</th>\n",
       "                        <td id=\"T_e85e97d6_01d3_11ec_a3ab_eeb1a4cad014row6_col0\" class=\"data row6 col0\" >27451.069000</td>\n",
       "                        <td id=\"T_e85e97d6_01d3_11ec_a3ab_eeb1a4cad014row6_col1\" class=\"data row6 col1\" >9977.374800</td>\n",
       "                        <td id=\"T_e85e97d6_01d3_11ec_a3ab_eeb1a4cad014row6_col2\" class=\"data row6 col2\" >367</td>\n",
       "            </tr>\n",
       "            <tr>\n",
       "                        <th id=\"T_e85e97d6_01d3_11ec_a3ab_eeb1a4cad014level0_row7\" class=\"row_heading level0 row7\" >District of Columbia</th>\n",
       "                        <td id=\"T_e85e97d6_01d3_11ec_a3ab_eeb1a4cad014row7_col0\" class=\"data row7 col0\" >2865.020000</td>\n",
       "                        <td id=\"T_e85e97d6_01d3_11ec_a3ab_eeb1a4cad014row7_col1\" class=\"data row7 col1\" >1059.589300</td>\n",
       "                        <td id=\"T_e85e97d6_01d3_11ec_a3ab_eeb1a4cad014row7_col2\" class=\"data row7 col2\" >40</td>\n",
       "            </tr>\n",
       "            <tr>\n",
       "                        <th id=\"T_e85e97d6_01d3_11ec_a3ab_eeb1a4cad014level0_row8\" class=\"row_heading level0 row8\" >Florida</th>\n",
       "                        <td id=\"T_e85e97d6_01d3_11ec_a3ab_eeb1a4cad014row8_col0\" class=\"data row8 col0\" >89473.708000</td>\n",
       "                        <td id=\"T_e85e97d6_01d3_11ec_a3ab_eeb1a4cad014row8_col1\" class=\"data row8 col1\" >-3399.301700</td>\n",
       "                        <td id=\"T_e85e97d6_01d3_11ec_a3ab_eeb1a4cad014row8_col2\" class=\"data row8 col2\" >1379</td>\n",
       "            </tr>\n",
       "            <tr>\n",
       "                        <th id=\"T_e85e97d6_01d3_11ec_a3ab_eeb1a4cad014level0_row9\" class=\"row_heading level0 row9\" >Georgia</th>\n",
       "                        <td id=\"T_e85e97d6_01d3_11ec_a3ab_eeb1a4cad014row9_col0\" class=\"data row9 col0\" >49095.840000</td>\n",
       "                        <td id=\"T_e85e97d6_01d3_11ec_a3ab_eeb1a4cad014row9_col1\" class=\"data row9 col1\" >16250.043300</td>\n",
       "                        <td id=\"T_e85e97d6_01d3_11ec_a3ab_eeb1a4cad014row9_col2\" class=\"data row9 col2\" >705</td>\n",
       "            </tr>\n",
       "            <tr>\n",
       "                        <th id=\"T_e85e97d6_01d3_11ec_a3ab_eeb1a4cad014level0_row10\" class=\"row_heading level0 row10\" >Idaho</th>\n",
       "                        <td id=\"T_e85e97d6_01d3_11ec_a3ab_eeb1a4cad014row10_col0\" class=\"data row10 col0\" >4382.486000</td>\n",
       "                        <td id=\"T_e85e97d6_01d3_11ec_a3ab_eeb1a4cad014row10_col1\" class=\"data row10 col1\" >826.723100</td>\n",
       "                        <td id=\"T_e85e97d6_01d3_11ec_a3ab_eeb1a4cad014row10_col2\" class=\"data row10 col2\" >64</td>\n",
       "            </tr>\n",
       "            <tr>\n",
       "                        <th id=\"T_e85e97d6_01d3_11ec_a3ab_eeb1a4cad014level0_row11\" class=\"row_heading level0 row11\" >Illinois</th>\n",
       "                        <td id=\"T_e85e97d6_01d3_11ec_a3ab_eeb1a4cad014row11_col0\" class=\"data row11 col0\" >80166.101000</td>\n",
       "                        <td id=\"T_e85e97d6_01d3_11ec_a3ab_eeb1a4cad014row11_col1\" class=\"data row11 col1\" >-12607.887000</td>\n",
       "                        <td id=\"T_e85e97d6_01d3_11ec_a3ab_eeb1a4cad014row11_col2\" class=\"data row11 col2\" >1845</td>\n",
       "            </tr>\n",
       "            <tr>\n",
       "                        <th id=\"T_e85e97d6_01d3_11ec_a3ab_eeb1a4cad014level0_row12\" class=\"row_heading level0 row12\" >Indiana</th>\n",
       "                        <td id=\"T_e85e97d6_01d3_11ec_a3ab_eeb1a4cad014row12_col0\" class=\"data row12 col0\" >53555.360000</td>\n",
       "                        <td id=\"T_e85e97d6_01d3_11ec_a3ab_eeb1a4cad014row12_col1\" class=\"data row12 col1\" >18382.936300</td>\n",
       "                        <td id=\"T_e85e97d6_01d3_11ec_a3ab_eeb1a4cad014row12_col2\" class=\"data row12 col2\" >578</td>\n",
       "            </tr>\n",
       "            <tr>\n",
       "                        <th id=\"T_e85e97d6_01d3_11ec_a3ab_eeb1a4cad014level0_row13\" class=\"row_heading level0 row13\" >Iowa</th>\n",
       "                        <td id=\"T_e85e97d6_01d3_11ec_a3ab_eeb1a4cad014row13_col0\" class=\"data row13 col0\" >4579.760000</td>\n",
       "                        <td id=\"T_e85e97d6_01d3_11ec_a3ab_eeb1a4cad014row13_col1\" class=\"data row13 col1\" >1183.811900</td>\n",
       "                        <td id=\"T_e85e97d6_01d3_11ec_a3ab_eeb1a4cad014row13_col2\" class=\"data row13 col2\" >112</td>\n",
       "            </tr>\n",
       "            <tr>\n",
       "                        <th id=\"T_e85e97d6_01d3_11ec_a3ab_eeb1a4cad014level0_row14\" class=\"row_heading level0 row14\" >Kansas</th>\n",
       "                        <td id=\"T_e85e97d6_01d3_11ec_a3ab_eeb1a4cad014row14_col0\" class=\"data row14 col0\" >2914.310000</td>\n",
       "                        <td id=\"T_e85e97d6_01d3_11ec_a3ab_eeb1a4cad014row14_col1\" class=\"data row14 col1\" >836.443500</td>\n",
       "                        <td id=\"T_e85e97d6_01d3_11ec_a3ab_eeb1a4cad014row14_col2\" class=\"data row14 col2\" >74</td>\n",
       "            </tr>\n",
       "            <tr>\n",
       "                        <th id=\"T_e85e97d6_01d3_11ec_a3ab_eeb1a4cad014level0_row15\" class=\"row_heading level0 row15\" >Kentucky</th>\n",
       "                        <td id=\"T_e85e97d6_01d3_11ec_a3ab_eeb1a4cad014row15_col0\" class=\"data row15 col0\" >36591.750000</td>\n",
       "                        <td id=\"T_e85e97d6_01d3_11ec_a3ab_eeb1a4cad014row15_col1\" class=\"data row15 col1\" >11199.696600</td>\n",
       "                        <td id=\"T_e85e97d6_01d3_11ec_a3ab_eeb1a4cad014row15_col2\" class=\"data row15 col2\" >523</td>\n",
       "            </tr>\n",
       "            <tr>\n",
       "                        <th id=\"T_e85e97d6_01d3_11ec_a3ab_eeb1a4cad014level0_row16\" class=\"row_heading level0 row16\" >Louisiana</th>\n",
       "                        <td id=\"T_e85e97d6_01d3_11ec_a3ab_eeb1a4cad014row16_col0\" class=\"data row16 col0\" >9217.030000</td>\n",
       "                        <td id=\"T_e85e97d6_01d3_11ec_a3ab_eeb1a4cad014row16_col1\" class=\"data row16 col1\" >2196.102300</td>\n",
       "                        <td id=\"T_e85e97d6_01d3_11ec_a3ab_eeb1a4cad014row16_col2\" class=\"data row16 col2\" >156</td>\n",
       "            </tr>\n",
       "            <tr>\n",
       "                        <th id=\"T_e85e97d6_01d3_11ec_a3ab_eeb1a4cad014level0_row17\" class=\"row_heading level0 row17\" >Maine</th>\n",
       "                        <td id=\"T_e85e97d6_01d3_11ec_a3ab_eeb1a4cad014row17_col0\" class=\"data row17 col0\" >1270.530000</td>\n",
       "                        <td id=\"T_e85e97d6_01d3_11ec_a3ab_eeb1a4cad014row17_col1\" class=\"data row17 col1\" >454.486200</td>\n",
       "                        <td id=\"T_e85e97d6_01d3_11ec_a3ab_eeb1a4cad014row17_col2\" class=\"data row17 col2\" >35</td>\n",
       "            </tr>\n",
       "            <tr>\n",
       "                        <th id=\"T_e85e97d6_01d3_11ec_a3ab_eeb1a4cad014level0_row18\" class=\"row_heading level0 row18\" >Maryland</th>\n",
       "                        <td id=\"T_e85e97d6_01d3_11ec_a3ab_eeb1a4cad014row18_col0\" class=\"data row18 col0\" >23705.523000</td>\n",
       "                        <td id=\"T_e85e97d6_01d3_11ec_a3ab_eeb1a4cad014row18_col1\" class=\"data row18 col1\" >7031.178800</td>\n",
       "                        <td id=\"T_e85e97d6_01d3_11ec_a3ab_eeb1a4cad014row18_col2\" class=\"data row18 col2\" >420</td>\n",
       "            </tr>\n",
       "            <tr>\n",
       "                        <th id=\"T_e85e97d6_01d3_11ec_a3ab_eeb1a4cad014level0_row19\" class=\"row_heading level0 row19\" >Massachusetts</th>\n",
       "                        <td id=\"T_e85e97d6_01d3_11ec_a3ab_eeb1a4cad014row19_col0\" class=\"data row19 col0\" >28634.434000</td>\n",
       "                        <td id=\"T_e85e97d6_01d3_11ec_a3ab_eeb1a4cad014row19_col1\" class=\"data row19 col1\" >6785.501600</td>\n",
       "                        <td id=\"T_e85e97d6_01d3_11ec_a3ab_eeb1a4cad014row19_col2\" class=\"data row19 col2\" >491</td>\n",
       "            </tr>\n",
       "            <tr>\n",
       "                        <th id=\"T_e85e97d6_01d3_11ec_a3ab_eeb1a4cad014level0_row20\" class=\"row_heading level0 row20\" >Michigan</th>\n",
       "                        <td id=\"T_e85e97d6_01d3_11ec_a3ab_eeb1a4cad014row20_col0\" class=\"data row20 col0\" >76269.614000</td>\n",
       "                        <td id=\"T_e85e97d6_01d3_11ec_a3ab_eeb1a4cad014row20_col1\" class=\"data row20 col1\" >24463.187600</td>\n",
       "                        <td id=\"T_e85e97d6_01d3_11ec_a3ab_eeb1a4cad014row20_col2\" class=\"data row20 col2\" >946</td>\n",
       "            </tr>\n",
       "            <tr>\n",
       "                        <th id=\"T_e85e97d6_01d3_11ec_a3ab_eeb1a4cad014level0_row21\" class=\"row_heading level0 row21\" >Minnesota</th>\n",
       "                        <td id=\"T_e85e97d6_01d3_11ec_a3ab_eeb1a4cad014row21_col0\" class=\"data row21 col0\" >29863.150000</td>\n",
       "                        <td id=\"T_e85e97d6_01d3_11ec_a3ab_eeb1a4cad014row21_col1\" class=\"data row21 col1\" >10823.187400</td>\n",
       "                        <td id=\"T_e85e97d6_01d3_11ec_a3ab_eeb1a4cad014row21_col2\" class=\"data row21 col2\" >331</td>\n",
       "            </tr>\n",
       "            <tr>\n",
       "                        <th id=\"T_e85e97d6_01d3_11ec_a3ab_eeb1a4cad014level0_row22\" class=\"row_heading level0 row22\" >Mississippi</th>\n",
       "                        <td id=\"T_e85e97d6_01d3_11ec_a3ab_eeb1a4cad014row22_col0\" class=\"data row22 col0\" >10771.340000</td>\n",
       "                        <td id=\"T_e85e97d6_01d3_11ec_a3ab_eeb1a4cad014row22_col1\" class=\"data row22 col1\" >3172.976200</td>\n",
       "                        <td id=\"T_e85e97d6_01d3_11ec_a3ab_eeb1a4cad014row22_col2\" class=\"data row22 col2\" >221</td>\n",
       "            </tr>\n",
       "            <tr>\n",
       "                        <th id=\"T_e85e97d6_01d3_11ec_a3ab_eeb1a4cad014level0_row23\" class=\"row_heading level0 row23\" >Missouri</th>\n",
       "                        <td id=\"T_e85e97d6_01d3_11ec_a3ab_eeb1a4cad014row23_col0\" class=\"data row23 col0\" >22205.150000</td>\n",
       "                        <td id=\"T_e85e97d6_01d3_11ec_a3ab_eeb1a4cad014row23_col1\" class=\"data row23 col1\" >6436.210500</td>\n",
       "                        <td id=\"T_e85e97d6_01d3_11ec_a3ab_eeb1a4cad014row23_col2\" class=\"data row23 col2\" >252</td>\n",
       "            </tr>\n",
       "            <tr>\n",
       "                        <th id=\"T_e85e97d6_01d3_11ec_a3ab_eeb1a4cad014level0_row24\" class=\"row_heading level0 row24\" >Montana</th>\n",
       "                        <td id=\"T_e85e97d6_01d3_11ec_a3ab_eeb1a4cad014row24_col0\" class=\"data row24 col0\" >5589.352000</td>\n",
       "                        <td id=\"T_e85e97d6_01d3_11ec_a3ab_eeb1a4cad014row24_col1\" class=\"data row24 col1\" >1833.328500</td>\n",
       "                        <td id=\"T_e85e97d6_01d3_11ec_a3ab_eeb1a4cad014row24_col2\" class=\"data row24 col2\" >56</td>\n",
       "            </tr>\n",
       "            <tr>\n",
       "                        <th id=\"T_e85e97d6_01d3_11ec_a3ab_eeb1a4cad014level0_row25\" class=\"row_heading level0 row25\" >Nebraska</th>\n",
       "                        <td id=\"T_e85e97d6_01d3_11ec_a3ab_eeb1a4cad014row25_col0\" class=\"data row25 col0\" >7464.930000</td>\n",
       "                        <td id=\"T_e85e97d6_01d3_11ec_a3ab_eeb1a4cad014row25_col1\" class=\"data row25 col1\" >2037.094200</td>\n",
       "                        <td id=\"T_e85e97d6_01d3_11ec_a3ab_eeb1a4cad014row25_col2\" class=\"data row25 col2\" >136</td>\n",
       "            </tr>\n",
       "            <tr>\n",
       "                        <th id=\"T_e85e97d6_01d3_11ec_a3ab_eeb1a4cad014level0_row26\" class=\"row_heading level0 row26\" >Nevada</th>\n",
       "                        <td id=\"T_e85e97d6_01d3_11ec_a3ab_eeb1a4cad014row26_col0\" class=\"data row26 col0\" >16729.102000</td>\n",
       "                        <td id=\"T_e85e97d6_01d3_11ec_a3ab_eeb1a4cad014row26_col1\" class=\"data row26 col1\" >3316.765900</td>\n",
       "                        <td id=\"T_e85e97d6_01d3_11ec_a3ab_eeb1a4cad014row26_col2\" class=\"data row26 col2\" >168</td>\n",
       "            </tr>\n",
       "            <tr>\n",
       "                        <th id=\"T_e85e97d6_01d3_11ec_a3ab_eeb1a4cad014level0_row27\" class=\"row_heading level0 row27\" >New Hampshire</th>\n",
       "                        <td id=\"T_e85e97d6_01d3_11ec_a3ab_eeb1a4cad014row27_col0\" class=\"data row27 col0\" >7292.524000</td>\n",
       "                        <td id=\"T_e85e97d6_01d3_11ec_a3ab_eeb1a4cad014row27_col1\" class=\"data row27 col1\" >1706.502800</td>\n",
       "                        <td id=\"T_e85e97d6_01d3_11ec_a3ab_eeb1a4cad014row27_col2\" class=\"data row27 col2\" >127</td>\n",
       "            </tr>\n",
       "            <tr>\n",
       "                        <th id=\"T_e85e97d6_01d3_11ec_a3ab_eeb1a4cad014level0_row28\" class=\"row_heading level0 row28\" >New Jersey</th>\n",
       "                        <td id=\"T_e85e97d6_01d3_11ec_a3ab_eeb1a4cad014row28_col0\" class=\"data row28 col0\" >35764.312000</td>\n",
       "                        <td id=\"T_e85e97d6_01d3_11ec_a3ab_eeb1a4cad014row28_col1\" class=\"data row28 col1\" >9772.913800</td>\n",
       "                        <td id=\"T_e85e97d6_01d3_11ec_a3ab_eeb1a4cad014row28_col2\" class=\"data row28 col2\" >454</td>\n",
       "            </tr>\n",
       "            <tr>\n",
       "                        <th id=\"T_e85e97d6_01d3_11ec_a3ab_eeb1a4cad014level0_row29\" class=\"row_heading level0 row29\" >New Mexico</th>\n",
       "                        <td id=\"T_e85e97d6_01d3_11ec_a3ab_eeb1a4cad014row29_col0\" class=\"data row29 col0\" >4783.522000</td>\n",
       "                        <td id=\"T_e85e97d6_01d3_11ec_a3ab_eeb1a4cad014row29_col1\" class=\"data row29 col1\" >1157.116100</td>\n",
       "                        <td id=\"T_e85e97d6_01d3_11ec_a3ab_eeb1a4cad014row29_col2\" class=\"data row29 col2\" >151</td>\n",
       "            </tr>\n",
       "            <tr>\n",
       "                        <th id=\"T_e85e97d6_01d3_11ec_a3ab_eeb1a4cad014level0_row30\" class=\"row_heading level0 row30\" >New York</th>\n",
       "                        <td id=\"T_e85e97d6_01d3_11ec_a3ab_eeb1a4cad014row30_col0\" class=\"data row30 col0\" >310876.271000</td>\n",
       "                        <td id=\"T_e85e97d6_01d3_11ec_a3ab_eeb1a4cad014row30_col1\" class=\"data row30 col1\" >74038.548600</td>\n",
       "                        <td id=\"T_e85e97d6_01d3_11ec_a3ab_eeb1a4cad014row30_col2\" class=\"data row30 col2\" >4224</td>\n",
       "            </tr>\n",
       "            <tr>\n",
       "                        <th id=\"T_e85e97d6_01d3_11ec_a3ab_eeb1a4cad014level0_row31\" class=\"row_heading level0 row31\" >North Carolina</th>\n",
       "                        <td id=\"T_e85e97d6_01d3_11ec_a3ab_eeb1a4cad014row31_col0\" class=\"data row31 col0\" >55603.164000</td>\n",
       "                        <td id=\"T_e85e97d6_01d3_11ec_a3ab_eeb1a4cad014row31_col1\" class=\"data row31 col1\" >-7490.912200</td>\n",
       "                        <td id=\"T_e85e97d6_01d3_11ec_a3ab_eeb1a4cad014row31_col2\" class=\"data row31 col2\" >983</td>\n",
       "            </tr>\n",
       "            <tr>\n",
       "                        <th id=\"T_e85e97d6_01d3_11ec_a3ab_eeb1a4cad014level0_row32\" class=\"row_heading level0 row32\" >North Dakota</th>\n",
       "                        <td id=\"T_e85e97d6_01d3_11ec_a3ab_eeb1a4cad014row32_col0\" class=\"data row32 col0\" >919.910000</td>\n",
       "                        <td id=\"T_e85e97d6_01d3_11ec_a3ab_eeb1a4cad014row32_col1\" class=\"data row32 col1\" >230.149700</td>\n",
       "                        <td id=\"T_e85e97d6_01d3_11ec_a3ab_eeb1a4cad014row32_col2\" class=\"data row32 col2\" >30</td>\n",
       "            </tr>\n",
       "            <tr>\n",
       "                        <th id=\"T_e85e97d6_01d3_11ec_a3ab_eeb1a4cad014level0_row33\" class=\"row_heading level0 row33\" >Ohio</th>\n",
       "                        <td id=\"T_e85e97d6_01d3_11ec_a3ab_eeb1a4cad014row33_col0\" class=\"data row33 col0\" >78258.136000</td>\n",
       "                        <td id=\"T_e85e97d6_01d3_11ec_a3ab_eeb1a4cad014row33_col1\" class=\"data row33 col1\" >-16971.376600</td>\n",
       "                        <td id=\"T_e85e97d6_01d3_11ec_a3ab_eeb1a4cad014row33_col2\" class=\"data row33 col2\" >1759</td>\n",
       "            </tr>\n",
       "            <tr>\n",
       "                        <th id=\"T_e85e97d6_01d3_11ec_a3ab_eeb1a4cad014level0_row34\" class=\"row_heading level0 row34\" >Oklahoma</th>\n",
       "                        <td id=\"T_e85e97d6_01d3_11ec_a3ab_eeb1a4cad014row34_col0\" class=\"data row34 col0\" >19683.390000</td>\n",
       "                        <td id=\"T_e85e97d6_01d3_11ec_a3ab_eeb1a4cad014row34_col1\" class=\"data row34 col1\" >4853.956000</td>\n",
       "                        <td id=\"T_e85e97d6_01d3_11ec_a3ab_eeb1a4cad014row34_col2\" class=\"data row34 col2\" >247</td>\n",
       "            </tr>\n",
       "            <tr>\n",
       "                        <th id=\"T_e85e97d6_01d3_11ec_a3ab_eeb1a4cad014level0_row35\" class=\"row_heading level0 row35\" >Oregon</th>\n",
       "                        <td id=\"T_e85e97d6_01d3_11ec_a3ab_eeb1a4cad014row35_col0\" class=\"data row35 col0\" >17431.150000</td>\n",
       "                        <td id=\"T_e85e97d6_01d3_11ec_a3ab_eeb1a4cad014row35_col1\" class=\"data row35 col1\" >-1190.470500</td>\n",
       "                        <td id=\"T_e85e97d6_01d3_11ec_a3ab_eeb1a4cad014row35_col2\" class=\"data row35 col2\" >499</td>\n",
       "            </tr>\n",
       "            <tr>\n",
       "                        <th id=\"T_e85e97d6_01d3_11ec_a3ab_eeb1a4cad014level0_row36\" class=\"row_heading level0 row36\" >Pennsylvania</th>\n",
       "                        <td id=\"T_e85e97d6_01d3_11ec_a3ab_eeb1a4cad014row36_col0\" class=\"data row36 col0\" >116511.914000</td>\n",
       "                        <td id=\"T_e85e97d6_01d3_11ec_a3ab_eeb1a4cad014row36_col1\" class=\"data row36 col1\" >-15559.960300</td>\n",
       "                        <td id=\"T_e85e97d6_01d3_11ec_a3ab_eeb1a4cad014row36_col2\" class=\"data row36 col2\" >2153</td>\n",
       "            </tr>\n",
       "            <tr>\n",
       "                        <th id=\"T_e85e97d6_01d3_11ec_a3ab_eeb1a4cad014level0_row37\" class=\"row_heading level0 row37\" >Rhode Island</th>\n",
       "                        <td id=\"T_e85e97d6_01d3_11ec_a3ab_eeb1a4cad014row37_col0\" class=\"data row37 col0\" >22627.956000</td>\n",
       "                        <td id=\"T_e85e97d6_01d3_11ec_a3ab_eeb1a4cad014row37_col1\" class=\"data row37 col1\" >7285.629300</td>\n",
       "                        <td id=\"T_e85e97d6_01d3_11ec_a3ab_eeb1a4cad014row37_col2\" class=\"data row37 col2\" >199</td>\n",
       "            </tr>\n",
       "            <tr>\n",
       "                        <th id=\"T_e85e97d6_01d3_11ec_a3ab_eeb1a4cad014level0_row38\" class=\"row_heading level0 row38\" >South Carolina</th>\n",
       "                        <td id=\"T_e85e97d6_01d3_11ec_a3ab_eeb1a4cad014row38_col0\" class=\"data row38 col0\" >8481.710000</td>\n",
       "                        <td id=\"T_e85e97d6_01d3_11ec_a3ab_eeb1a4cad014row38_col1\" class=\"data row38 col1\" >1769.056600</td>\n",
       "                        <td id=\"T_e85e97d6_01d3_11ec_a3ab_eeb1a4cad014row38_col2\" class=\"data row38 col2\" >172</td>\n",
       "            </tr>\n",
       "            <tr>\n",
       "                        <th id=\"T_e85e97d6_01d3_11ec_a3ab_eeb1a4cad014level0_row39\" class=\"row_heading level0 row39\" >South Dakota</th>\n",
       "                        <td id=\"T_e85e97d6_01d3_11ec_a3ab_eeb1a4cad014row39_col0\" class=\"data row39 col0\" >1315.560000</td>\n",
       "                        <td id=\"T_e85e97d6_01d3_11ec_a3ab_eeb1a4cad014row39_col1\" class=\"data row39 col1\" >394.828300</td>\n",
       "                        <td id=\"T_e85e97d6_01d3_11ec_a3ab_eeb1a4cad014row39_col2\" class=\"data row39 col2\" >42</td>\n",
       "            </tr>\n",
       "            <tr>\n",
       "                        <th id=\"T_e85e97d6_01d3_11ec_a3ab_eeb1a4cad014level0_row40\" class=\"row_heading level0 row40\" >Tennessee</th>\n",
       "                        <td id=\"T_e85e97d6_01d3_11ec_a3ab_eeb1a4cad014row40_col0\" class=\"data row40 col0\" >30661.873000</td>\n",
       "                        <td id=\"T_e85e97d6_01d3_11ec_a3ab_eeb1a4cad014row40_col1\" class=\"data row40 col1\" >-5341.693600</td>\n",
       "                        <td id=\"T_e85e97d6_01d3_11ec_a3ab_eeb1a4cad014row40_col2\" class=\"data row40 col2\" >681</td>\n",
       "            </tr>\n",
       "            <tr>\n",
       "                        <th id=\"T_e85e97d6_01d3_11ec_a3ab_eeb1a4cad014level0_row41\" class=\"row_heading level0 row41\" >Texas</th>\n",
       "                        <td id=\"T_e85e97d6_01d3_11ec_a3ab_eeb1a4cad014row41_col0\" class=\"data row41 col0\" >170188.045800</td>\n",
       "                        <td id=\"T_e85e97d6_01d3_11ec_a3ab_eeb1a4cad014row41_col1\" class=\"data row41 col1\" >-25729.356300</td>\n",
       "                        <td id=\"T_e85e97d6_01d3_11ec_a3ab_eeb1a4cad014row41_col2\" class=\"data row41 col2\" >3724</td>\n",
       "            </tr>\n",
       "            <tr>\n",
       "                        <th id=\"T_e85e97d6_01d3_11ec_a3ab_eeb1a4cad014level0_row42\" class=\"row_heading level0 row42\" >Utah</th>\n",
       "                        <td id=\"T_e85e97d6_01d3_11ec_a3ab_eeb1a4cad014row42_col0\" class=\"data row42 col0\" >11220.056000</td>\n",
       "                        <td id=\"T_e85e97d6_01d3_11ec_a3ab_eeb1a4cad014row42_col1\" class=\"data row42 col1\" >2546.533500</td>\n",
       "                        <td id=\"T_e85e97d6_01d3_11ec_a3ab_eeb1a4cad014row42_col2\" class=\"data row42 col2\" >219</td>\n",
       "            </tr>\n",
       "            <tr>\n",
       "                        <th id=\"T_e85e97d6_01d3_11ec_a3ab_eeb1a4cad014level0_row43\" class=\"row_heading level0 row43\" >Vermont</th>\n",
       "                        <td id=\"T_e85e97d6_01d3_11ec_a3ab_eeb1a4cad014row43_col0\" class=\"data row43 col0\" >8929.370000</td>\n",
       "                        <td id=\"T_e85e97d6_01d3_11ec_a3ab_eeb1a4cad014row43_col1\" class=\"data row43 col1\" >2244.978300</td>\n",
       "                        <td id=\"T_e85e97d6_01d3_11ec_a3ab_eeb1a4cad014row43_col2\" class=\"data row43 col2\" >50</td>\n",
       "            </tr>\n",
       "            <tr>\n",
       "                        <th id=\"T_e85e97d6_01d3_11ec_a3ab_eeb1a4cad014level0_row44\" class=\"row_heading level0 row44\" >Virginia</th>\n",
       "                        <td id=\"T_e85e97d6_01d3_11ec_a3ab_eeb1a4cad014row44_col0\" class=\"data row44 col0\" >70636.720000</td>\n",
       "                        <td id=\"T_e85e97d6_01d3_11ec_a3ab_eeb1a4cad014row44_col1\" class=\"data row44 col1\" >18597.950400</td>\n",
       "                        <td id=\"T_e85e97d6_01d3_11ec_a3ab_eeb1a4cad014row44_col2\" class=\"data row44 col2\" >893</td>\n",
       "            </tr>\n",
       "            <tr>\n",
       "                        <th id=\"T_e85e97d6_01d3_11ec_a3ab_eeb1a4cad014level0_row45\" class=\"row_heading level0 row45\" >Washington</th>\n",
       "                        <td id=\"T_e85e97d6_01d3_11ec_a3ab_eeb1a4cad014row45_col0\" class=\"data row45 col0\" >138641.270000</td>\n",
       "                        <td id=\"T_e85e97d6_01d3_11ec_a3ab_eeb1a4cad014row45_col1\" class=\"data row45 col1\" >33402.651700</td>\n",
       "                        <td id=\"T_e85e97d6_01d3_11ec_a3ab_eeb1a4cad014row45_col2\" class=\"data row45 col2\" >1883</td>\n",
       "            </tr>\n",
       "            <tr>\n",
       "                        <th id=\"T_e85e97d6_01d3_11ec_a3ab_eeb1a4cad014level0_row46\" class=\"row_heading level0 row46\" >West Virginia</th>\n",
       "                        <td id=\"T_e85e97d6_01d3_11ec_a3ab_eeb1a4cad014row46_col0\" class=\"data row46 col0\" >1209.824000</td>\n",
       "                        <td id=\"T_e85e97d6_01d3_11ec_a3ab_eeb1a4cad014row46_col1\" class=\"data row46 col1\" >185.921600</td>\n",
       "                        <td id=\"T_e85e97d6_01d3_11ec_a3ab_eeb1a4cad014row46_col2\" class=\"data row46 col2\" >18</td>\n",
       "            </tr>\n",
       "            <tr>\n",
       "                        <th id=\"T_e85e97d6_01d3_11ec_a3ab_eeb1a4cad014level0_row47\" class=\"row_heading level0 row47\" >Wisconsin</th>\n",
       "                        <td id=\"T_e85e97d6_01d3_11ec_a3ab_eeb1a4cad014row47_col0\" class=\"data row47 col0\" >32114.610000</td>\n",
       "                        <td id=\"T_e85e97d6_01d3_11ec_a3ab_eeb1a4cad014row47_col1\" class=\"data row47 col1\" >8401.800400</td>\n",
       "                        <td id=\"T_e85e97d6_01d3_11ec_a3ab_eeb1a4cad014row47_col2\" class=\"data row47 col2\" >463</td>\n",
       "            </tr>\n",
       "            <tr>\n",
       "                        <th id=\"T_e85e97d6_01d3_11ec_a3ab_eeb1a4cad014level0_row48\" class=\"row_heading level0 row48\" >Wyoming</th>\n",
       "                        <td id=\"T_e85e97d6_01d3_11ec_a3ab_eeb1a4cad014row48_col0\" class=\"data row48 col0\" >1603.136000</td>\n",
       "                        <td id=\"T_e85e97d6_01d3_11ec_a3ab_eeb1a4cad014row48_col1\" class=\"data row48 col1\" >100.196000</td>\n",
       "                        <td id=\"T_e85e97d6_01d3_11ec_a3ab_eeb1a4cad014row48_col2\" class=\"data row48 col2\" >4</td>\n",
       "            </tr>\n",
       "    </tbody></table>"
      ],
      "text/plain": [
       "<pandas.io.formats.style.Styler at 0x1dac13396d0>"
      ]
     },
     "execution_count": 67,
     "metadata": {},
     "output_type": "execute_result"
    }
   ],
   "source": [
    "x=data_1.groupby(dataset['State']).agg({'Sales':['sum'],'Profit':['sum'],'Quantity':['sum']})\n",
    "x.style.background_gradient(cmap ='viridis')\\\n",
    "        .set_properties(**{'font-size': '15px'})\n",
    "\n"
   ]
  },
  {
   "cell_type": "code",
   "execution_count": 46,
   "metadata": {},
   "outputs": [
    {
     "data": {
      "text/plain": [
       "<AxesSubplot:xlabel='Category'>"
      ]
     },
     "execution_count": 46,
     "metadata": {},
     "output_type": "execute_result"
    },
    {
     "data": {
      "image/png": "[encoded data removed]",
      "text/plain": [
       "<Figure size 432x288 with 1 Axes>"
      ]
     },
     "metadata": {
      "needs_background": "light"
     },
     "output_type": "display_data"
    }
   ],
   "source": [
    "x['Profit'].plot(kind='bar')"
   ]
  },
  {
   "cell_type": "code",
   "execution_count": 47,
   "metadata": {},
   "outputs": [
    {
     "data": {
      "text/html": [
       "<div>\n",
       "<style scoped>\n",
       "    .dataframe tbody tr th:only-of-type {\n",
       "        vertical-align: middle;\n",
       "    }\n",
       "\n",
       "    .dataframe tbody tr th {\n",
       "        vertical-align: top;\n",
       "    }\n",
       "\n",
       "    .dataframe thead th {\n",
       "        text-align: right;\n",
       "    }\n",
       "</style>\n",
       "<table border=\"1\" class=\"dataframe\">\n",
       "  <thead>\n",
       "    <tr style=\"text-align: right;\">\n",
       "      <th>Discount</th>\n",
       "      <th>0.00</th>\n",
       "      <th>0.10</th>\n",
       "      <th>0.15</th>\n",
       "      <th>0.20</th>\n",
       "      <th>0.30</th>\n",
       "      <th>0.32</th>\n",
       "      <th>0.40</th>\n",
       "      <th>0.45</th>\n",
       "      <th>0.50</th>\n",
       "      <th>0.60</th>\n",
       "      <th>0.70</th>\n",
       "      <th>0.80</th>\n",
       "    </tr>\n",
       "    <tr>\n",
       "      <th>Category</th>\n",
       "      <th></th>\n",
       "      <th></th>\n",
       "      <th></th>\n",
       "      <th></th>\n",
       "      <th></th>\n",
       "      <th></th>\n",
       "      <th></th>\n",
       "      <th></th>\n",
       "      <th></th>\n",
       "      <th></th>\n",
       "      <th></th>\n",
       "      <th></th>\n",
       "    </tr>\n",
       "  </thead>\n",
       "  <tbody>\n",
       "    <tr>\n",
       "      <th>Furniture</th>\n",
       "      <td>26.0706</td>\n",
       "      <td>56.85060</td>\n",
       "      <td>14.098</td>\n",
       "      <td>6.3780</td>\n",
       "      <td>-27.4296</td>\n",
       "      <td>-46.9764</td>\n",
       "      <td>-120.0508</td>\n",
       "      <td>-167.3184</td>\n",
       "      <td>-187.20840</td>\n",
       "      <td>-12.0617</td>\n",
       "      <td>-191.646</td>\n",
       "      <td>NaN</td>\n",
       "    </tr>\n",
       "    <tr>\n",
       "      <th>Office Supplies</th>\n",
       "      <td>11.7208</td>\n",
       "      <td>47.56220</td>\n",
       "      <td>NaN</td>\n",
       "      <td>5.3340</td>\n",
       "      <td>NaN</td>\n",
       "      <td>NaN</td>\n",
       "      <td>NaN</td>\n",
       "      <td>NaN</td>\n",
       "      <td>NaN</td>\n",
       "      <td>NaN</td>\n",
       "      <td>-7.731</td>\n",
       "      <td>-14.0498</td>\n",
       "    </tr>\n",
       "    <tr>\n",
       "      <th>Technology</th>\n",
       "      <td>43.5981</td>\n",
       "      <td>416.04215</td>\n",
       "      <td>NaN</td>\n",
       "      <td>19.1786</td>\n",
       "      <td>43.1991</td>\n",
       "      <td>NaN</td>\n",
       "      <td>-26.9955</td>\n",
       "      <td>NaN</td>\n",
       "      <td>-69.66375</td>\n",
       "      <td>NaN</td>\n",
       "      <td>-337.638</td>\n",
       "      <td>NaN</td>\n",
       "    </tr>\n",
       "  </tbody>\n",
       "</table>\n",
       "</div>"
      ],
      "text/plain": [
       "Discount            0.00       0.10    0.15     0.20     0.30     0.32  \\\n",
       "Category                                                                 \n",
       "Furniture        26.0706   56.85060  14.098   6.3780 -27.4296 -46.9764   \n",
       "Office Supplies  11.7208   47.56220     NaN   5.3340      NaN      NaN   \n",
       "Technology       43.5981  416.04215     NaN  19.1786  43.1991      NaN   \n",
       "\n",
       "Discount             0.40      0.45       0.50     0.60     0.70     0.80  \n",
       "Category                                                                   \n",
       "Furniture       -120.0508 -167.3184 -187.20840 -12.0617 -191.646      NaN  \n",
       "Office Supplies       NaN       NaN        NaN      NaN   -7.731 -14.0498  \n",
       "Technology       -26.9955       NaN  -69.66375      NaN -337.638      NaN  "
      ]
     },
     "execution_count": 47,
     "metadata": {},
     "output_type": "execute_result"
    }
   ],
   "source": [
    "dataset.pivot_table(values='Profit',index='Category',columns='Discount',aggfunc='median')"
   ]
  },
  {
   "cell_type": "code",
   "execution_count": 48,
   "metadata": {},
   "outputs": [
    {
     "name": "stdout",
     "output_type": "stream",
     "text": [
      "                   min        max   median          sum\n",
      "Category                                               \n",
      "Furniture        1.892   4416.174  182.220  741999.7953\n",
      "Office Supplies  0.444   9892.740   27.418  719047.0320\n",
      "Technology       0.990  22638.480  166.160  836154.0330\n"
     ]
    }
   ],
   "source": [
    "x=dataset.groupby(dataset['Category']).agg(['min','max','median','sum'])\n",
    "print(x['Sales'])"
   ]
  },
  {
   "cell_type": "code",
   "execution_count": 49,
   "metadata": {},
   "outputs": [
    {
     "name": "stdout",
     "output_type": "stream",
     "text": [
      "                       min       max   median          sum\n",
      "Category                                                  \n",
      "Furniture       -1862.3124  1013.127   7.7748   18451.2728\n",
      "Office Supplies -3701.8928  4946.370   6.8824  122490.8008\n",
      "Technology      -6599.9780  8399.976  25.0182  145454.9481\n"
     ]
    }
   ],
   "source": [
    "x=dataset.groupby(dataset['Category']).agg(['min','max','median','sum'])\n",
    "print(x['Profit'])"
   ]
  },
  {
   "cell_type": "markdown",
   "metadata": {},
   "source": [
    "#### Conclusion\n",
    "* Maximum Sales have been obtained by Technological Supplies, Followed by Furniture and Office Supplies\n",
    "* Maximum Profit has been obtained by Technological Supplies, Followed by Office Supplies and Furniture.\n",
    "* A discount of more than 30% has not been profitable for Technological and Office Supplies.\n",
    "* More than 20% discount has not been profitable for Furniture.\n",
    "\n"
   ]
  },
  {
   "cell_type": "markdown",
   "metadata": {},
   "source": [
    "### Analyzing Profit for each mode of shipment"
   ]
  },
  {
   "cell_type": "code",
   "execution_count": 63,
   "metadata": {},
   "outputs": [
    {
     "name": "stdout",
     "output_type": "stream",
     "text": [
      "Ship Mode\n",
      "First Class        48969.8399\n",
      "Same Day           15891.7589\n",
      "Second Class       57446.6354\n",
      "Standard Class    164088.7875\n",
      "Name: Profit, dtype: float64\n"
     ]
    },
    {
     "data": {
      "text/plain": [
       "<AxesSubplot:xlabel='Ship Mode'>"
      ]
     },
     "execution_count": 63,
     "metadata": {},
     "output_type": "execute_result"
    },
    {
     "data": {
      "image/png": "[encoded data removed]",
      "text/plain": [
       "<Figure size 432x288 with 1 Axes>"
      ]
     },
     "metadata": {
      "needs_background": "light"
     },
     "output_type": "display_data"
    }
   ],
   "source": [
    "x=dataset.groupby(dataset['Ship Mode']).agg('sum')\n",
    "print(x['Profit'])\n",
    "x['Profit'].plot(kind='bar')"
   ]
  },
  {
   "cell_type": "code",
   "execution_count": null,
   "metadata": {},
   "outputs": [],
   "source": [
    "x=data_1.groupby(dataset['Category']).agg('sum')\n",
    "print(x)\n",
    "\n",
    "x['Sales'].plot(kind='bar')"
   ]
  },
  {
   "cell_type": "markdown",
   "metadata": {},
   "source": [
    "#### Conclusion\n",
    "* Maximum profit is obtained through sales where the mode of delivery was \"Standard Class\", followed by \"second class\", \"first class\" and \"Same Day\"."
   ]
  },
  {
   "cell_type": "markdown",
   "metadata": {},
   "source": [
    "### Analyzing Sales, Quantity and Profit for each Category in each Segment, Region-wise"
   ]
  },
  {
   "cell_type": "code",
   "execution_count": 72,
   "metadata": {},
   "outputs": [
    {
     "data": {
      "text/html": [
       "<style  type=\"text/css\" >\n",
       "#T_62aafc65_01d6_11ec_b93c_eeb1a4cad014row0_col0{\n",
       "            background-color:  #20a486;\n",
       "            color:  #000000;\n",
       "            font-size:  15px;\n",
       "        }#T_62aafc65_01d6_11ec_b93c_eeb1a4cad014row0_col1,#T_62aafc65_01d6_11ec_b93c_eeb1a4cad014row24_col0,#T_62aafc65_01d6_11ec_b93c_eeb1a4cad014row24_col2{\n",
       "            background-color:  #440154;\n",
       "            color:  #f1f1f1;\n",
       "            font-size:  15px;\n",
       "        }#T_62aafc65_01d6_11ec_b93c_eeb1a4cad014row0_col2,#T_62aafc65_01d6_11ec_b93c_eeb1a4cad014row25_col1{\n",
       "            background-color:  #404688;\n",
       "            color:  #f1f1f1;\n",
       "            font-size:  15px;\n",
       "        }#T_62aafc65_01d6_11ec_b93c_eeb1a4cad014row1_col0{\n",
       "            background-color:  #2db27d;\n",
       "            color:  #000000;\n",
       "            font-size:  15px;\n",
       "        }#T_62aafc65_01d6_11ec_b93c_eeb1a4cad014row1_col1,#T_62aafc65_01d6_11ec_b93c_eeb1a4cad014row4_col0{\n",
       "            background-color:  #404588;\n",
       "            color:  #f1f1f1;\n",
       "            font-size:  15px;\n",
       "        }#T_62aafc65_01d6_11ec_b93c_eeb1a4cad014row1_col2,#T_62aafc65_01d6_11ec_b93c_eeb1a4cad014row31_col1{\n",
       "            background-color:  #48c16e;\n",
       "            color:  #000000;\n",
       "            font-size:  15px;\n",
       "        }#T_62aafc65_01d6_11ec_b93c_eeb1a4cad014row2_col0,#T_62aafc65_01d6_11ec_b93c_eeb1a4cad014row19_col2{\n",
       "            background-color:  #23898e;\n",
       "            color:  #000000;\n",
       "            font-size:  15px;\n",
       "        }#T_62aafc65_01d6_11ec_b93c_eeb1a4cad014row2_col1{\n",
       "            background-color:  #26828e;\n",
       "            color:  #000000;\n",
       "            font-size:  15px;\n",
       "        }#T_62aafc65_01d6_11ec_b93c_eeb1a4cad014row2_col2{\n",
       "            background-color:  #443983;\n",
       "            color:  #f1f1f1;\n",
       "            font-size:  15px;\n",
       "        }#T_62aafc65_01d6_11ec_b93c_eeb1a4cad014row3_col0{\n",
       "            background-color:  #355f8d;\n",
       "            color:  #f1f1f1;\n",
       "            font-size:  15px;\n",
       "        }#T_62aafc65_01d6_11ec_b93c_eeb1a4cad014row3_col1{\n",
       "            background-color:  #414287;\n",
       "            color:  #f1f1f1;\n",
       "            font-size:  15px;\n",
       "        }#T_62aafc65_01d6_11ec_b93c_eeb1a4cad014row3_col2{\n",
       "            background-color:  #482475;\n",
       "            color:  #f1f1f1;\n",
       "            font-size:  15px;\n",
       "        }#T_62aafc65_01d6_11ec_b93c_eeb1a4cad014row4_col1{\n",
       "            background-color:  #472d7b;\n",
       "            color:  #f1f1f1;\n",
       "            font-size:  15px;\n",
       "        }#T_62aafc65_01d6_11ec_b93c_eeb1a4cad014row4_col2,#T_62aafc65_01d6_11ec_b93c_eeb1a4cad014row16_col1{\n",
       "            background-color:  #2b758e;\n",
       "            color:  #f1f1f1;\n",
       "            font-size:  15px;\n",
       "        }#T_62aafc65_01d6_11ec_b93c_eeb1a4cad014row5_col0{\n",
       "            background-color:  #29798e;\n",
       "            color:  #000000;\n",
       "            font-size:  15px;\n",
       "        }#T_62aafc65_01d6_11ec_b93c_eeb1a4cad014row5_col1{\n",
       "            background-color:  #2cb17e;\n",
       "            color:  #000000;\n",
       "            font-size:  15px;\n",
       "        }#T_62aafc65_01d6_11ec_b93c_eeb1a4cad014row5_col2{\n",
       "            background-color:  #481c6e;\n",
       "            color:  #f1f1f1;\n",
       "            font-size:  15px;\n",
       "        }#T_62aafc65_01d6_11ec_b93c_eeb1a4cad014row6_col0{\n",
       "            background-color:  #481b6d;\n",
       "            color:  #f1f1f1;\n",
       "            font-size:  15px;\n",
       "        }#T_62aafc65_01d6_11ec_b93c_eeb1a4cad014row6_col1{\n",
       "            background-color:  #482071;\n",
       "            color:  #f1f1f1;\n",
       "            font-size:  15px;\n",
       "        }#T_62aafc65_01d6_11ec_b93c_eeb1a4cad014row6_col2{\n",
       "            background-color:  #471063;\n",
       "            color:  #f1f1f1;\n",
       "            font-size:  15px;\n",
       "        }#T_62aafc65_01d6_11ec_b93c_eeb1a4cad014row7_col0,#T_62aafc65_01d6_11ec_b93c_eeb1a4cad014row8_col0,#T_62aafc65_01d6_11ec_b93c_eeb1a4cad014row12_col1{\n",
       "            background-color:  #472f7d;\n",
       "            color:  #f1f1f1;\n",
       "            font-size:  15px;\n",
       "        }#T_62aafc65_01d6_11ec_b93c_eeb1a4cad014row7_col1{\n",
       "            background-color:  #32658e;\n",
       "            color:  #f1f1f1;\n",
       "            font-size:  15px;\n",
       "        }#T_62aafc65_01d6_11ec_b93c_eeb1a4cad014row7_col2{\n",
       "            background-color:  #3d4d8a;\n",
       "            color:  #f1f1f1;\n",
       "            font-size:  15px;\n",
       "        }#T_62aafc65_01d6_11ec_b93c_eeb1a4cad014row8_col1,#T_62aafc65_01d6_11ec_b93c_eeb1a4cad014row17_col0,#T_62aafc65_01d6_11ec_b93c_eeb1a4cad014row19_col0{\n",
       "            background-color:  #2e6f8e;\n",
       "            color:  #f1f1f1;\n",
       "            font-size:  15px;\n",
       "        }#T_62aafc65_01d6_11ec_b93c_eeb1a4cad014row8_col2{\n",
       "            background-color:  #470d60;\n",
       "            color:  #f1f1f1;\n",
       "            font-size:  15px;\n",
       "        }#T_62aafc65_01d6_11ec_b93c_eeb1a4cad014row9_col0{\n",
       "            background-color:  #89d548;\n",
       "            color:  #000000;\n",
       "            font-size:  15px;\n",
       "        }#T_62aafc65_01d6_11ec_b93c_eeb1a4cad014row9_col1{\n",
       "            background-color:  #424086;\n",
       "            color:  #f1f1f1;\n",
       "            font-size:  15px;\n",
       "        }#T_62aafc65_01d6_11ec_b93c_eeb1a4cad014row9_col2{\n",
       "            background-color:  #3a538b;\n",
       "            color:  #f1f1f1;\n",
       "            font-size:  15px;\n",
       "        }#T_62aafc65_01d6_11ec_b93c_eeb1a4cad014row10_col0{\n",
       "            background-color:  #4ac16d;\n",
       "            color:  #000000;\n",
       "            font-size:  15px;\n",
       "        }#T_62aafc65_01d6_11ec_b93c_eeb1a4cad014row10_col1{\n",
       "            background-color:  #54c568;\n",
       "            color:  #000000;\n",
       "            font-size:  15px;\n",
       "        }#T_62aafc65_01d6_11ec_b93c_eeb1a4cad014row10_col2{\n",
       "            background-color:  #93d741;\n",
       "            color:  #000000;\n",
       "            font-size:  15px;\n",
       "        }#T_62aafc65_01d6_11ec_b93c_eeb1a4cad014row11_col0,#T_62aafc65_01d6_11ec_b93c_eeb1a4cad014row28_col2,#T_62aafc65_01d6_11ec_b93c_eeb1a4cad014row29_col1{\n",
       "            background-color:  #fde725;\n",
       "            color:  #000000;\n",
       "            font-size:  15px;\n",
       "        }#T_62aafc65_01d6_11ec_b93c_eeb1a4cad014row11_col1{\n",
       "            background-color:  #5ec962;\n",
       "            color:  #000000;\n",
       "            font-size:  15px;\n",
       "        }#T_62aafc65_01d6_11ec_b93c_eeb1a4cad014row11_col2{\n",
       "            background-color:  #3e4989;\n",
       "            color:  #f1f1f1;\n",
       "            font-size:  15px;\n",
       "        }#T_62aafc65_01d6_11ec_b93c_eeb1a4cad014row12_col0,#T_62aafc65_01d6_11ec_b93c_eeb1a4cad014row34_col1{\n",
       "            background-color:  #2a788e;\n",
       "            color:  #000000;\n",
       "            font-size:  15px;\n",
       "        }#T_62aafc65_01d6_11ec_b93c_eeb1a4cad014row12_col2,#T_62aafc65_01d6_11ec_b93c_eeb1a4cad014row15_col1,#T_62aafc65_01d6_11ec_b93c_eeb1a4cad014row32_col2{\n",
       "            background-color:  #46337f;\n",
       "            color:  #f1f1f1;\n",
       "            font-size:  15px;\n",
       "        }#T_62aafc65_01d6_11ec_b93c_eeb1a4cad014row13_col0{\n",
       "            background-color:  #287d8e;\n",
       "            color:  #000000;\n",
       "            font-size:  15px;\n",
       "        }#T_62aafc65_01d6_11ec_b93c_eeb1a4cad014row13_col1{\n",
       "            background-color:  #1e9c89;\n",
       "            color:  #000000;\n",
       "            font-size:  15px;\n",
       "        }#T_62aafc65_01d6_11ec_b93c_eeb1a4cad014row13_col2,#T_62aafc65_01d6_11ec_b93c_eeb1a4cad014row31_col0{\n",
       "            background-color:  #20928c;\n",
       "            color:  #000000;\n",
       "            font-size:  15px;\n",
       "        }#T_62aafc65_01d6_11ec_b93c_eeb1a4cad014row14_col0{\n",
       "            background-color:  #25838e;\n",
       "            color:  #000000;\n",
       "            font-size:  15px;\n",
       "        }#T_62aafc65_01d6_11ec_b93c_eeb1a4cad014row14_col1{\n",
       "            background-color:  #26818e;\n",
       "            color:  #000000;\n",
       "            font-size:  15px;\n",
       "        }#T_62aafc65_01d6_11ec_b93c_eeb1a4cad014row14_col2{\n",
       "            background-color:  #482979;\n",
       "            color:  #f1f1f1;\n",
       "            font-size:  15px;\n",
       "        }#T_62aafc65_01d6_11ec_b93c_eeb1a4cad014row15_col0,#T_62aafc65_01d6_11ec_b93c_eeb1a4cad014row20_col2{\n",
       "            background-color:  #482878;\n",
       "            color:  #f1f1f1;\n",
       "            font-size:  15px;\n",
       "        }#T_62aafc65_01d6_11ec_b93c_eeb1a4cad014row15_col2{\n",
       "            background-color:  #481467;\n",
       "            color:  #f1f1f1;\n",
       "            font-size:  15px;\n",
       "        }#T_62aafc65_01d6_11ec_b93c_eeb1a4cad014row16_col0{\n",
       "            background-color:  #433d84;\n",
       "            color:  #f1f1f1;\n",
       "            font-size:  15px;\n",
       "        }#T_62aafc65_01d6_11ec_b93c_eeb1a4cad014row16_col2,#T_62aafc65_01d6_11ec_b93c_eeb1a4cad014row33_col0{\n",
       "            background-color:  #38598c;\n",
       "            color:  #f1f1f1;\n",
       "            font-size:  15px;\n",
       "        }#T_62aafc65_01d6_11ec_b93c_eeb1a4cad014row17_col1{\n",
       "            background-color:  #3bbb75;\n",
       "            color:  #000000;\n",
       "            font-size:  15px;\n",
       "        }#T_62aafc65_01d6_11ec_b93c_eeb1a4cad014row17_col2{\n",
       "            background-color:  #471365;\n",
       "            color:  #f1f1f1;\n",
       "            font-size:  15px;\n",
       "        }#T_62aafc65_01d6_11ec_b93c_eeb1a4cad014row18_col0{\n",
       "            background-color:  #25858e;\n",
       "            color:  #000000;\n",
       "            font-size:  15px;\n",
       "        }#T_62aafc65_01d6_11ec_b93c_eeb1a4cad014row18_col1,#T_62aafc65_01d6_11ec_b93c_eeb1a4cad014row35_col1{\n",
       "            background-color:  #38588c;\n",
       "            color:  #f1f1f1;\n",
       "            font-size:  15px;\n",
       "        }#T_62aafc65_01d6_11ec_b93c_eeb1a4cad014row18_col2{\n",
       "            background-color:  #46307e;\n",
       "            color:  #f1f1f1;\n",
       "            font-size:  15px;\n",
       "        }#T_62aafc65_01d6_11ec_b93c_eeb1a4cad014row19_col1{\n",
       "            background-color:  #287c8e;\n",
       "            color:  #000000;\n",
       "            font-size:  15px;\n",
       "        }#T_62aafc65_01d6_11ec_b93c_eeb1a4cad014row20_col0{\n",
       "            background-color:  #297a8e;\n",
       "            color:  #000000;\n",
       "            font-size:  15px;\n",
       "        }#T_62aafc65_01d6_11ec_b93c_eeb1a4cad014row20_col1{\n",
       "            background-color:  #1f998a;\n",
       "            color:  #000000;\n",
       "            font-size:  15px;\n",
       "        }#T_62aafc65_01d6_11ec_b93c_eeb1a4cad014row21_col0{\n",
       "            background-color:  #482677;\n",
       "            color:  #f1f1f1;\n",
       "            font-size:  15px;\n",
       "        }#T_62aafc65_01d6_11ec_b93c_eeb1a4cad014row21_col1{\n",
       "            background-color:  #453581;\n",
       "            color:  #f1f1f1;\n",
       "            font-size:  15px;\n",
       "        }#T_62aafc65_01d6_11ec_b93c_eeb1a4cad014row21_col2{\n",
       "            background-color:  #48186a;\n",
       "            color:  #f1f1f1;\n",
       "            font-size:  15px;\n",
       "        }#T_62aafc65_01d6_11ec_b93c_eeb1a4cad014row22_col0{\n",
       "            background-color:  #3c508b;\n",
       "            color:  #f1f1f1;\n",
       "            font-size:  15px;\n",
       "        }#T_62aafc65_01d6_11ec_b93c_eeb1a4cad014row22_col1{\n",
       "            background-color:  #2c738e;\n",
       "            color:  #f1f1f1;\n",
       "            font-size:  15px;\n",
       "        }#T_62aafc65_01d6_11ec_b93c_eeb1a4cad014row22_col2{\n",
       "            background-color:  #34608d;\n",
       "            color:  #f1f1f1;\n",
       "            font-size:  15px;\n",
       "        }#T_62aafc65_01d6_11ec_b93c_eeb1a4cad014row23_col0{\n",
       "            background-color:  #3b518b;\n",
       "            color:  #f1f1f1;\n",
       "            font-size:  15px;\n",
       "        }#T_62aafc65_01d6_11ec_b93c_eeb1a4cad014row23_col1{\n",
       "            background-color:  #32648e;\n",
       "            color:  #f1f1f1;\n",
       "            font-size:  15px;\n",
       "        }#T_62aafc65_01d6_11ec_b93c_eeb1a4cad014row23_col2{\n",
       "            background-color:  #470e61;\n",
       "            color:  #f1f1f1;\n",
       "            font-size:  15px;\n",
       "        }#T_62aafc65_01d6_11ec_b93c_eeb1a4cad014row24_col1{\n",
       "            background-color:  #453882;\n",
       "            color:  #f1f1f1;\n",
       "            font-size:  15px;\n",
       "        }#T_62aafc65_01d6_11ec_b93c_eeb1a4cad014row25_col0{\n",
       "            background-color:  #460b5e;\n",
       "            color:  #f1f1f1;\n",
       "            font-size:  15px;\n",
       "        }#T_62aafc65_01d6_11ec_b93c_eeb1a4cad014row25_col2{\n",
       "            background-color:  #472a7a;\n",
       "            color:  #f1f1f1;\n",
       "            font-size:  15px;\n",
       "        }#T_62aafc65_01d6_11ec_b93c_eeb1a4cad014row26_col0{\n",
       "            background-color:  #443a83;\n",
       "            color:  #f1f1f1;\n",
       "            font-size:  15px;\n",
       "        }#T_62aafc65_01d6_11ec_b93c_eeb1a4cad014row26_col1{\n",
       "            background-color:  #463480;\n",
       "            color:  #f1f1f1;\n",
       "            font-size:  15px;\n",
       "        }#T_62aafc65_01d6_11ec_b93c_eeb1a4cad014row26_col2{\n",
       "            background-color:  #450457;\n",
       "            color:  #f1f1f1;\n",
       "            font-size:  15px;\n",
       "        }#T_62aafc65_01d6_11ec_b93c_eeb1a4cad014row27_col0{\n",
       "            background-color:  #a8db34;\n",
       "            color:  #000000;\n",
       "            font-size:  15px;\n",
       "        }#T_62aafc65_01d6_11ec_b93c_eeb1a4cad014row27_col1{\n",
       "            background-color:  #39558c;\n",
       "            color:  #f1f1f1;\n",
       "            font-size:  15px;\n",
       "        }#T_62aafc65_01d6_11ec_b93c_eeb1a4cad014row27_col2{\n",
       "            background-color:  #31688e;\n",
       "            color:  #f1f1f1;\n",
       "            font-size:  15px;\n",
       "        }#T_62aafc65_01d6_11ec_b93c_eeb1a4cad014row28_col0{\n",
       "            background-color:  #73d056;\n",
       "            color:  #000000;\n",
       "            font-size:  15px;\n",
       "        }#T_62aafc65_01d6_11ec_b93c_eeb1a4cad014row28_col1{\n",
       "            background-color:  #cde11d;\n",
       "            color:  #000000;\n",
       "            font-size:  15px;\n",
       "        }#T_62aafc65_01d6_11ec_b93c_eeb1a4cad014row29_col0{\n",
       "            background-color:  #f1e51d;\n",
       "            color:  #000000;\n",
       "            font-size:  15px;\n",
       "        }#T_62aafc65_01d6_11ec_b93c_eeb1a4cad014row29_col2{\n",
       "            background-color:  #365c8d;\n",
       "            color:  #f1f1f1;\n",
       "            font-size:  15px;\n",
       "        }#T_62aafc65_01d6_11ec_b93c_eeb1a4cad014row30_col0{\n",
       "            background-color:  #1f9e89;\n",
       "            color:  #000000;\n",
       "            font-size:  15px;\n",
       "        }#T_62aafc65_01d6_11ec_b93c_eeb1a4cad014row30_col1{\n",
       "            background-color:  #3b528b;\n",
       "            color:  #f1f1f1;\n",
       "            font-size:  15px;\n",
       "        }#T_62aafc65_01d6_11ec_b93c_eeb1a4cad014row30_col2{\n",
       "            background-color:  #443b84;\n",
       "            color:  #f1f1f1;\n",
       "            font-size:  15px;\n",
       "        }#T_62aafc65_01d6_11ec_b93c_eeb1a4cad014row31_col2{\n",
       "            background-color:  #1f968b;\n",
       "            color:  #000000;\n",
       "            font-size:  15px;\n",
       "        }#T_62aafc65_01d6_11ec_b93c_eeb1a4cad014row32_col0{\n",
       "            background-color:  #297b8e;\n",
       "            color:  #000000;\n",
       "            font-size:  15px;\n",
       "        }#T_62aafc65_01d6_11ec_b93c_eeb1a4cad014row32_col1{\n",
       "            background-color:  #21918c;\n",
       "            color:  #000000;\n",
       "            font-size:  15px;\n",
       "        }#T_62aafc65_01d6_11ec_b93c_eeb1a4cad014row33_col1{\n",
       "            background-color:  #3e4a89;\n",
       "            color:  #f1f1f1;\n",
       "            font-size:  15px;\n",
       "        }#T_62aafc65_01d6_11ec_b93c_eeb1a4cad014row33_col2{\n",
       "            background-color:  #481d6f;\n",
       "            color:  #f1f1f1;\n",
       "            font-size:  15px;\n",
       "        }#T_62aafc65_01d6_11ec_b93c_eeb1a4cad014row34_col0{\n",
       "            background-color:  #46327e;\n",
       "            color:  #f1f1f1;\n",
       "            font-size:  15px;\n",
       "        }#T_62aafc65_01d6_11ec_b93c_eeb1a4cad014row34_col2,#T_62aafc65_01d6_11ec_b93c_eeb1a4cad014row35_col0{\n",
       "            background-color:  #34618d;\n",
       "            color:  #f1f1f1;\n",
       "            font-size:  15px;\n",
       "        }#T_62aafc65_01d6_11ec_b93c_eeb1a4cad014row35_col2{\n",
       "            background-color:  #481668;\n",
       "            color:  #f1f1f1;\n",
       "            font-size:  15px;\n",
       "        }</style><table id=\"T_62aafc65_01d6_11ec_b93c_eeb1a4cad014\" ><thead>    <tr>        <th class=\"blank\" ></th>        <th class=\"blank\" ></th>        <th class=\"blank level0\" ></th>        <th class=\"col_heading level0 col0\" >Sales</th>        <th class=\"col_heading level0 col1\" >Profit</th>        <th class=\"col_heading level0 col2\" >Quantity</th>    </tr>    <tr>        <th class=\"blank\" ></th>        <th class=\"blank\" ></th>        <th class=\"blank level1\" ></th>        <th class=\"col_heading level1 col0\" >sum</th>        <th class=\"col_heading level1 col1\" >sum</th>        <th class=\"col_heading level1 col2\" >sum</th>    </tr>    <tr>        <th class=\"index_name level0\" >Region</th>        <th class=\"index_name level1\" >Segment</th>        <th class=\"index_name level2\" >Category</th>        <th class=\"blank\" ></th>        <th class=\"blank\" ></th>        <th class=\"blank\" ></th>    </tr></thead><tbody>\n",
       "                <tr>\n",
       "                        <th id=\"T_62aafc65_01d6_11ec_b93c_eeb1a4cad014level0_row0\" class=\"row_heading level0 row0\" rowspan=9>Central</th>\n",
       "                        <th id=\"T_62aafc65_01d6_11ec_b93c_eeb1a4cad014level1_row0\" class=\"row_heading level1 row0\" rowspan=3>Consumer</th>\n",
       "                        <th id=\"T_62aafc65_01d6_11ec_b93c_eeb1a4cad014level2_row0\" class=\"row_heading level2 row0\" >Furniture</th>\n",
       "                        <td id=\"T_62aafc65_01d6_11ec_b93c_eeb1a4cad014row0_col0\" class=\"data row0 col0\" >86229.219000</td>\n",
       "                        <td id=\"T_62aafc65_01d6_11ec_b93c_eeb1a4cad014row0_col1\" class=\"data row0 col1\" >-3994.434200</td>\n",
       "                        <td id=\"T_62aafc65_01d6_11ec_b93c_eeb1a4cad014row0_col2\" class=\"data row0 col2\" >952</td>\n",
       "            </tr>\n",
       "            <tr>\n",
       "                                        <th id=\"T_62aafc65_01d6_11ec_b93c_eeb1a4cad014level2_row1\" class=\"row_heading level2 row1\" >Office Supplies</th>\n",
       "                        <td id=\"T_62aafc65_01d6_11ec_b93c_eeb1a4cad014row1_col0\" class=\"data row1 col0\" >93111.479000</td>\n",
       "                        <td id=\"T_62aafc65_01d6_11ec_b93c_eeb1a4cad014row1_col1\" class=\"data row1 col1\" >2583.143200</td>\n",
       "                        <td id=\"T_62aafc65_01d6_11ec_b93c_eeb1a4cad014row1_col2\" class=\"data row1 col2\" >2777</td>\n",
       "            </tr>\n",
       "            <tr>\n",
       "                                        <th id=\"T_62aafc65_01d6_11ec_b93c_eeb1a4cad014level2_row2\" class=\"row_heading level2 row2\" >Technology</th>\n",
       "                        <td id=\"T_62aafc65_01d6_11ec_b93c_eeb1a4cad014row2_col0\" class=\"data row2 col0\" >72690.736000</td>\n",
       "                        <td id=\"T_62aafc65_01d6_11ec_b93c_eeb1a4cad014row2_col1\" class=\"data row2 col1\" >9975.339100</td>\n",
       "                        <td id=\"T_62aafc65_01d6_11ec_b93c_eeb1a4cad014row2_col2\" class=\"data row2 col2\" >790</td>\n",
       "            </tr>\n",
       "            <tr>\n",
       "                                <th id=\"T_62aafc65_01d6_11ec_b93c_eeb1a4cad014level1_row3\" class=\"row_heading level1 row3\" rowspan=3>Corporate</th>\n",
       "                        <th id=\"T_62aafc65_01d6_11ec_b93c_eeb1a4cad014level2_row3\" class=\"row_heading level2 row3\" >Furniture</th>\n",
       "                        <td id=\"T_62aafc65_01d6_11ec_b93c_eeb1a4cad014row3_col0\" class=\"data row3 col0\" >52085.601800</td>\n",
       "                        <td id=\"T_62aafc65_01d6_11ec_b93c_eeb1a4cad014row3_col1\" class=\"data row3 col1\" >2321.993900</td>\n",
       "                        <td id=\"T_62aafc65_01d6_11ec_b93c_eeb1a4cad014row3_col2\" class=\"data row3 col2\" >542</td>\n",
       "            </tr>\n",
       "            <tr>\n",
       "                                        <th id=\"T_62aafc65_01d6_11ec_b93c_eeb1a4cad014level2_row4\" class=\"row_heading level2 row4\" >Office Supplies</th>\n",
       "                        <td id=\"T_62aafc65_01d6_11ec_b93c_eeb1a4cad014row4_col0\" class=\"data row4 col0\" >41137.701000</td>\n",
       "                        <td id=\"T_62aafc65_01d6_11ec_b93c_eeb1a4cad014row4_col1\" class=\"data row4 col1\" >99.294800</td>\n",
       "                        <td id=\"T_62aafc65_01d6_11ec_b93c_eeb1a4cad014row4_col2\" class=\"data row4 col2\" >1605</td>\n",
       "            </tr>\n",
       "            <tr>\n",
       "                                        <th id=\"T_62aafc65_01d6_11ec_b93c_eeb1a4cad014level2_row5\" class=\"row_heading level2 row5\" >Technology</th>\n",
       "                        <td id=\"T_62aafc65_01d6_11ec_b93c_eeb1a4cad014row5_col0\" class=\"data row5 col0\" >64772.510000</td>\n",
       "                        <td id=\"T_62aafc65_01d6_11ec_b93c_eeb1a4cad014row5_col1\" class=\"data row5 col1\" >16282.613300</td>\n",
       "                        <td id=\"T_62aafc65_01d6_11ec_b93c_eeb1a4cad014row5_col2\" class=\"data row5 col2\" >457</td>\n",
       "            </tr>\n",
       "            <tr>\n",
       "                                <th id=\"T_62aafc65_01d6_11ec_b93c_eeb1a4cad014level1_row6\" class=\"row_heading level1 row6\" rowspan=3>Home Office</th>\n",
       "                        <th id=\"T_62aafc65_01d6_11ec_b93c_eeb1a4cad014level2_row6\" class=\"row_heading level2 row6\" >Furniture</th>\n",
       "                        <td id=\"T_62aafc65_01d6_11ec_b93c_eeb1a4cad014row6_col0\" class=\"data row6 col0\" >25482.343000</td>\n",
       "                        <td id=\"T_62aafc65_01d6_11ec_b93c_eeb1a4cad014row6_col1\" class=\"data row6 col1\" >-1198.609100</td>\n",
       "                        <td id=\"T_62aafc65_01d6_11ec_b93c_eeb1a4cad014row6_col2\" class=\"data row6 col2\" >333</td>\n",
       "            </tr>\n",
       "            <tr>\n",
       "                                        <th id=\"T_62aafc65_01d6_11ec_b93c_eeb1a4cad014level2_row7\" class=\"row_heading level2 row7\" >Office Supplies</th>\n",
       "                        <td id=\"T_62aafc65_01d6_11ec_b93c_eeb1a4cad014row7_col0\" class=\"data row7 col0\" >32777.235000</td>\n",
       "                        <td id=\"T_62aafc65_01d6_11ec_b93c_eeb1a4cad014row7_col1\" class=\"data row7 col1\" >6197.541900</td>\n",
       "                        <td id=\"T_62aafc65_01d6_11ec_b93c_eeb1a4cad014row7_col2\" class=\"data row7 col2\" >1027</td>\n",
       "            </tr>\n",
       "            <tr>\n",
       "                                        <th id=\"T_62aafc65_01d6_11ec_b93c_eeb1a4cad014level2_row8\" class=\"row_heading level2 row8\" >Technology</th>\n",
       "                        <td id=\"T_62aafc65_01d6_11ec_b93c_eeb1a4cad014row8_col0\" class=\"data row8 col0\" >32953.066000</td>\n",
       "                        <td id=\"T_62aafc65_01d6_11ec_b93c_eeb1a4cad014row8_col1\" class=\"data row8 col1\" >7439.479600</td>\n",
       "                        <td id=\"T_62aafc65_01d6_11ec_b93c_eeb1a4cad014row8_col2\" class=\"data row8 col2\" >297</td>\n",
       "            </tr>\n",
       "            <tr>\n",
       "                        <th id=\"T_62aafc65_01d6_11ec_b93c_eeb1a4cad014level0_row9\" class=\"row_heading level0 row9\" rowspan=9>East</th>\n",
       "                        <th id=\"T_62aafc65_01d6_11ec_b93c_eeb1a4cad014level1_row9\" class=\"row_heading level1 row9\" rowspan=3>Consumer</th>\n",
       "                        <th id=\"T_62aafc65_01d6_11ec_b93c_eeb1a4cad014level2_row9\" class=\"row_heading level2 row9\" >Furniture</th>\n",
       "                        <td id=\"T_62aafc65_01d6_11ec_b93c_eeb1a4cad014row9_col0\" class=\"data row9 col0\" >114211.802000</td>\n",
       "                        <td id=\"T_62aafc65_01d6_11ec_b93c_eeb1a4cad014row9_col1\" class=\"data row9 col1\" >2038.112200</td>\n",
       "                        <td id=\"T_62aafc65_01d6_11ec_b93c_eeb1a4cad014row9_col2\" class=\"data row9 col2\" >1114</td>\n",
       "            </tr>\n",
       "            <tr>\n",
       "                                        <th id=\"T_62aafc65_01d6_11ec_b93c_eeb1a4cad014level2_row10\" class=\"row_heading level2 row10\" >Office Supplies</th>\n",
       "                        <td id=\"T_62aafc65_01d6_11ec_b93c_eeb1a4cad014row10_col0\" class=\"data row10 col0\" >101255.136000</td>\n",
       "                        <td id=\"T_62aafc65_01d6_11ec_b93c_eeb1a4cad014row10_col1\" class=\"data row10 col1\" >19222.692700</td>\n",
       "                        <td id=\"T_62aafc65_01d6_11ec_b93c_eeb1a4cad014row10_col2\" class=\"data row10 col2\" >3245</td>\n",
       "            </tr>\n",
       "            <tr>\n",
       "                                        <th id=\"T_62aafc65_01d6_11ec_b93c_eeb1a4cad014level2_row11\" class=\"row_heading level2 row11\" >Technology</th>\n",
       "                        <td id=\"T_62aafc65_01d6_11ec_b93c_eeb1a4cad014row11_col0\" class=\"data row11 col0\" >135441.229000</td>\n",
       "                        <td id=\"T_62aafc65_01d6_11ec_b93c_eeb1a4cad014row11_col1\" class=\"data row11 col1\" >19930.179400</td>\n",
       "                        <td id=\"T_62aafc65_01d6_11ec_b93c_eeb1a4cad014row11_col2\" class=\"data row11 col2\" >988</td>\n",
       "            </tr>\n",
       "            <tr>\n",
       "                                <th id=\"T_62aafc65_01d6_11ec_b93c_eeb1a4cad014level1_row12\" class=\"row_heading level1 row12\" rowspan=3>Corporate</th>\n",
       "                        <th id=\"T_62aafc65_01d6_11ec_b93c_eeb1a4cad014level2_row12\" class=\"row_heading level2 row12\" >Furniture</th>\n",
       "                        <td id=\"T_62aafc65_01d6_11ec_b93c_eeb1a4cad014row12_col0\" class=\"data row12 col0\" >64209.046000</td>\n",
       "                        <td id=\"T_62aafc65_01d6_11ec_b93c_eeb1a4cad014row12_col1\" class=\"data row12 col1\" >342.125700</td>\n",
       "                        <td id=\"T_62aafc65_01d6_11ec_b93c_eeb1a4cad014row12_col2\" class=\"data row12 col2\" >723</td>\n",
       "            </tr>\n",
       "            <tr>\n",
       "                                        <th id=\"T_62aafc65_01d6_11ec_b93c_eeb1a4cad014level2_row13\" class=\"row_heading level2 row13\" >Office Supplies</th>\n",
       "                        <td id=\"T_62aafc65_01d6_11ec_b93c_eeb1a4cad014row13_col0\" class=\"data row13 col0\" >66474.735000</td>\n",
       "                        <td id=\"T_62aafc65_01d6_11ec_b93c_eeb1a4cad014row13_col1\" class=\"data row13 col1\" >13457.665000</td>\n",
       "                        <td id=\"T_62aafc65_01d6_11ec_b93c_eeb1a4cad014row13_col2\" class=\"data row13 col2\" >2035</td>\n",
       "            </tr>\n",
       "            <tr>\n",
       "                                        <th id=\"T_62aafc65_01d6_11ec_b93c_eeb1a4cad014level2_row14\" class=\"row_heading level2 row14\" >Technology</th>\n",
       "                        <td id=\"T_62aafc65_01d6_11ec_b93c_eeb1a4cad014row14_col0\" class=\"data row14 col0\" >69725.566000</td>\n",
       "                        <td id=\"T_62aafc65_01d6_11ec_b93c_eeb1a4cad014row14_col1\" class=\"data row14 col1\" >9822.788200</td>\n",
       "                        <td id=\"T_62aafc65_01d6_11ec_b93c_eeb1a4cad014row14_col2\" class=\"data row14 col2\" >600</td>\n",
       "            </tr>\n",
       "            <tr>\n",
       "                                <th id=\"T_62aafc65_01d6_11ec_b93c_eeb1a4cad014level1_row15\" class=\"row_heading level1 row15\" rowspan=3>Home Office</th>\n",
       "                        <th id=\"T_62aafc65_01d6_11ec_b93c_eeb1a4cad014level2_row15\" class=\"row_heading level2 row15\" >Furniture</th>\n",
       "                        <td id=\"T_62aafc65_01d6_11ec_b93c_eeb1a4cad014row15_col0\" class=\"data row15 col0\" >29870.356000</td>\n",
       "                        <td id=\"T_62aafc65_01d6_11ec_b93c_eeb1a4cad014row15_col1\" class=\"data row15 col1\" >665.927900</td>\n",
       "                        <td id=\"T_62aafc65_01d6_11ec_b93c_eeb1a4cad014row15_col2\" class=\"data row15 col2\" >377</td>\n",
       "            </tr>\n",
       "            <tr>\n",
       "                                        <th id=\"T_62aafc65_01d6_11ec_b93c_eeb1a4cad014level2_row16\" class=\"row_heading level2 row16\" >Office Supplies</th>\n",
       "                        <td id=\"T_62aafc65_01d6_11ec_b93c_eeb1a4cad014row16_col0\" class=\"data row16 col0\" >37786.184000</td>\n",
       "                        <td id=\"T_62aafc65_01d6_11ec_b93c_eeb1a4cad014row16_col1\" class=\"data row16 col1\" >8334.221400</td>\n",
       "                        <td id=\"T_62aafc65_01d6_11ec_b93c_eeb1a4cad014row16_col2\" class=\"data row16 col2\" >1182</td>\n",
       "            </tr>\n",
       "            <tr>\n",
       "                                        <th id=\"T_62aafc65_01d6_11ec_b93c_eeb1a4cad014level2_row17\" class=\"row_heading level2 row17\" >Technology</th>\n",
       "                        <td id=\"T_62aafc65_01d6_11ec_b93c_eeb1a4cad014row17_col0\" class=\"data row17 col0\" >59807.186000</td>\n",
       "                        <td id=\"T_62aafc65_01d6_11ec_b93c_eeb1a4cad014row17_col1\" class=\"data row17 col1\" >17709.067500</td>\n",
       "                        <td id=\"T_62aafc65_01d6_11ec_b93c_eeb1a4cad014row17_col2\" class=\"data row17 col2\" >354</td>\n",
       "            </tr>\n",
       "            <tr>\n",
       "                        <th id=\"T_62aafc65_01d6_11ec_b93c_eeb1a4cad014level0_row18\" class=\"row_heading level0 row18\" rowspan=9>South</th>\n",
       "                        <th id=\"T_62aafc65_01d6_11ec_b93c_eeb1a4cad014level1_row18\" class=\"row_heading level1 row18\" rowspan=3>Consumer</th>\n",
       "                        <th id=\"T_62aafc65_01d6_11ec_b93c_eeb1a4cad014level2_row18\" class=\"row_heading level2 row18\" >Furniture</th>\n",
       "                        <td id=\"T_62aafc65_01d6_11ec_b93c_eeb1a4cad014row18_col0\" class=\"data row18 col0\" >70800.204000</td>\n",
       "                        <td id=\"T_62aafc65_01d6_11ec_b93c_eeb1a4cad014row18_col1\" class=\"data row18 col1\" >4616.732600</td>\n",
       "                        <td id=\"T_62aafc65_01d6_11ec_b93c_eeb1a4cad014row18_col2\" class=\"data row18 col2\" >695</td>\n",
       "            </tr>\n",
       "            <tr>\n",
       "                                        <th id=\"T_62aafc65_01d6_11ec_b93c_eeb1a4cad014level2_row19\" class=\"row_heading level2 row19\" >Office Supplies</th>\n",
       "                        <td id=\"T_62aafc65_01d6_11ec_b93c_eeb1a4cad014row19_col0\" class=\"data row19 col0\" >59504.581000</td>\n",
       "                        <td id=\"T_62aafc65_01d6_11ec_b93c_eeb1a4cad014row19_col1\" class=\"data row19 col1\" >9190.117200</td>\n",
       "                        <td id=\"T_62aafc65_01d6_11ec_b93c_eeb1a4cad014row19_col2\" class=\"data row19 col2\" >1899</td>\n",
       "            </tr>\n",
       "            <tr>\n",
       "                                        <th id=\"T_62aafc65_01d6_11ec_b93c_eeb1a4cad014level2_row20\" class=\"row_heading level2 row20\" >Technology</th>\n",
       "                        <td id=\"T_62aafc65_01d6_11ec_b93c_eeb1a4cad014row20_col0\" class=\"data row20 col0\" >65276.186000</td>\n",
       "                        <td id=\"T_62aafc65_01d6_11ec_b93c_eeb1a4cad014row20_col1\" class=\"data row20 col1\" >13106.723000</td>\n",
       "                        <td id=\"T_62aafc65_01d6_11ec_b93c_eeb1a4cad014row20_col2\" class=\"data row20 col2\" >584</td>\n",
       "            </tr>\n",
       "            <tr>\n",
       "                                <th id=\"T_62aafc65_01d6_11ec_b93c_eeb1a4cad014level1_row21\" class=\"row_heading level1 row21\" rowspan=3>Corporate</th>\n",
       "                        <th id=\"T_62aafc65_01d6_11ec_b93c_eeb1a4cad014level2_row21\" class=\"row_heading level2 row21\" >Furniture</th>\n",
       "                        <td id=\"T_62aafc65_01d6_11ec_b93c_eeb1a4cad014row21_col0\" class=\"data row21 col0\" >29645.031500</td>\n",
       "                        <td id=\"T_62aafc65_01d6_11ec_b93c_eeb1a4cad014row21_col1\" class=\"data row21 col1\" >952.030300</td>\n",
       "                        <td id=\"T_62aafc65_01d6_11ec_b93c_eeb1a4cad014row21_col2\" class=\"data row21 col2\" >415</td>\n",
       "            </tr>\n",
       "            <tr>\n",
       "                                        <th id=\"T_62aafc65_01d6_11ec_b93c_eeb1a4cad014level2_row22\" class=\"row_heading level2 row22\" >Office Supplies</th>\n",
       "                        <td id=\"T_62aafc65_01d6_11ec_b93c_eeb1a4cad014row22_col0\" class=\"data row22 col0\" >45930.170000</td>\n",
       "                        <td id=\"T_62aafc65_01d6_11ec_b93c_eeb1a4cad014row22_col1\" class=\"data row22 col1\" >8142.659600</td>\n",
       "                        <td id=\"T_62aafc65_01d6_11ec_b93c_eeb1a4cad014row22_col2\" class=\"data row22 col2\" >1281</td>\n",
       "            </tr>\n",
       "            <tr>\n",
       "                                        <th id=\"T_62aafc65_01d6_11ec_b93c_eeb1a4cad014level2_row23\" class=\"row_heading level2 row23\" >Technology</th>\n",
       "                        <td id=\"T_62aafc65_01d6_11ec_b93c_eeb1a4cad014row23_col0\" class=\"data row23 col0\" >46310.731000</td>\n",
       "                        <td id=\"T_62aafc65_01d6_11ec_b93c_eeb1a4cad014row23_col1\" class=\"data row23 col1\" >6120.533300</td>\n",
       "                        <td id=\"T_62aafc65_01d6_11ec_b93c_eeb1a4cad014row23_col2\" class=\"data row23 col2\" >320</td>\n",
       "            </tr>\n",
       "            <tr>\n",
       "                                <th id=\"T_62aafc65_01d6_11ec_b93c_eeb1a4cad014level1_row24\" class=\"row_heading level1 row24\" rowspan=3>Home Office</th>\n",
       "                        <th id=\"T_62aafc65_01d6_11ec_b93c_eeb1a4cad014level2_row24\" class=\"row_heading level2 row24\" >Furniture</th>\n",
       "                        <td id=\"T_62aafc65_01d6_11ec_b93c_eeb1a4cad014row24_col0\" class=\"data row24 col0\" >16853.448500</td>\n",
       "                        <td id=\"T_62aafc65_01d6_11ec_b93c_eeb1a4cad014row24_col1\" class=\"data row24 col1\" >1202.443200</td>\n",
       "                        <td id=\"T_62aafc65_01d6_11ec_b93c_eeb1a4cad014row24_col2\" class=\"data row24 col2\" >181</td>\n",
       "            </tr>\n",
       "            <tr>\n",
       "                                        <th id=\"T_62aafc65_01d6_11ec_b93c_eeb1a4cad014level2_row25\" class=\"row_heading level2 row25\" >Office Supplies</th>\n",
       "                        <td id=\"T_62aafc65_01d6_11ec_b93c_eeb1a4cad014row25_col0\" class=\"data row25 col0\" >20216.562000</td>\n",
       "                        <td id=\"T_62aafc65_01d6_11ec_b93c_eeb1a4cad014row25_col1\" class=\"data row25 col1\" >2653.616000</td>\n",
       "                        <td id=\"T_62aafc65_01d6_11ec_b93c_eeb1a4cad014row25_col2\" class=\"data row25 col2\" >620</td>\n",
       "            </tr>\n",
       "            <tr>\n",
       "                                        <th id=\"T_62aafc65_01d6_11ec_b93c_eeb1a4cad014level2_row26\" class=\"row_heading level2 row26\" >Technology</th>\n",
       "                        <td id=\"T_62aafc65_01d6_11ec_b93c_eeb1a4cad014row26_col0\" class=\"data row26 col0\" >37184.991000</td>\n",
       "                        <td id=\"T_62aafc65_01d6_11ec_b93c_eeb1a4cad014row26_col1\" class=\"data row26 col1\" >764.575100</td>\n",
       "                        <td id=\"T_62aafc65_01d6_11ec_b93c_eeb1a4cad014row26_col2\" class=\"data row26 col2\" >214</td>\n",
       "            </tr>\n",
       "            <tr>\n",
       "                        <th id=\"T_62aafc65_01d6_11ec_b93c_eeb1a4cad014level0_row27\" class=\"row_heading level0 row27\" rowspan=9>West</th>\n",
       "                        <th id=\"T_62aafc65_01d6_11ec_b93c_eeb1a4cad014level1_row27\" class=\"row_heading level1 row27\" rowspan=3>Consumer</th>\n",
       "                        <th id=\"T_62aafc65_01d6_11ec_b93c_eeb1a4cad014level2_row27\" class=\"row_heading level2 row27\" >Furniture</th>\n",
       "                        <td id=\"T_62aafc65_01d6_11ec_b93c_eeb1a4cad014row27_col0\" class=\"data row27 col0\" >119808.087000</td>\n",
       "                        <td id=\"T_62aafc65_01d6_11ec_b93c_eeb1a4cad014row27_col1\" class=\"data row27 col1\" >4330.668000</td>\n",
       "                        <td id=\"T_62aafc65_01d6_11ec_b93c_eeb1a4cad014row27_col2\" class=\"data row27 col2\" >1405</td>\n",
       "            </tr>\n",
       "            <tr>\n",
       "                                        <th id=\"T_62aafc65_01d6_11ec_b93c_eeb1a4cad014level2_row28\" class=\"row_heading level2 row28\" >Office Supplies</th>\n",
       "                        <td id=\"T_62aafc65_01d6_11ec_b93c_eeb1a4cad014row28_col0\" class=\"data row28 col0\" >110080.940000</td>\n",
       "                        <td id=\"T_62aafc65_01d6_11ec_b93c_eeb1a4cad014row28_col1\" class=\"data row28 col1\" >25334.367900</td>\n",
       "                        <td id=\"T_62aafc65_01d6_11ec_b93c_eeb1a4cad014row28_col2\" class=\"data row28 col2\" >3837</td>\n",
       "            </tr>\n",
       "            <tr>\n",
       "                                        <th id=\"T_62aafc65_01d6_11ec_b93c_eeb1a4cad014level2_row29\" class=\"row_heading level2 row29\" >Technology</th>\n",
       "                        <td id=\"T_62aafc65_01d6_11ec_b93c_eeb1a4cad014row29_col0\" class=\"data row29 col0\" >132991.746000</td>\n",
       "                        <td id=\"T_62aafc65_01d6_11ec_b93c_eeb1a4cad014row29_col1\" class=\"data row29 col1\" >27785.568100</td>\n",
       "                        <td id=\"T_62aafc65_01d6_11ec_b93c_eeb1a4cad014row29_col2\" class=\"data row29 col2\" >1235</td>\n",
       "            </tr>\n",
       "            <tr>\n",
       "                                <th id=\"T_62aafc65_01d6_11ec_b93c_eeb1a4cad014level1_row30\" class=\"row_heading level1 row30\" rowspan=3>Corporate</th>\n",
       "                        <th id=\"T_62aafc65_01d6_11ec_b93c_eeb1a4cad014level2_row30\" class=\"row_heading level2 row30\" >Furniture</th>\n",
       "                        <td id=\"T_62aafc65_01d6_11ec_b93c_eeb1a4cad014row30_col0\" class=\"data row30 col0\" >83080.106500</td>\n",
       "                        <td id=\"T_62aafc65_01d6_11ec_b93c_eeb1a4cad014row30_col1\" class=\"data row30 col1\" >3968.665900</td>\n",
       "                        <td id=\"T_62aafc65_01d6_11ec_b93c_eeb1a4cad014row30_col2\" class=\"data row30 col2\" >815</td>\n",
       "            </tr>\n",
       "            <tr>\n",
       "                                        <th id=\"T_62aafc65_01d6_11ec_b93c_eeb1a4cad014level2_row31\" class=\"row_heading level2 row31\" >Office Supplies</th>\n",
       "                        <td id=\"T_62aafc65_01d6_11ec_b93c_eeb1a4cad014row31_col0\" class=\"data row31 col0\" >77133.856000</td>\n",
       "                        <td id=\"T_62aafc65_01d6_11ec_b93c_eeb1a4cad014row31_col1\" class=\"data row31 col1\" >18527.700800</td>\n",
       "                        <td id=\"T_62aafc65_01d6_11ec_b93c_eeb1a4cad014row31_col2\" class=\"data row31 col2\" >2097</td>\n",
       "            </tr>\n",
       "            <tr>\n",
       "                                        <th id=\"T_62aafc65_01d6_11ec_b93c_eeb1a4cad014level2_row32\" class=\"row_heading level2 row32\" >Technology</th>\n",
       "                        <td id=\"T_62aafc65_01d6_11ec_b93c_eeb1a4cad014row32_col0\" class=\"data row32 col0\" >65641.312000</td>\n",
       "                        <td id=\"T_62aafc65_01d6_11ec_b93c_eeb1a4cad014row32_col1\" class=\"data row32 col1\" >11941.063200</td>\n",
       "                        <td id=\"T_62aafc65_01d6_11ec_b93c_eeb1a4cad014row32_col2\" class=\"data row32 col2\" >718</td>\n",
       "            </tr>\n",
       "            <tr>\n",
       "                                <th id=\"T_62aafc65_01d6_11ec_b93c_eeb1a4cad014level1_row33\" class=\"row_heading level1 row33\" rowspan=3>Home Office</th>\n",
       "                        <th id=\"T_62aafc65_01d6_11ec_b93c_eeb1a4cad014level2_row33\" class=\"row_heading level2 row33\" >Furniture</th>\n",
       "                        <td id=\"T_62aafc65_01d6_11ec_b93c_eeb1a4cad014row33_col0\" class=\"data row33 col0\" >49724.550000</td>\n",
       "                        <td id=\"T_62aafc65_01d6_11ec_b93c_eeb1a4cad014row33_col1\" class=\"data row33 col1\" >3205.616400</td>\n",
       "                        <td id=\"T_62aafc65_01d6_11ec_b93c_eeb1a4cad014row33_col2\" class=\"data row33 col2\" >476</td>\n",
       "            </tr>\n",
       "            <tr>\n",
       "                                        <th id=\"T_62aafc65_01d6_11ec_b93c_eeb1a4cad014level2_row34\" class=\"row_heading level2 row34\" >Office Supplies</th>\n",
       "                        <td id=\"T_62aafc65_01d6_11ec_b93c_eeb1a4cad014row34_col0\" class=\"data row34 col0\" >33638.453000</td>\n",
       "                        <td id=\"T_62aafc65_01d6_11ec_b93c_eeb1a4cad014row34_col1\" class=\"data row34 col1\" >8747.780300</td>\n",
       "                        <td id=\"T_62aafc65_01d6_11ec_b93c_eeb1a4cad014row34_col2\" class=\"data row34 col2\" >1301</td>\n",
       "            </tr>\n",
       "            <tr>\n",
       "                                        <th id=\"T_62aafc65_01d6_11ec_b93c_eeb1a4cad014level2_row35\" class=\"row_heading level2 row35\" >Technology</th>\n",
       "                        <td id=\"T_62aafc65_01d6_11ec_b93c_eeb1a4cad014row35_col0\" class=\"data row35 col0\" >53358.774000</td>\n",
       "                        <td id=\"T_62aafc65_01d6_11ec_b93c_eeb1a4cad014row35_col1\" class=\"data row35 col1\" >4577.018300</td>\n",
       "                        <td id=\"T_62aafc65_01d6_11ec_b93c_eeb1a4cad014row35_col2\" class=\"data row35 col2\" >382</td>\n",
       "            </tr>\n",
       "    </tbody></table>"
      ],
      "text/plain": [
       "<pandas.io.formats.style.Styler at 0x1dac186cd60>"
      ]
     },
     "execution_count": 72,
     "metadata": {},
     "output_type": "execute_result"
    }
   ],
   "source": [
    "Table=dataset.groupby(['Region','Segment','Category']).agg({'Sales':['sum'],'Profit':['sum'],'Quantity':['sum']})\n",
    "Table.style.background_gradient(cmap ='viridis')\\\n",
    "        .set_properties(**{'font-size': '15px'})"
   ]
  },
  {
   "cell_type": "markdown",
   "metadata": {},
   "source": [
    "#### Conclusion\n",
    "* The furniture sold in the Consumer and Corporate Segment in the Central Region is in overall loss\n",
    "* All the other transactions are in Profit.\n",
    "* There is an extremely high demand of office supplies by the consumers in the West and East."
   ]
  },
  {
   "cell_type": "markdown",
   "metadata": {},
   "source": [
    "### Lets Summarize\n",
    "\n",
    "______________________________________________________________________________________\n",
    "We analyzed how sales and profit sold varies region-wise and segment-wise, category-wise.\n",
    "\n",
    "We analzed how profit varies with discount in each division.\n",
    "\n",
    "We analyzed how Sales, Profit and Quantity varied for each category in the each segment regionwise."
   ]
  },
  {
   "cell_type": "markdown",
   "metadata": {},
   "source": [
    "## We learn that\n",
    "* Technological items are in demand. So if production in this field will be more, then company will attain greater profit.\n",
    "\n",
    "* Profit gain is highest in Consumer segment. So the Company must emphasise more in the Consumer segment.\n",
    "\n",
    "* There is an extremely high demand of office supplies by the consumers in the West and East.Company can increase product supply.\n",
    "\n",
    "* West Region has the maximum Profit followed by East, South and Central.Adequate Marketing Strategies should be implemented to boost Sales. \n",
    "\n",
    "* California and New York have the highest Profit and Demand. Product Supply must be ensured to further increase sales and profit."
   ]
  }
 ],
 "metadata": {
  "kernelspec": {
   "display_name": "Python 3",
   "language": "python",
   "name": "python3"
  },
  "language_info": {
   "codemirror_mode": {
    "name": "ipython",
    "version": 3
   },
   "file_extension": ".py",
   "mimetype": "text/x-python",
   "name": "python",
   "nbconvert_exporter": "python",
   "pygments_lexer": "ipython3",
   "version": "3.8.5"
  }
 },
 "nbformat": 4,
 "nbformat_minor": 4
}
